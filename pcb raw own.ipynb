{
  "nbformat": 4,
  "nbformat_minor": 0,
  "metadata": {
    "colab": {
      "name": "pcb.ipynb",
      "provenance": [],
      "collapsed_sections": [],
      "machine_shape": "hm",
      "authorship_tag": "ABX9TyPhHbC8rkygT94rmxSjEv6D",
      "include_colab_link": true
    },
    "kernelspec": {
      "name": "python3",
      "display_name": "Python 3"
    }
  },
  "cells": [
    {
      "cell_type": "markdown",
      "metadata": {
        "id": "view-in-github",
        "colab_type": "text"
      },
      "source": [
        "<a href=\"https://colab.research.google.com/github/gundasai/deeplearning/blob/master/pcb%20raw%20own.ipynb\" target=\"_parent\"><img src=\"https://colab.research.google.com/assets/colab-badge.svg\" alt=\"Open In Colab\"/></a>"
      ]
    },
    {
      "cell_type": "code",
      "metadata": {
        "id": "HHUGSQlsWSh_",
        "colab_type": "code",
        "outputId": "56662136-31ea-488a-c48f-95302adf5a16",
        "colab": {
          "base_uri": "https://localhost:8080/",
          "height": 34
        }
      },
      "source": [
        "from google.colab import drive\n",
        "drive.mount('/content/drive/')"
      ],
      "execution_count": 21,
      "outputs": [
        {
          "output_type": "stream",
          "text": [
            "Drive already mounted at /content/drive/; to attempt to forcibly remount, call drive.mount(\"/content/drive/\", force_remount=True).\n"
          ],
          "name": "stdout"
        }
      ]
    },
    {
      "cell_type": "code",
      "metadata": {
        "id": "GKvlAsT-WUQ5",
        "colab_type": "code",
        "outputId": "93a2ccec-88f7-4907-8348-8ee0cd7f1fb5",
        "colab": {
          "base_uri": "https://localhost:8080/",
          "height": 34
        }
      },
      "source": [
        "import os\n",
        "os.chdir('/content/drive/My Drive/Raw_PCB')\n",
        "os.getcwd()"
      ],
      "execution_count": 22,
      "outputs": [
        {
          "output_type": "execute_result",
          "data": {
            "text/plain": [
              "'/content/drive/My Drive/Raw_PCB'"
            ]
          },
          "metadata": {
            "tags": []
          },
          "execution_count": 22
        }
      ]
    },
    {
      "cell_type": "code",
      "metadata": {
        "id": "37UzVvAdXn01",
        "colab_type": "code",
        "outputId": "ec2b8c78-b541-4aa4-ce0b-e8918bbd7a7a",
        "colab": {
          "base_uri": "https://localhost:8080/",
          "height": 51
        }
      },
      "source": [
        "import numpy as np\n",
        "a=np.load(\"s_x_train.npy\")\n",
        "b=np.load(\"s_y_train.npy\")\n",
        "print(a.shape)\n",
        "print(b.shape)"
      ],
      "execution_count": 23,
      "outputs": [
        {
          "output_type": "stream",
          "text": [
            "(2669, 300, 300, 3)\n",
            "(2669,)\n"
          ],
          "name": "stdout"
        }
      ]
    },
    {
      "cell_type": "code",
      "metadata": {
        "id": "lQ17yhZHk6QJ",
        "colab_type": "code",
        "colab": {}
      },
      "source": [
        "from sklearn.utils import shuffle\n",
        "(a,b)=shuffle(a,b)"
      ],
      "execution_count": 0,
      "outputs": []
    },
    {
      "cell_type": "code",
      "metadata": {
        "id": "YdnJAsohlOIw",
        "colab_type": "code",
        "colab": {}
      },
      "source": [
        "from sklearn.model_selection import train_test_split\n",
        "xtrain, xtest, ytrain, ytest = train_test_split(a, b, test_size=0.33, random_state=42)"
      ],
      "execution_count": 0,
      "outputs": []
    },
    {
      "cell_type": "code",
      "metadata": {
        "id": "Mp0nhPonla5W",
        "colab_type": "code",
        "outputId": "2ffb3bfa-1d73-46fd-87d3-10d23da3ce64",
        "colab": {
          "base_uri": "https://localhost:8080/",
          "height": 187
        }
      },
      "source": [
        "print(xtrain.shape)\n",
        "print(ytrain.shape)\n",
        "\n",
        "print(xtest.shape)\n",
        "print(ytest.shape)\n",
        "\n",
        "print(xtrain.ndim)\n",
        "print(xtrain.dtype)\n",
        "\n",
        "print(xtrain.ndim)\n",
        "print(xtrain.dtype)\n",
        "\n",
        "print(xtest.ndim)\n",
        "print(xtest.dtype)"
      ],
      "execution_count": 26,
      "outputs": [
        {
          "output_type": "stream",
          "text": [
            "(1788, 300, 300, 3)\n",
            "(1788,)\n",
            "(881, 300, 300, 3)\n",
            "(881,)\n",
            "4\n",
            "uint8\n",
            "4\n",
            "uint8\n",
            "4\n",
            "uint8\n"
          ],
          "name": "stdout"
        }
      ]
    },
    {
      "cell_type": "code",
      "metadata": {
        "id": "MfvN3JB5li5N",
        "colab_type": "code",
        "outputId": "cd222722-52cb-4b6c-a6b8-90f7a39ca7f9",
        "colab": {
          "base_uri": "https://localhost:8080/",
          "height": 286
        }
      },
      "source": [
        "import matplotlib.pyplot as plt\n",
        "%matplotlib inline\n",
        "plt.imshow(xtest[0], cmap='brg')"
      ],
      "execution_count": 27,
      "outputs": [
        {
          "output_type": "execute_result",
          "data": {
            "text/plain": [
              "<matplotlib.image.AxesImage at 0x7fa7975cf7f0>"
            ]
          },
          "metadata": {
            "tags": []
          },
          "execution_count": 27
        },
        {
          "output_type": "display_data",
          "data": {
            "image/png": "[encoded data removed]",
            "text/plain": [
              "<Figure size 432x288 with 1 Axes>"
            ]
          },
          "metadata": {
            "tags": []
          }
        }
      ]
    },
    {
      "cell_type": "code",
      "metadata": {
        "id": "cywzizBjYCtv",
        "colab_type": "code",
        "colab": {}
      },
      "source": [
        "xtrain = xtrain.astype('float32')\n",
        "xtest  = xtest.astype('float32')"
      ],
      "execution_count": 0,
      "outputs": []
    },
    {
      "cell_type": "code",
      "metadata": {
        "id": "utnO5aUQlhfX",
        "colab_type": "code",
        "outputId": "164c2395-fcba-4475-e5f0-808dd6f40664",
        "colab": {
          "base_uri": "https://localhost:8080/",
          "height": 51
        }
      },
      "source": [
        "print(xtrain.shape)\n",
        "print(ytrain.shape)"
      ],
      "execution_count": 29,
      "outputs": [
        {
          "output_type": "stream",
          "text": [
            "(1788, 300, 300, 3)\n",
            "(1788,)\n"
          ],
          "name": "stdout"
        }
      ]
    },
    {
      "cell_type": "code",
      "metadata": {
        "id": "jesVesSFkuRn",
        "colab_type": "code",
        "outputId": "60d858b7-a0c8-4e39-902a-72a03677967f",
        "colab": {
          "base_uri": "https://localhost:8080/",
          "height": 153
        }
      },
      "source": [
        "#keras.utils.normalize(a, axis=-1, order=2)\n",
        "print (np.max(xtrain),np.max(xtest))\n",
        "print (np.min(xtrain),np.min(xtest))\n",
        "\n",
        "print (np.max(ytrain),np.max(ytest))\n",
        "print (np.min(ytrain),np.min(ytest))\n",
        "\n",
        "mean = np.mean(xtrain)\n",
        "std  = np.std(xtrain)\n",
        "\n",
        "print(mean)\n",
        "print(std)\n",
        "\n",
        "xtrain -= mean\n",
        "xtrain /= std\n",
        "\n",
        "xtest -= mean\n",
        "xtest /= std\n",
        "\n",
        "print (np.max(xtrain),np.max(xtest))\n",
        "print (np.min(xtrain),np.min(xtest))"
      ],
      "execution_count": 30,
      "outputs": [
        {
          "output_type": "stream",
          "text": [
            "255.0 255.0\n",
            "0.0 0.0\n",
            "1.0 1.0\n",
            "0.0 0.0\n",
            "51.23413\n",
            "54.232067\n",
            "3.757295 3.757295\n",
            "-0.9447202 -0.9447202\n"
          ],
          "name": "stdout"
        }
      ]
    },
    {
      "cell_type": "code",
      "metadata": {
        "id": "5zruw2E0nKJZ",
        "colab_type": "code",
        "outputId": "3d541295-db4f-4752-f7aa-07f18aae396f",
        "colab": {
          "base_uri": "https://localhost:8080/",
          "height": 34
        }
      },
      "source": [
        "from keras.utils import to_categorical\n",
        "ytrain = to_categorical(ytrain)\n",
        "ytest  =  to_categorical(ytest)\n",
        "print(ytest[0])"
      ],
      "execution_count": 31,
      "outputs": [
        {
          "output_type": "stream",
          "text": [
            "[1. 0.]\n"
          ],
          "name": "stdout"
        }
      ]
    },
    {
      "cell_type": "code",
      "metadata": {
        "id": "o8wKBCzLoxBa",
        "colab_type": "code",
        "outputId": "b021f32f-602c-48e4-986c-27649b0bbd54",
        "colab": {
          "base_uri": "https://localhost:8080/",
          "height": 51
        }
      },
      "source": [
        "print(xtrain.shape)\n",
        "print(ytrain.shape)"
      ],
      "execution_count": 32,
      "outputs": [
        {
          "output_type": "stream",
          "text": [
            "(1788, 300, 300, 3)\n",
            "(1788, 2)\n"
          ],
          "name": "stdout"
        }
      ]
    },
    {
      "cell_type": "code",
      "metadata": {
        "id": "PweZ1h6qnOQt",
        "colab_type": "code",
        "outputId": "5e11487c-03aa-4253-fae4-9a2477b24f7a",
        "colab": {
          "base_uri": "https://localhost:8080/",
          "height": 731
        }
      },
      "source": [
        "from keras.models import Model\n",
        "from keras.layers import Input\n",
        "from keras.layers import Activation\n",
        "from keras.layers import Conv2D\n",
        "from keras.layers import MaxPooling2D\n",
        "from keras.layers import add\n",
        "from keras.utils import plot_model\n",
        "import keras\n",
        "\n",
        "input1 = keras.layers.Input(shape=(300,300,3))\n",
        "x0=keras.layers.ZeroPadding2D(padding=(3, 3))(input1)\n",
        "\n",
        "x1 = Conv2D(300,(7,7),strides=(2,2) ,activation='relu')(x0)\n",
        "x2=keras.layers.BatchNormalization(axis = 3)(x1)\n",
        "x3= Activation('relu')(x2)\n",
        "x4= MaxPooling2D((3, 3), strides=(2, 2))(x3)\n",
        "\n",
        "x5= Conv2D(200,(2,2),strides=(2,2) ,activation='relu')(x4)\n",
        "x6=keras.layers.BatchNormalization(axis = 3)(x5)\n",
        "x7= Activation('relu')(x6)\n",
        "x8= MaxPooling2D((3, 3), strides=(2, 2))(x7)\n",
        "\n",
        "\n",
        "x9= Conv2D(200,(2,2),strides=(2,2) ,activation='relu')(x8)\n",
        "x10=keras.layers.BatchNormalization(axis = 3)(x9)\n",
        "x11= Activation('relu')(x10)\n",
        "x12= MaxPooling2D((3, 3), strides=(2, 2))(x11)\n",
        "\n",
        "\n",
        "\n",
        "\n",
        "\n",
        "\n",
        "o=keras.layers.Flatten()(x11)\n",
        "\n",
        "\n",
        "\n",
        "\n",
        "\n",
        "\n",
        "\n",
        "\n",
        "out = keras.layers.Dense(100,activation=\"relu\")(o)\n",
        "out = keras.layers.Dense(100,activation=\"relu\")(out)\n",
        "\n",
        "out1=keras.layers.Dense(2,activation=\"softmax\")(out)\n",
        "\n",
        "model = keras.models.Model(inputs=input1, outputs=out1)\n",
        "\n",
        "model.summary()"
      ],
      "execution_count": 33,
      "outputs": [
        {
          "output_type": "stream",
          "text": [
            "Model: \"model_2\"\n",
            "_________________________________________________________________\n",
            "Layer (type)                 Output Shape              Param #   \n",
            "=================================================================\n",
            "input_2 (InputLayer)         (None, 300, 300, 3)       0         \n",
            "_________________________________________________________________\n",
            "zero_padding2d_2 (ZeroPaddin (None, 306, 306, 3)       0         \n",
            "_________________________________________________________________\n",
            "conv2d_3 (Conv2D)            (None, 150, 150, 300)     44400     \n",
            "_________________________________________________________________\n",
            "batch_normalization_3 (Batch (None, 150, 150, 300)     1200      \n",
            "_________________________________________________________________\n",
            "activation_3 (Activation)    (None, 150, 150, 300)     0         \n",
            "_________________________________________________________________\n",
            "max_pooling2d_3 (MaxPooling2 (None, 74, 74, 300)       0         \n",
            "_________________________________________________________________\n",
            "conv2d_4 (Conv2D)            (None, 37, 37, 200)       240200    \n",
            "_________________________________________________________________\n",
            "batch_normalization_4 (Batch (None, 37, 37, 200)       800       \n",
            "_________________________________________________________________\n",
            "activation_4 (Activation)    (None, 37, 37, 200)       0         \n",
            "_________________________________________________________________\n",
            "max_pooling2d_4 (MaxPooling2 (None, 18, 18, 200)       0         \n",
            "_________________________________________________________________\n",
            "conv2d_5 (Conv2D)            (None, 9, 9, 200)         160200    \n",
            "_________________________________________________________________\n",
            "batch_normalization_5 (Batch (None, 9, 9, 200)         800       \n",
            "_________________________________________________________________\n",
            "activation_5 (Activation)    (None, 9, 9, 200)         0         \n",
            "_________________________________________________________________\n",
            "flatten_2 (Flatten)          (None, 16200)             0         \n",
            "_________________________________________________________________\n",
            "dense_3 (Dense)              (None, 100)               1620100   \n",
            "_________________________________________________________________\n",
            "dense_4 (Dense)              (None, 100)               10100     \n",
            "_________________________________________________________________\n",
            "dense_5 (Dense)              (None, 2)                 202       \n",
            "=================================================================\n",
            "Total params: 2,078,002\n",
            "Trainable params: 2,076,602\n",
            "Non-trainable params: 1,400\n",
            "_________________________________________________________________\n"
          ],
          "name": "stdout"
        }
      ]
    },
    {
      "cell_type": "code",
      "metadata": {
        "id": "AJGXK1g4nz3v",
        "colab_type": "code",
        "colab": {}
      },
      "source": [
        "def step_decay(epoch):\n",
        "\tinitial_lrate = 0.1\n",
        "\tdrop = 0.5\n",
        "\tepochs_drop = 10.0\n",
        "\tlrate = initial_lrate * math.pow(drop, math.floor((1+epoch)/epochs_drop))\n",
        "\treturn lrate"
      ],
      "execution_count": 0,
      "outputs": []
    },
    {
      "cell_type": "code",
      "metadata": {
        "id": "AdfQlFvsoSlP",
        "colab_type": "code",
        "outputId": "c83102c9-835f-414c-87fa-1fa5723ca973",
        "colab": {
          "base_uri": "https://localhost:8080/",
          "height": 51
        }
      },
      "source": [
        "print(xtrain.shape)\n",
        "print(ytrain.shape)"
      ],
      "execution_count": 35,
      "outputs": [
        {
          "output_type": "stream",
          "text": [
            "(1788, 300, 300, 3)\n",
            "(1788, 2)\n"
          ],
          "name": "stdout"
        }
      ]
    },
    {
      "cell_type": "code",
      "metadata": {
        "id": "1ew3LlF4n1AN",
        "colab_type": "code",
        "outputId": "4322f68d-c70b-4221-edf6-b2ca5af4fb17",
        "colab": {
          "base_uri": "https://localhost:8080/",
          "height": 306
        }
      },
      "source": [
        "model.compile(loss=\"categorical_crossentropy\", optimizer=\"sgd\", metrics=['accuracy'])\n",
        "#model.compile(optimizer='rmsprop', loss='categorical_crossentropy' ,metrics=['accuracy'])\n",
        "history=model.fit(xtrain, ytrain, validation_split=(0.33), batch_size=20,epochs=8, verbose=1)"
      ],
      "execution_count": 36,
      "outputs": [
        {
          "output_type": "stream",
          "text": [
            "Train on 1197 samples, validate on 591 samples\n",
            "Epoch 1/8\n",
            "1197/1197 [==============================] - 287s 240ms/step - loss: 0.1926 - acc: 0.9415 - val_loss: 0.2111 - val_acc: 0.9323\n",
            "Epoch 2/8\n",
            "1197/1197 [==============================] - 286s 239ms/step - loss: 0.1145 - acc: 0.9566 - val_loss: 0.1717 - val_acc: 0.9408\n",
            "Epoch 3/8\n",
            "1197/1197 [==============================] - 284s 237ms/step - loss: 0.0656 - acc: 0.9774 - val_loss: 0.1634 - val_acc: 0.9425\n",
            "Epoch 4/8\n",
            "1197/1197 [==============================] - 284s 237ms/step - loss: 0.0458 - acc: 0.9841 - val_loss: 0.1625 - val_acc: 0.9442\n",
            "Epoch 5/8\n",
            "1197/1197 [==============================] - 283s 237ms/step - loss: 0.0304 - acc: 0.9875 - val_loss: 0.1576 - val_acc: 0.9475\n",
            "Epoch 6/8\n",
            "1197/1197 [==============================] - 285s 238ms/step - loss: 0.0239 - acc: 0.9908 - val_loss: 0.1724 - val_acc: 0.9492\n",
            "Epoch 7/8\n",
            "1197/1197 [==============================] - 287s 239ms/step - loss: 0.0178 - acc: 0.9958 - val_loss: 0.1706 - val_acc: 0.9526\n",
            "Epoch 8/8\n",
            "1197/1197 [==============================] - 288s 240ms/step - loss: 0.0185 - acc: 0.9942 - val_loss: 0.1759 - val_acc: 0.9475\n"
          ],
          "name": "stdout"
        }
      ]
    },
    {
      "cell_type": "code",
      "metadata": {
        "id": "A3aUJH_rS6v0",
        "colab_type": "code",
        "outputId": "ffd037a4-1a0e-4b59-850c-5f5aeb10b159",
        "colab": {
          "base_uri": "https://localhost:8080/",
          "height": 51
        }
      },
      "source": [
        "model.evaluate(xtest,ytest)"
      ],
      "execution_count": 37,
      "outputs": [
        {
          "output_type": "stream",
          "text": [
            "881/881 [==============================] - 74s 84ms/step\n"
          ],
          "name": "stdout"
        },
        {
          "output_type": "execute_result",
          "data": {
            "text/plain": [
              "[0.19851314487669375, 0.9523269013838925]"
            ]
          },
          "metadata": {
            "tags": []
          },
          "execution_count": 37
        }
      ]
    },
    {
      "cell_type": "code",
      "metadata": {
        "id": "8YDuuB16S7Hi",
        "colab_type": "code",
        "outputId": "d61d1200-73fa-457a-fb40-a3dd1303a4de",
        "colab": {
          "base_uri": "https://localhost:8080/",
          "height": 170
        }
      },
      "source": [
        "import numpy as np\n",
        "from sklearn.metrics import classification_report,confusion_matrix\n",
        "import itertools\n",
        "\n",
        "Y_pred = model.predict(xtest)\n",
        "y_pred = np.argmax(Y_pred, axis=1)\n",
        "target_names = ['class 0', 'class 1']\n",
        "print(classification_report(np.argmax(ytest,axis=1), y_pred,target_names=target_names))"
      ],
      "execution_count": 38,
      "outputs": [
        {
          "output_type": "stream",
          "text": [
            "              precision    recall  f1-score   support\n",
            "\n",
            "     class 0       0.60      0.14      0.22        44\n",
            "     class 1       0.96      1.00      0.98       837\n",
            "\n",
            "    accuracy                           0.95       881\n",
            "   macro avg       0.78      0.57      0.60       881\n",
            "weighted avg       0.94      0.95      0.94       881\n",
            "\n"
          ],
          "name": "stdout"
        }
      ]
    },
    {
      "cell_type": "code",
      "metadata": {
        "id": "oo5hhhTMv79q",
        "colab_type": "code",
        "outputId": "b472cb74-f604-4528-f7bc-8de975ca6d62",
        "colab": {
          "base_uri": "https://localhost:8080/",
          "height": 51
        }
      },
      "source": [
        "model.evaluate(xtrain,ytrain)"
      ],
      "execution_count": 39,
      "outputs": [
        {
          "output_type": "stream",
          "text": [
            "1788/1788 [==============================] - 152s 85ms/step\n"
          ],
          "name": "stdout"
        },
        {
          "output_type": "execute_result",
          "data": {
            "text/plain": [
              "[0.06830046287794041, 0.979865772078768]"
            ]
          },
          "metadata": {
            "tags": []
          },
          "execution_count": 39
        }
      ]
    },
    {
      "cell_type": "code",
      "metadata": {
        "id": "X9oonnfwv8LD",
        "colab_type": "code",
        "colab": {
          "base_uri": "https://localhost:8080/",
          "height": 170
        },
        "outputId": "119b6ad3-dda5-4ca1-c847-094f1614f3c0"
      },
      "source": [
        "import numpy as np\n",
        "from sklearn.metrics import classification_report,confusion_matrix\n",
        "import itertools\n",
        "\n",
        "Y_pred = model.predict(xtrain)\n",
        "y_pred = np.argmax(Y_pred, axis=1)\n",
        "target_names = ['class 0', 'class 1']\n",
        "print(classification_report(np.argmax(ytrain,axis=1), y_pred,target_names=target_names))"
      ],
      "execution_count": 40,
      "outputs": [
        {
          "output_type": "stream",
          "text": [
            "              precision    recall  f1-score   support\n",
            "\n",
            "     class 0       0.97      0.68      0.80       105\n",
            "     class 1       0.98      1.00      0.99      1683\n",
            "\n",
            "    accuracy                           0.98      1788\n",
            "   macro avg       0.98      0.84      0.89      1788\n",
            "weighted avg       0.98      0.98      0.98      1788\n",
            "\n"
          ],
          "name": "stdout"
        }
      ]
    }
  ]
}