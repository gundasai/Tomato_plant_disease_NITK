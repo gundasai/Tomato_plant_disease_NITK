{
  "nbformat": 4,
  "nbformat_minor": 0,
  "metadata": {
    "colab": {
      "name": "pcb.ipynb",
      "provenance": [],
      "collapsed_sections": [],
      "machine_shape": "hm",
      "authorship_tag": "ABX9TyOG6ZN75OeTXAr9hB+Nc93A",
      "include_colab_link": true
    },
    "kernelspec": {
      "name": "python3",
      "display_name": "Python 3"
    }
  },
  "cells": [
    {
      "cell_type": "markdown",
      "metadata": {
        "id": "view-in-github",
        "colab_type": "text"
      },
      "source": [
        "<a href=\"https://colab.research.google.com/github/gundasai/deeplearning/blob/master/pcb%20full3.ipynb\" target=\"_parent\"><img src=\"https://colab.research.google.com/assets/colab-badge.svg\" alt=\"Open In Colab\"/></a>"
      ]
    },
    {
      "cell_type": "code",
      "metadata": {
        "id": "HHUGSQlsWSh_",
        "colab_type": "code",
        "outputId": "28d45675-c3c3-41f1-8313-f6060793433f",
        "colab": {
          "base_uri": "https://localhost:8080/",
          "height": 34
        }
      },
      "source": [
        "from google.colab import drive\n",
        "drive.mount('/content/drive/')"
      ],
      "execution_count": 1,
      "outputs": [
        {
          "output_type": "stream",
          "text": [
            "Drive already mounted at /content/drive/; to attempt to forcibly remount, call drive.mount(\"/content/drive/\", force_remount=True).\n"
          ],
          "name": "stdout"
        }
      ]
    },
    {
      "cell_type": "code",
      "metadata": {
        "id": "3oojvulrkwDV",
        "colab_type": "code",
        "colab": {
          "base_uri": "https://localhost:8080/",
          "height": 357
        },
        "outputId": "6302d51d-8e06-4655-ce2d-cc977b7fa6bd"
      },
      "source": [
        "!pip install tensorflow==1.14.0"
      ],
      "execution_count": 2,
      "outputs": [
        {
          "output_type": "stream",
          "text": [
            "Requirement already satisfied: tensorflow==1.14.0 in /usr/local/lib/python3.6/dist-packages (1.14.0)\n",
            "Requirement already satisfied: tensorflow-estimator<1.15.0rc0,>=1.14.0rc0 in /usr/local/lib/python3.6/dist-packages (from tensorflow==1.14.0) (1.14.0)\n",
            "Requirement already satisfied: keras-preprocessing>=1.0.5 in /usr/local/lib/python3.6/dist-packages (from tensorflow==1.14.0) (1.1.0)\n",
            "Requirement already satisfied: six>=1.10.0 in /usr/local/lib/python3.6/dist-packages (from tensorflow==1.14.0) (1.12.0)\n",
            "Requirement already satisfied: keras-applications>=1.0.6 in /usr/local/lib/python3.6/dist-packages (from tensorflow==1.14.0) (1.0.8)\n",
            "Requirement already satisfied: wheel>=0.26 in /usr/local/lib/python3.6/dist-packages (from tensorflow==1.14.0) (0.34.2)\n",
            "Requirement already satisfied: numpy<2.0,>=1.14.5 in /usr/local/lib/python3.6/dist-packages (from tensorflow==1.14.0) (1.18.2)\n",
            "Requirement already satisfied: google-pasta>=0.1.6 in /usr/local/lib/python3.6/dist-packages (from tensorflow==1.14.0) (0.2.0)\n",
            "Requirement already satisfied: gast>=0.2.0 in /usr/local/lib/python3.6/dist-packages (from tensorflow==1.14.0) (0.3.3)\n",
            "Requirement already satisfied: tensorboard<1.15.0,>=1.14.0 in /usr/local/lib/python3.6/dist-packages (from tensorflow==1.14.0) (1.14.0)\n",
            "Requirement already satisfied: absl-py>=0.7.0 in /usr/local/lib/python3.6/dist-packages (from tensorflow==1.14.0) (0.9.0)\n",
            "Requirement already satisfied: termcolor>=1.1.0 in /usr/local/lib/python3.6/dist-packages (from tensorflow==1.14.0) (1.1.0)\n",
            "Requirement already satisfied: wrapt>=1.11.1 in /usr/local/lib/python3.6/dist-packages (from tensorflow==1.14.0) (1.12.1)\n",
            "Requirement already satisfied: protobuf>=3.6.1 in /usr/local/lib/python3.6/dist-packages (from tensorflow==1.14.0) (3.10.0)\n",
            "Requirement already satisfied: astor>=0.6.0 in /usr/local/lib/python3.6/dist-packages (from tensorflow==1.14.0) (0.8.1)\n",
            "Requirement already satisfied: grpcio>=1.8.6 in /usr/local/lib/python3.6/dist-packages (from tensorflow==1.14.0) (1.27.2)\n",
            "Requirement already satisfied: h5py in /usr/local/lib/python3.6/dist-packages (from keras-applications>=1.0.6->tensorflow==1.14.0) (2.10.0)\n",
            "Requirement already satisfied: werkzeug>=0.11.15 in /usr/local/lib/python3.6/dist-packages (from tensorboard<1.15.0,>=1.14.0->tensorflow==1.14.0) (1.0.1)\n",
            "Requirement already satisfied: markdown>=2.6.8 in /usr/local/lib/python3.6/dist-packages (from tensorboard<1.15.0,>=1.14.0->tensorflow==1.14.0) (3.2.1)\n",
            "Requirement already satisfied: setuptools>=41.0.0 in /usr/local/lib/python3.6/dist-packages (from tensorboard<1.15.0,>=1.14.0->tensorflow==1.14.0) (46.1.3)\n"
          ],
          "name": "stdout"
        }
      ]
    },
    {
      "cell_type": "code",
      "metadata": {
        "id": "GKvlAsT-WUQ5",
        "colab_type": "code",
        "outputId": "5e7d52cd-47ca-4e90-e596-ed78994c3155",
        "colab": {
          "base_uri": "https://localhost:8080/",
          "height": 34
        }
      },
      "source": [
        "import os\n",
        "os.chdir('/content/drive/My Drive/Raw_PCB')\n",
        "os.getcwd()"
      ],
      "execution_count": 3,
      "outputs": [
        {
          "output_type": "execute_result",
          "data": {
            "text/plain": [
              "'/content/drive/My Drive/Raw_PCB'"
            ]
          },
          "metadata": {
            "tags": []
          },
          "execution_count": 3
        }
      ]
    },
    {
      "cell_type": "code",
      "metadata": {
        "id": "37UzVvAdXn01",
        "colab_type": "code",
        "outputId": "24c30ca5-dd24-4e6a-c028-f15cd2ea0fb6",
        "colab": {
          "base_uri": "https://localhost:8080/",
          "height": 51
        }
      },
      "source": [
        "import numpy as np\n",
        "a=np.load(\"s_x_train.npy\")\n",
        "b=np.load(\"s_y_train.npy\")\n",
        "print(a.shape)\n",
        "print(b.shape)"
      ],
      "execution_count": 4,
      "outputs": [
        {
          "output_type": "stream",
          "text": [
            "(2669, 300, 300, 3)\n",
            "(2669,)\n"
          ],
          "name": "stdout"
        }
      ]
    },
    {
      "cell_type": "code",
      "metadata": {
        "id": "lQ17yhZHk6QJ",
        "colab_type": "code",
        "colab": {}
      },
      "source": [
        "from sklearn.utils import shuffle\n",
        "(a,b)=shuffle(a,b)"
      ],
      "execution_count": 0,
      "outputs": []
    },
    {
      "cell_type": "code",
      "metadata": {
        "id": "YdnJAsohlOIw",
        "colab_type": "code",
        "colab": {}
      },
      "source": [
        "from sklearn.model_selection import train_test_split\n",
        "xtrain, xtest, ytrain, ytest = train_test_split(a, b, test_size=0.33, random_state=42)"
      ],
      "execution_count": 0,
      "outputs": []
    },
    {
      "cell_type": "code",
      "metadata": {
        "id": "Mp0nhPonla5W",
        "colab_type": "code",
        "outputId": "1421b490-cd57-4962-ed06-6c28b5102a5a",
        "colab": {
          "base_uri": "https://localhost:8080/",
          "height": 187
        }
      },
      "source": [
        "print(xtrain.shape)\n",
        "print(ytrain.shape)\n",
        "\n",
        "print(xtest.shape)\n",
        "print(ytest.shape)\n",
        "\n",
        "print(xtrain.ndim)\n",
        "print(xtrain.dtype)\n",
        "\n",
        "print(xtrain.ndim)\n",
        "print(xtrain.dtype)\n",
        "\n",
        "print(xtest.ndim)\n",
        "print(xtest.dtype)"
      ],
      "execution_count": 7,
      "outputs": [
        {
          "output_type": "stream",
          "text": [
            "(1788, 300, 300, 3)\n",
            "(1788,)\n",
            "(881, 300, 300, 3)\n",
            "(881,)\n",
            "4\n",
            "uint8\n",
            "4\n",
            "uint8\n",
            "4\n",
            "uint8\n"
          ],
          "name": "stdout"
        }
      ]
    },
    {
      "cell_type": "code",
      "metadata": {
        "id": "MfvN3JB5li5N",
        "colab_type": "code",
        "outputId": "134d59a3-1066-44fd-8c2c-12fd5bfe96e7",
        "colab": {
          "base_uri": "https://localhost:8080/",
          "height": 286
        }
      },
      "source": [
        "import matplotlib.pyplot as plt\n",
        "%matplotlib inline\n",
        "plt.imshow(xtest[0], cmap='brg')"
      ],
      "execution_count": 8,
      "outputs": [
        {
          "output_type": "execute_result",
          "data": {
            "text/plain": [
              "<matplotlib.image.AxesImage at 0x7f6b25fa4550>"
            ]
          },
          "metadata": {
            "tags": []
          },
          "execution_count": 8
        },
        {
          "output_type": "display_data",
          "data": {
            "image/png": "[encoded data removed]",
            "text/plain": [
              "<Figure size 432x288 with 1 Axes>"
            ]
          },
          "metadata": {
            "tags": []
          }
        }
      ]
    },
    {
      "cell_type": "code",
      "metadata": {
        "id": "cywzizBjYCtv",
        "colab_type": "code",
        "colab": {}
      },
      "source": [
        "xtrain = xtrain.astype('float32')\n",
        "xtest  = xtest.astype('float32')"
      ],
      "execution_count": 0,
      "outputs": []
    },
    {
      "cell_type": "code",
      "metadata": {
        "id": "utnO5aUQlhfX",
        "colab_type": "code",
        "outputId": "51add19d-d64c-4931-dc8b-5eb7ec83d3b2",
        "colab": {
          "base_uri": "https://localhost:8080/",
          "height": 51
        }
      },
      "source": [
        "print(xtrain.shape)\n",
        "print(ytrain.shape)"
      ],
      "execution_count": 10,
      "outputs": [
        {
          "output_type": "stream",
          "text": [
            "(1788, 300, 300, 3)\n",
            "(1788,)\n"
          ],
          "name": "stdout"
        }
      ]
    },
    {
      "cell_type": "code",
      "metadata": {
        "id": "jesVesSFkuRn",
        "colab_type": "code",
        "outputId": "0166588e-1595-4075-974d-3fe2142dd526",
        "colab": {
          "base_uri": "https://localhost:8080/",
          "height": 153
        }
      },
      "source": [
        "#keras.utils.normalize(a, axis=-1, order=2)\n",
        "print (np.max(xtrain),np.max(xtest))\n",
        "print (np.min(xtrain),np.min(xtest))\n",
        "\n",
        "print (np.max(ytrain),np.max(ytest))\n",
        "print (np.min(ytrain),np.min(ytest))\n",
        "\n",
        "mean = np.mean(xtrain)\n",
        "std  = np.std(xtrain)\n",
        "\n",
        "print(mean)\n",
        "print(std)\n",
        "\n",
        "xtrain -= mean\n",
        "xtrain /= std\n",
        "\n",
        "xtest -= mean\n",
        "xtest /= std\n",
        "\n",
        "print (np.max(xtrain),np.max(xtest))\n",
        "print (np.min(xtrain),np.min(xtest))"
      ],
      "execution_count": 11,
      "outputs": [
        {
          "output_type": "stream",
          "text": [
            "255.0 255.0\n",
            "0.0 0.0\n",
            "1.0 1.0\n",
            "0.0 0.0\n",
            "50.854916\n",
            "53.868446\n",
            "3.789697 3.789697\n",
            "-0.9440576 -0.9440576\n"
          ],
          "name": "stdout"
        }
      ]
    },
    {
      "cell_type": "code",
      "metadata": {
        "id": "5zruw2E0nKJZ",
        "colab_type": "code",
        "outputId": "eac7cd23-2540-49af-e9e5-852511828ef9",
        "colab": {
          "base_uri": "https://localhost:8080/",
          "height": 525
        }
      },
      "source": [
        "from keras.utils import to_categorical\n",
        "ytrain = to_categorical(ytrain)\n",
        "ytest  =  to_categorical(ytest)\n",
        "print(ytest[0])"
      ],
      "execution_count": 12,
      "outputs": [
        {
          "output_type": "stream",
          "text": [
            "Using TensorFlow backend.\n",
            "/usr/local/lib/python3.6/dist-packages/tensorflow/python/framework/dtypes.py:516: FutureWarning: Passing (type, 1) or '1type' as a synonym of type is deprecated; in a future version of numpy, it will be understood as (type, (1,)) / '(1,)type'.\n",
            "  _np_qint8 = np.dtype([(\"qint8\", np.int8, 1)])\n",
            "/usr/local/lib/python3.6/dist-packages/tensorflow/python/framework/dtypes.py:517: FutureWarning: Passing (type, 1) or '1type' as a synonym of type is deprecated; in a future version of numpy, it will be understood as (type, (1,)) / '(1,)type'.\n",
            "  _np_quint8 = np.dtype([(\"quint8\", np.uint8, 1)])\n",
            "/usr/local/lib/python3.6/dist-packages/tensorflow/python/framework/dtypes.py:518: FutureWarning: Passing (type, 1) or '1type' as a synonym of type is deprecated; in a future version of numpy, it will be understood as (type, (1,)) / '(1,)type'.\n",
            "  _np_qint16 = np.dtype([(\"qint16\", np.int16, 1)])\n",
            "/usr/local/lib/python3.6/dist-packages/tensorflow/python/framework/dtypes.py:519: FutureWarning: Passing (type, 1) or '1type' as a synonym of type is deprecated; in a future version of numpy, it will be understood as (type, (1,)) / '(1,)type'.\n",
            "  _np_quint16 = np.dtype([(\"quint16\", np.uint16, 1)])\n",
            "/usr/local/lib/python3.6/dist-packages/tensorflow/python/framework/dtypes.py:520: FutureWarning: Passing (type, 1) or '1type' as a synonym of type is deprecated; in a future version of numpy, it will be understood as (type, (1,)) / '(1,)type'.\n",
            "  _np_qint32 = np.dtype([(\"qint32\", np.int32, 1)])\n",
            "/usr/local/lib/python3.6/dist-packages/tensorflow/python/framework/dtypes.py:525: FutureWarning: Passing (type, 1) or '1type' as a synonym of type is deprecated; in a future version of numpy, it will be understood as (type, (1,)) / '(1,)type'.\n",
            "  np_resource = np.dtype([(\"resource\", np.ubyte, 1)])\n",
            "/usr/local/lib/python3.6/dist-packages/tensorboard/compat/tensorflow_stub/dtypes.py:541: FutureWarning: Passing (type, 1) or '1type' as a synonym of type is deprecated; in a future version of numpy, it will be understood as (type, (1,)) / '(1,)type'.\n",
            "  _np_qint8 = np.dtype([(\"qint8\", np.int8, 1)])\n",
            "/usr/local/lib/python3.6/dist-packages/tensorboard/compat/tensorflow_stub/dtypes.py:542: FutureWarning: Passing (type, 1) or '1type' as a synonym of type is deprecated; in a future version of numpy, it will be understood as (type, (1,)) / '(1,)type'.\n",
            "  _np_quint8 = np.dtype([(\"quint8\", np.uint8, 1)])\n",
            "/usr/local/lib/python3.6/dist-packages/tensorboard/compat/tensorflow_stub/dtypes.py:543: FutureWarning: Passing (type, 1) or '1type' as a synonym of type is deprecated; in a future version of numpy, it will be understood as (type, (1,)) / '(1,)type'.\n",
            "  _np_qint16 = np.dtype([(\"qint16\", np.int16, 1)])\n",
            "/usr/local/lib/python3.6/dist-packages/tensorboard/compat/tensorflow_stub/dtypes.py:544: FutureWarning: Passing (type, 1) or '1type' as a synonym of type is deprecated; in a future version of numpy, it will be understood as (type, (1,)) / '(1,)type'.\n",
            "  _np_quint16 = np.dtype([(\"quint16\", np.uint16, 1)])\n",
            "/usr/local/lib/python3.6/dist-packages/tensorboard/compat/tensorflow_stub/dtypes.py:545: FutureWarning: Passing (type, 1) or '1type' as a synonym of type is deprecated; in a future version of numpy, it will be understood as (type, (1,)) / '(1,)type'.\n",
            "  _np_qint32 = np.dtype([(\"qint32\", np.int32, 1)])\n",
            "/usr/local/lib/python3.6/dist-packages/tensorboard/compat/tensorflow_stub/dtypes.py:550: FutureWarning: Passing (type, 1) or '1type' as a synonym of type is deprecated; in a future version of numpy, it will be understood as (type, (1,)) / '(1,)type'.\n",
            "  np_resource = np.dtype([(\"resource\", np.ubyte, 1)])\n"
          ],
          "name": "stderr"
        },
        {
          "output_type": "display_data",
          "data": {
            "text/html": [
              "<p style=\"color: red;\">\n",
              "The default version of TensorFlow in Colab will switch to TensorFlow 2.x on the 27th of March, 2020.<br>\n",
              "We recommend you <a href=\"https://www.tensorflow.org/guide/migrate\" target=\"_blank\">upgrade</a> now\n",
              "or ensure your notebook will continue to use TensorFlow 1.x via the <code>%tensorflow_version 1.x</code> magic:\n",
              "<a href=\"https://colab.research.google.com/notebooks/tensorflow_version.ipynb\" target=\"_blank\">more info</a>.</p>\n"
            ],
            "text/plain": [
              "<IPython.core.display.HTML object>"
            ]
          },
          "metadata": {
            "tags": []
          }
        },
        {
          "output_type": "stream",
          "text": [
            "[0. 1.]\n"
          ],
          "name": "stdout"
        }
      ]
    },
    {
      "cell_type": "code",
      "metadata": {
        "id": "o8wKBCzLoxBa",
        "colab_type": "code",
        "outputId": "281cfff3-810e-4514-967b-783c4eb22d37",
        "colab": {
          "base_uri": "https://localhost:8080/",
          "height": 51
        }
      },
      "source": [
        "print(xtrain.shape)\n",
        "print(ytrain.shape)"
      ],
      "execution_count": 13,
      "outputs": [
        {
          "output_type": "stream",
          "text": [
            "(1788, 300, 300, 3)\n",
            "(1788, 2)\n"
          ],
          "name": "stdout"
        }
      ]
    },
    {
      "cell_type": "code",
      "metadata": {
        "id": "PweZ1h6qnOQt",
        "colab_type": "code",
        "outputId": "02d50313-5a41-4dc5-eeb8-aa74a19a19e8",
        "colab": {
          "base_uri": "https://localhost:8080/",
          "height": 799
        }
      },
      "source": [
        "from keras.models import Model\n",
        "from keras.layers import Input\n",
        "from keras.layers import Activation\n",
        "from keras.layers import Conv2D\n",
        "from keras.layers import MaxPooling2D\n",
        "from keras.layers import add\n",
        "from keras.utils import plot_model\n",
        "import keras\n",
        "\n",
        "input1 = keras.layers.Input(shape=(300,300,3))\n",
        "x0=keras.layers.ZeroPadding2D(padding=(3, 3))(input1)\n",
        "\n",
        "x1 = Conv2D(50,(4,4),strides=(2,2) ,activation='relu')(x0)\n",
        "x2=keras.layers.BatchNormalization(axis = 3)(x1)\n",
        "x3= Activation('relu')(x2)\n",
        "x4= MaxPooling2D((3, 3), strides=(2, 2))(x3)\n",
        "\n",
        "x5= Conv2D(50,(2,2),strides=(2,2) ,activation='relu')(x4)\n",
        "x6=keras.layers.BatchNormalization(axis = 3)(x5)\n",
        "x7= Activation('relu')(x6)\n",
        "x8= MaxPooling2D((3, 3), strides=(2, 2))(x7)\n",
        "\n",
        "\n",
        "x9= Conv2D(50,(2,2),strides=(2,2) ,activation='relu')(x8)\n",
        "x10=keras.layers.BatchNormalization(axis = 3)(x9)\n",
        "x11= Activation('relu')(x10)\n",
        "x12= MaxPooling2D((3, 3), strides=(2, 2))(x11)\n",
        "\n",
        "\n",
        "\n",
        "\n",
        "\n",
        "\n",
        "o=keras.layers.Flatten()(x11)\n",
        "\n",
        "\n",
        "\n",
        "\n",
        "\n",
        "\n",
        "\n",
        "\n",
        "out = keras.layers.Dense(50,activation=\"relu\")(o)\n",
        "out=keras.layers.Dropout(0.4)(out)\n",
        "out = keras.layers.Dense(50,activation=\"relu\")(out)\n",
        "out=keras.layers.Dropout(0.2)(out)\n",
        "out1=keras.layers.Dense(2,activation=\"softmax\")(out)\n",
        "\n",
        "model = keras.models.Model(inputs=input1, outputs=out1)\n",
        "\n",
        "model.summary()"
      ],
      "execution_count": 24,
      "outputs": [
        {
          "output_type": "stream",
          "text": [
            "Model: \"model_2\"\n",
            "_________________________________________________________________\n",
            "Layer (type)                 Output Shape              Param #   \n",
            "=================================================================\n",
            "input_2 (InputLayer)         (None, 300, 300, 3)       0         \n",
            "_________________________________________________________________\n",
            "zero_padding2d_2 (ZeroPaddin (None, 306, 306, 3)       0         \n",
            "_________________________________________________________________\n",
            "conv2d_4 (Conv2D)            (None, 152, 152, 50)      2450      \n",
            "_________________________________________________________________\n",
            "batch_normalization_4 (Batch (None, 152, 152, 50)      200       \n",
            "_________________________________________________________________\n",
            "activation_4 (Activation)    (None, 152, 152, 50)      0         \n",
            "_________________________________________________________________\n",
            "max_pooling2d_4 (MaxPooling2 (None, 75, 75, 50)        0         \n",
            "_________________________________________________________________\n",
            "conv2d_5 (Conv2D)            (None, 37, 37, 50)        10050     \n",
            "_________________________________________________________________\n",
            "batch_normalization_5 (Batch (None, 37, 37, 50)        200       \n",
            "_________________________________________________________________\n",
            "activation_5 (Activation)    (None, 37, 37, 50)        0         \n",
            "_________________________________________________________________\n",
            "max_pooling2d_5 (MaxPooling2 (None, 18, 18, 50)        0         \n",
            "_________________________________________________________________\n",
            "conv2d_6 (Conv2D)            (None, 9, 9, 50)          10050     \n",
            "_________________________________________________________________\n",
            "batch_normalization_6 (Batch (None, 9, 9, 50)          200       \n",
            "_________________________________________________________________\n",
            "activation_6 (Activation)    (None, 9, 9, 50)          0         \n",
            "_________________________________________________________________\n",
            "flatten_2 (Flatten)          (None, 4050)              0         \n",
            "_________________________________________________________________\n",
            "dense_4 (Dense)              (None, 50)                202550    \n",
            "_________________________________________________________________\n",
            "dropout_3 (Dropout)          (None, 50)                0         \n",
            "_________________________________________________________________\n",
            "dense_5 (Dense)              (None, 50)                2550      \n",
            "_________________________________________________________________\n",
            "dropout_4 (Dropout)          (None, 50)                0         \n",
            "_________________________________________________________________\n",
            "dense_6 (Dense)              (None, 2)                 102       \n",
            "=================================================================\n",
            "Total params: 228,352\n",
            "Trainable params: 228,052\n",
            "Non-trainable params: 300\n",
            "_________________________________________________________________\n"
          ],
          "name": "stdout"
        }
      ]
    },
    {
      "cell_type": "code",
      "metadata": {
        "id": "AJGXK1g4nz3v",
        "colab_type": "code",
        "colab": {}
      },
      "source": [
        "def step_decay(epoch):\n",
        "\tinitial_lrate = 0.1\n",
        "\tdrop = 0.5\n",
        "\tepochs_drop = 10.0\n",
        "\tlrate = initial_lrate * math.pow(drop, math.floor((1+epoch)/epochs_drop))\n",
        "\treturn lrate"
      ],
      "execution_count": 0,
      "outputs": []
    },
    {
      "cell_type": "code",
      "metadata": {
        "id": "AdfQlFvsoSlP",
        "colab_type": "code",
        "outputId": "fb978a7e-0143-48d0-aa43-573509fce549",
        "colab": {
          "base_uri": "https://localhost:8080/",
          "height": 51
        }
      },
      "source": [
        "print(xtrain.shape)\n",
        "print(ytrain.shape)"
      ],
      "execution_count": 16,
      "outputs": [
        {
          "output_type": "stream",
          "text": [
            "(1788, 300, 300, 3)\n",
            "(1788, 2)\n"
          ],
          "name": "stdout"
        }
      ]
    },
    {
      "cell_type": "code",
      "metadata": {
        "id": "1ew3LlF4n1AN",
        "colab_type": "code",
        "outputId": "af132e37-104b-4b04-ecee-318b0346d299",
        "colab": {
          "base_uri": "https://localhost:8080/",
          "height": 1000
        }
      },
      "source": [
        "model.compile(loss=\"categorical_crossentropy\", optimizer=\"sgd\", metrics=['accuracy'])\n",
        "#model.compile(optimizer='rmsprop', loss='categorical_crossentropy' ,metrics=['accuracy'])\n",
        "history=model.fit(xtrain, ytrain, batch_size=60,epochs=40, verbose=1)"
      ],
      "execution_count": 25,
      "outputs": [
        {
          "output_type": "stream",
          "text": [
            "Epoch 1/40\n",
            "1788/1788 [==============================] - 82s 46ms/step - loss: 0.3515 - acc: 0.8865\n",
            "Epoch 2/40\n",
            "1788/1788 [==============================] - 81s 45ms/step - loss: 0.2372 - acc: 0.9312\n",
            "Epoch 3/40\n",
            "1788/1788 [==============================] - 81s 45ms/step - loss: 0.2109 - acc: 0.9385\n",
            "Epoch 4/40\n",
            "1788/1788 [==============================] - 81s 45ms/step - loss: 0.1849 - acc: 0.9402\n",
            "Epoch 5/40\n",
            "1788/1788 [==============================] - 81s 46ms/step - loss: 0.1687 - acc: 0.9430\n",
            "Epoch 6/40\n",
            "1788/1788 [==============================] - 81s 45ms/step - loss: 0.1585 - acc: 0.9424\n",
            "Epoch 7/40\n",
            "1788/1788 [==============================] - 81s 46ms/step - loss: 0.1346 - acc: 0.9491\n",
            "Epoch 8/40\n",
            "1788/1788 [==============================] - 82s 46ms/step - loss: 0.1300 - acc: 0.9480\n",
            "Epoch 9/40\n",
            "1788/1788 [==============================] - 82s 46ms/step - loss: 0.1130 - acc: 0.9547\n",
            "Epoch 10/40\n",
            "1788/1788 [==============================] - 81s 46ms/step - loss: 0.1092 - acc: 0.9536\n",
            "Epoch 11/40\n",
            "1788/1788 [==============================] - 82s 46ms/step - loss: 0.1046 - acc: 0.9575\n",
            "Epoch 12/40\n",
            "1788/1788 [==============================] - 81s 45ms/step - loss: 0.0986 - acc: 0.9581\n",
            "Epoch 13/40\n",
            "1788/1788 [==============================] - 81s 45ms/step - loss: 0.0911 - acc: 0.9609\n",
            "Epoch 14/40\n",
            "1788/1788 [==============================] - 81s 45ms/step - loss: 0.0911 - acc: 0.9575\n",
            "Epoch 15/40\n",
            "1788/1788 [==============================] - 82s 46ms/step - loss: 0.0852 - acc: 0.9592\n",
            "Epoch 16/40\n",
            "1788/1788 [==============================] - 81s 46ms/step - loss: 0.0770 - acc: 0.9676\n",
            "Epoch 17/40\n",
            "1788/1788 [==============================] - 82s 46ms/step - loss: 0.0773 - acc: 0.9670\n",
            "Epoch 18/40\n",
            "1788/1788 [==============================] - 82s 46ms/step - loss: 0.0728 - acc: 0.9659\n",
            "Epoch 19/40\n",
            "1788/1788 [==============================] - 82s 46ms/step - loss: 0.0699 - acc: 0.9715\n",
            "Epoch 20/40\n",
            "1788/1788 [==============================] - 81s 45ms/step - loss: 0.0640 - acc: 0.9726\n",
            "Epoch 21/40\n",
            "1788/1788 [==============================] - 81s 45ms/step - loss: 0.0668 - acc: 0.9715\n",
            "Epoch 22/40\n",
            "1788/1788 [==============================] - 81s 45ms/step - loss: 0.0562 - acc: 0.9754\n",
            "Epoch 23/40\n",
            "1788/1788 [==============================] - 81s 46ms/step - loss: 0.0579 - acc: 0.9776\n",
            "Epoch 24/40\n",
            " 480/1788 [=======>......................] - ETA: 59s - loss: 0.0688 - acc: 0.9667 Epoch 1/40\n",
            "1788/1788 [==============================] - 82s 46ms/step - loss: 0.3515 - acc: 0.8865\n",
            "Epoch 2/40\n",
            "1788/1788 [==============================] - 81s 45ms/step - loss: 0.2372 - acc: 0.9312\n",
            "Epoch 3/40\n",
            "1788/1788 [==============================] - 81s 45ms/step - loss: 0.2109 - acc: 0.9385\n",
            "Epoch 4/40\n",
            "1788/1788 [==============================] - 81s 45ms/step - loss: 0.1849 - acc: 0.9402\n",
            "Epoch 5/40\n",
            "1788/1788 [==============================] - 81s 46ms/step - loss: 0.1687 - acc: 0.9430\n",
            "Epoch 6/40\n",
            "1788/1788 [==============================] - 81s 45ms/step - loss: 0.1585 - acc: 0.9424\n",
            "Epoch 7/40\n",
            "1788/1788 [==============================] - 81s 46ms/step - loss: 0.1346 - acc: 0.9491\n",
            "Epoch 8/40\n",
            "1788/1788 [==============================] - 82s 46ms/step - loss: 0.1300 - acc: 0.9480\n",
            "Epoch 9/40\n",
            "1788/1788 [==============================] - 82s 46ms/step - loss: 0.1130 - acc: 0.9547\n",
            "Epoch 10/40\n",
            "1788/1788 [==============================] - 81s 46ms/step - loss: 0.1092 - acc: 0.9536\n",
            "Epoch 11/40\n",
            "1788/1788 [==============================] - 82s 46ms/step - loss: 0.1046 - acc: 0.9575\n",
            "Epoch 12/40\n",
            "1788/1788 [==============================] - 81s 45ms/step - loss: 0.0986 - acc: 0.9581\n",
            "Epoch 13/40\n",
            "1788/1788 [==============================] - 81s 45ms/step - loss: 0.0911 - acc: 0.9609\n",
            "Epoch 14/40\n",
            "1788/1788 [==============================] - 81s 45ms/step - loss: 0.0911 - acc: 0.9575\n",
            "Epoch 15/40\n",
            "1788/1788 [==============================] - 82s 46ms/step - loss: 0.0852 - acc: 0.9592\n",
            "Epoch 16/40\n",
            "1788/1788 [==============================] - 81s 46ms/step - loss: 0.0770 - acc: 0.9676\n",
            "Epoch 17/40\n",
            "1788/1788 [==============================] - 82s 46ms/step - loss: 0.0773 - acc: 0.9670\n",
            "Epoch 18/40\n",
            "1788/1788 [==============================] - 82s 46ms/step - loss: 0.0728 - acc: 0.9659\n",
            "Epoch 19/40\n",
            "1788/1788 [==============================] - 82s 46ms/step - loss: 0.0699 - acc: 0.9715\n",
            "Epoch 20/40\n",
            "1788/1788 [==============================] - 81s 45ms/step - loss: 0.0640 - acc: 0.9726\n",
            "Epoch 21/40\n",
            "1788/1788 [==============================] - 81s 45ms/step - loss: 0.0668 - acc: 0.9715\n",
            "Epoch 22/40\n",
            "1788/1788 [==============================] - 81s 45ms/step - loss: 0.0562 - acc: 0.9754\n",
            "Epoch 23/40\n",
            "1788/1788 [==============================] - 81s 46ms/step - loss: 0.0579 - acc: 0.9776\n",
            "Epoch 24/40\n",
            "1788/1788 [==============================] - 82s 46ms/step - loss: 0.0635 - acc: 0.9704\n",
            "1788/1788 [==============================] - 82s 46ms/step - loss: 0.0635 - acc: 0.9704\n",
            "Epoch 25/40\n",
            "Epoch 25/40\n",
            "1788/1788 [==============================] - 81s 45ms/step - loss: 0.0510 - acc: 0.9782\n",
            "1788/1788 [==============================] - 81s 45ms/step - loss: 0.0510 - acc: 0.9782\n",
            "Epoch 26/40\n",
            "Epoch 26/40\n",
            "1788/1788 [==============================] - 81s 45ms/step - loss: 0.0538 - acc: 0.9799\n",
            "1788/1788 [==============================] - 81s 45ms/step - loss: 0.0538 - acc: 0.9799\n",
            "Epoch 27/40\n",
            "Epoch 27/40\n",
            "1788/1788 [==============================] - 83s 46ms/step - loss: 0.0518 - acc: 0.9787\n",
            "1788/1788 [==============================] - 83s 46ms/step - loss: 0.0518 - acc: 0.9787\n",
            "Epoch 28/40\n",
            "Epoch 28/40\n",
            "1788/1788 [==============================] - 81s 45ms/step - loss: 0.0475 - acc: 0.9827\n",
            "1788/1788 [==============================] - 81s 45ms/step - loss: 0.0475 - acc: 0.9827\n",
            "Epoch 29/40\n",
            "Epoch 29/40\n",
            "1788/1788 [==============================] - 81s 46ms/step - loss: 0.0420 - acc: 0.9838\n",
            "1788/1788 [==============================] - 81s 46ms/step - loss: 0.0420 - acc: 0.9838\n",
            "Epoch 30/40\n",
            "Epoch 30/40\n",
            "1788/1788 [==============================] - 82s 46ms/step - loss: 0.0419 - acc: 0.9815\n",
            "1788/1788 [==============================] - 82s 46ms/step - loss: 0.0419 - acc: 0.9815\n",
            "Epoch 31/40\n",
            "Epoch 31/40\n",
            "1788/1788 [==============================] - 81s 45ms/step - loss: 0.0395 - acc: 0.9849\n",
            "1788/1788 [==============================] - 81s 45ms/step - loss: 0.0395 - acc: 0.9849\n",
            "Epoch 32/40\n",
            "Epoch 32/40\n",
            "1788/1788 [==============================] - 81s 45ms/step - loss: 0.0398 - acc: 0.9821\n",
            "1788/1788 [==============================] - 81s 45ms/step - loss: 0.0398 - acc: 0.9821\n",
            "Epoch 33/40\n",
            "Epoch 33/40\n",
            "1788/1788 [==============================] - 81s 45ms/step - loss: 0.0420 - acc: 0.9810\n",
            "1788/1788 [==============================] - 81s 45ms/step - loss: 0.0420 - acc: 0.9810\n",
            "Epoch 34/40\n",
            "Epoch 34/40\n",
            "1788/1788 [==============================] - 81s 45ms/step - loss: 0.0369 - acc: 0.9871\n",
            "1788/1788 [==============================] - 81s 45ms/step - loss: 0.0369 - acc: 0.9871\n",
            "Epoch 35/40\n",
            "Epoch 35/40\n",
            "1788/1788 [==============================] - 81s 45ms/step - loss: 0.0381 - acc: 0.9866\n",
            "1788/1788 [==============================] - 81s 45ms/step - loss: 0.0381 - acc: 0.9866\n",
            "Epoch 36/40\n",
            "Epoch 36/40\n",
            "1788/1788 [==============================] - 82s 46ms/step - loss: 0.0375 - acc: 0.9871\n",
            "1788/1788 [==============================] - 82s 46ms/step - loss: 0.0375 - acc: 0.9871\n",
            "Epoch 37/40\n",
            "Epoch 37/40\n",
            "1788/1788 [==============================] - 81s 45ms/step - loss: 0.0306 - acc: 0.9877\n",
            "1788/1788 [==============================] - 81s 45ms/step - loss: 0.0306 - acc: 0.9877\n",
            "Epoch 38/40\n",
            "Epoch 38/40\n",
            "1788/1788 [==============================] - 82s 46ms/step - loss: 0.0327 - acc: 0.9855\n",
            "1788/1788 [==============================] - 82s 46ms/step - loss: 0.0327 - acc: 0.9855\n",
            "Epoch 39/40\n",
            "Epoch 39/40\n",
            "1788/1788 [==============================] - 81s 45ms/step - loss: 0.0311 - acc: 0.9866\n",
            "1788/1788 [==============================] - 81s 45ms/step - loss: 0.0311 - acc: 0.9866\n",
            "Epoch 40/40\n",
            "Epoch 40/40\n",
            "1788/1788 [==============================] - 81s 46ms/step - loss: 0.0273 - acc: 0.9888\n",
            "1788/1788 [==============================] - 81s 46ms/step - loss: 0.0273 - acc: 0.9888\n"
          ],
          "name": "stdout"
        }
      ]
    },
    {
      "cell_type": "code",
      "metadata": {
        "id": "A3aUJH_rS6v0",
        "colab_type": "code",
        "outputId": "8920c395-2fdc-4bad-f8d3-c67b778b232e",
        "colab": {
          "base_uri": "https://localhost:8080/",
          "height": 51
        }
      },
      "source": [
        "model.evaluate(xtest,ytest)"
      ],
      "execution_count": 26,
      "outputs": [
        {
          "output_type": "stream",
          "text": [
            "5040/5040 [==============================] - 95s 19ms/step\n"
          ],
          "name": "stdout"
        },
        {
          "output_type": "execute_result",
          "data": {
            "text/plain": [
              "[1.6962928467792355, 0.5811507936507937]"
            ]
          },
          "metadata": {
            "tags": []
          },
          "execution_count": 26
        }
      ]
    },
    {
      "cell_type": "code",
      "metadata": {
        "id": "8YDuuB16S7Hi",
        "colab_type": "code",
        "outputId": "341b975d-fdc6-4179-8f29-9d036c91ccf4",
        "colab": {
          "base_uri": "https://localhost:8080/",
          "height": 170
        }
      },
      "source": [
        "import numpy as np\n",
        "from sklearn.metrics import classification_report,confusion_matrix\n",
        "import itertools\n",
        "\n",
        "Y_pred = model.predict(xtest)\n",
        "y_pred = np.argmax(Y_pred, axis=1)\n",
        "target_names = ['class 0', 'class 1']\n",
        "print(classification_report(np.argmax(ytest,axis=1), y_pred,target_names=target_names))"
      ],
      "execution_count": 19,
      "outputs": [
        {
          "output_type": "stream",
          "text": [
            "              precision    recall  f1-score   support\n",
            "\n",
            "     class 0       0.67      0.26      0.38        46\n",
            "     class 1       0.96      0.99      0.98       835\n",
            "\n",
            "    accuracy                           0.95       881\n",
            "   macro avg       0.81      0.63      0.68       881\n",
            "weighted avg       0.95      0.95      0.95       881\n",
            "\n"
          ],
          "name": "stdout"
        }
      ]
    },
    {
      "cell_type": "code",
      "metadata": {
        "id": "oo5hhhTMv79q",
        "colab_type": "code",
        "outputId": "f045e0cc-3424-4af7-9388-fcb90e5c0ce5",
        "colab": {
          "base_uri": "https://localhost:8080/",
          "height": 51
        }
      },
      "source": [
        "model.evaluate(xtrain,ytrain)"
      ],
      "execution_count": 20,
      "outputs": [
        {
          "output_type": "stream",
          "text": [
            "1788/1788 [==============================] - 54s 30ms/step\n"
          ],
          "name": "stdout"
        },
        {
          "output_type": "execute_result",
          "data": {
            "text/plain": [
              "[0.0045276638248026935, 0.9994407158836689]"
            ]
          },
          "metadata": {
            "tags": []
          },
          "execution_count": 20
        }
      ]
    },
    {
      "cell_type": "code",
      "metadata": {
        "id": "X9oonnfwv8LD",
        "colab_type": "code",
        "outputId": "b369ae2c-da5c-4c48-b74a-41c1b0c17d94",
        "colab": {
          "base_uri": "https://localhost:8080/",
          "height": 170
        }
      },
      "source": [
        "import numpy as np\n",
        "from sklearn.metrics import classification_report,confusion_matrix\n",
        "import itertools\n",
        "\n",
        "Y_pred = model.predict(xtrain)\n",
        "y_pred = np.argmax(Y_pred, axis=1)\n",
        "target_names = ['class 0', 'class 1']\n",
        "print(classification_report(np.argmax(ytrain,axis=1), y_pred,target_names=target_names))"
      ],
      "execution_count": 21,
      "outputs": [
        {
          "output_type": "stream",
          "text": [
            "              precision    recall  f1-score   support\n",
            "\n",
            "     class 0       1.00      0.99      1.00       103\n",
            "     class 1       1.00      1.00      1.00      1685\n",
            "\n",
            "    accuracy                           1.00      1788\n",
            "   macro avg       1.00      1.00      1.00      1788\n",
            "weighted avg       1.00      1.00      1.00      1788\n",
            "\n"
          ],
          "name": "stdout"
        }
      ]
    },
    {
      "cell_type": "code",
      "metadata": {
        "id": "bO3xhAVgi0fI",
        "colab_type": "code",
        "outputId": "e15000a8-d797-4bef-921e-008b856275dd",
        "colab": {
          "base_uri": "https://localhost:8080/",
          "height": 34
        }
      },
      "source": [
        "import os\n",
        "os.chdir('/content/drive/My Drive/Aug_PCB')\n",
        "os.getcwd()"
      ],
      "execution_count": 22,
      "outputs": [
        {
          "output_type": "execute_result",
          "data": {
            "text/plain": [
              "'/content/drive/My Drive/Aug_PCB'"
            ]
          },
          "metadata": {
            "tags": []
          },
          "execution_count": 22
        }
      ]
    },
    {
      "cell_type": "code",
      "metadata": {
        "id": "jfsw0lkQi7Gc",
        "colab_type": "code",
        "outputId": "05ebceb9-6434-4acf-a4c3-fc1b4580240e",
        "colab": {
          "base_uri": "https://localhost:8080/",
          "height": 221
        }
      },
      "source": [
        "import numpy as np\n",
        "xtest=np.load(\"s_x_train.npy\")\n",
        "ytest=np.load(\"s_y_train.npy\")\n",
        "xtest  = xtest.astype('float32')\n",
        "\n",
        "\n",
        "mean = np.mean(xtest)\n",
        "std  = np.std(xtest)\n",
        "\n",
        "print(mean)\n",
        "print(std)\n",
        "\n",
        "\n",
        "xtest -= mean\n",
        "xtest /= std\n",
        "ytest  =  to_categorical(ytest)\n",
        "print(ytest[0])\n",
        "import numpy as np\n",
        "from sklearn.metrics import classification_report,confusion_matrix\n",
        "import itertools\n",
        "\n",
        "Y_pred = model.predict(xtest)\n",
        "y_pred = np.argmax(Y_pred, axis=1)\n",
        "target_names = ['class 0', 'class 1']\n",
        "print(classification_report(np.argmax(ytest,axis=1), y_pred,target_names=target_names))"
      ],
      "execution_count": 23,
      "outputs": [
        {
          "output_type": "stream",
          "text": [
            "0.20878915\n",
            "0.20782994\n",
            "[1. 0.]\n",
            "              precision    recall  f1-score   support\n",
            "\n",
            "     class 0       0.99      0.18      0.30      2520\n",
            "     class 1       0.55      1.00      0.71      2520\n",
            "\n",
            "    accuracy                           0.59      5040\n",
            "   macro avg       0.77      0.59      0.51      5040\n",
            "weighted avg       0.77      0.59      0.51      5040\n",
            "\n"
          ],
          "name": "stdout"
        }
      ]
    }
  ]
}