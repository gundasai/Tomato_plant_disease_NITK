{
  "nbformat": 4,
  "nbformat_minor": 0,
  "metadata": {
    "colab": {
      "name": "0011z_LeNet.ipynb",
      "provenance": [],
      "collapsed_sections": [],
      "include_colab_link": true
    },
    "kernelspec": {
      "name": "python3",
      "display_name": "Python 3"
    },
    "accelerator": "GPU"
  },
  "cells": [
    {
      "cell_type": "markdown",
      "metadata": {
        "id": "view-in-github",
        "colab_type": "text"
      },
      "source": [
        "<a href=\"https://colab.research.google.com/github/gundasai/deeplearning/blob/master/0011z_LeNet.ipynb\" target=\"_parent\"><img src=\"https://colab.research.google.com/assets/colab-badge.svg\" alt=\"Open In Colab\"/></a>"
      ]
    },
    {
      "cell_type": "markdown",
      "metadata": {
        "id": "LcTlE8AAz1y3",
        "colab_type": "text"
      },
      "source": [
        "# tamato \n"
      ]
    },
    {
      "cell_type": "code",
      "metadata": {
        "id": "RoO2sto-y1gM",
        "colab_type": "code",
        "outputId": "113d30e5-a7e5-4feb-b4d0-ed5aeb594e5c",
        "colab": {
          "base_uri": "https://localhost:8080/",
          "height": 124
        }
      },
      "source": [
        "from google.colab import drive\n",
        "drive.mount('/content/drive/')"
      ],
      "execution_count": 1,
      "outputs": [
        {
          "output_type": "stream",
          "text": [
            "Go to this URL in a browser: https://accounts.google.com/o/oauth2/auth?client_id=947318989803-6bn6qk8qdgf4n4g3pfee6491hc0brc4i.apps.googleusercontent.com&redirect_uri=urn%3aietf%3awg%3aoauth%3a2.0%3aoob&response_type=code&scope=email%20https%3a%2f%2fwww.googleapis.com%2fauth%2fdocs.test%20https%3a%2f%2fwww.googleapis.com%2fauth%2fdrive%20https%3a%2f%2fwww.googleapis.com%2fauth%2fdrive.photos.readonly%20https%3a%2f%2fwww.googleapis.com%2fauth%2fpeopleapi.readonly\n",
            "\n",
            "Enter your authorization code:\n",
            "··········\n",
            "Mounted at /content/drive/\n"
          ],
          "name": "stdout"
        }
      ]
    },
    {
      "cell_type": "code",
      "metadata": {
        "id": "M3gvTLHF0WrA",
        "colab_type": "code",
        "outputId": "83a2845e-6c5a-44ab-f689-379c3ade2c46",
        "colab": {
          "base_uri": "https://localhost:8080/",
          "height": 34
        }
      },
      "source": [
        "import os\n",
        "os.chdir('/content/drive/My Drive/PlantVillage')\n",
        "os.getcwd()"
      ],
      "execution_count": 2,
      "outputs": [
        {
          "output_type": "execute_result",
          "data": {
            "text/plain": [
              "'/content/drive/My Drive/PlantVillage'"
            ]
          },
          "metadata": {
            "tags": []
          },
          "execution_count": 2
        }
      ]
    },
    {
      "cell_type": "markdown",
      "metadata": {
        "id": "D_GLvaZxRf22",
        "colab_type": "text"
      },
      "source": [
        "### Datasets and Pre Processing"
      ]
    },
    {
      "cell_type": "code",
      "metadata": {
        "id": "lprTCs8D0W4z",
        "colab_type": "code",
        "colab": {}
      },
      "source": [
        "import keras\n",
        "import keras\n",
        "from keras.preprocessing import image\n",
        "import numpy as np\n",
        "import pandas as pd\n",
        "x=[]\n",
        "y=[]\n",
        "path='/content/drive/My Drive/PlantVillage/Tomato__Target_Spot'\n",
        "for i in os.listdir(path):\n",
        "  img=image.load_img(os.path.join(path,i),color_mode='rgb')\n",
        "  img=image.img_to_array(img)\n",
        "  img=img/255.0\n",
        "  x.append(img)\n",
        "  y.append(0)\n",
        "path='/content/drive/My Drive/PlantVillage/Tomato__Tomato_mosaic_virus'\n",
        "for i in os.listdir(path):\n",
        "  img=image.load_img(os.path.join(path,i),color_mode='rgb')\n",
        "  img=image.img_to_array(img)\n",
        "  img=img/255.0\n",
        "  x.append(img)\n",
        "  y.append(1)\n",
        "x=np.array(x)\n",
        "y=np.array(y)"
      ],
      "execution_count": 0,
      "outputs": []
    },
    {
      "cell_type": "code",
      "metadata": {
        "id": "sXI5_11wGoVi",
        "colab_type": "code",
        "colab": {}
      },
      "source": [
        "from sklearn.utils import shuffle\n",
        "(x,y)=shuffle(x,y)"
      ],
      "execution_count": 0,
      "outputs": []
    },
    {
      "cell_type": "code",
      "metadata": {
        "id": "mtwQiJg9D2Ja",
        "colab_type": "code",
        "colab": {}
      },
      "source": [
        "from sklearn.model_selection import train_test_split\n",
        "xtrain, xtest, ytrain, ytest = train_test_split(x, y, test_size=0.33, random_state=42)"
      ],
      "execution_count": 0,
      "outputs": []
    },
    {
      "cell_type": "code",
      "metadata": {
        "id": "e4xqjBZbD2P0",
        "colab_type": "code",
        "outputId": "16b8a78f-36c7-4949-fda3-461a1bb512c1",
        "colab": {
          "base_uri": "https://localhost:8080/",
          "height": 190
        }
      },
      "source": [
        "print(xtrain.shape)\n",
        "print(ytrain.shape)\n",
        "\n",
        "print(xtest.shape)\n",
        "print(ytest.shape)\n",
        "\n",
        "print(xtrain.ndim)\n",
        "print(xtrain.dtype)\n",
        "\n",
        "print(xtrain.ndim)\n",
        "print(xtrain.dtype)\n",
        "\n",
        "print(xtest.ndim)\n",
        "print(xtest.dtype)"
      ],
      "execution_count": 47,
      "outputs": [
        {
          "output_type": "stream",
          "text": [
            "(1190, 256, 256, 3)\n",
            "(1190,)\n",
            "(587, 256, 256, 3)\n",
            "(587,)\n",
            "4\n",
            "float32\n",
            "4\n",
            "float32\n",
            "4\n",
            "float32\n"
          ],
          "name": "stdout"
        }
      ]
    },
    {
      "cell_type": "code",
      "metadata": {
        "id": "S3xk-bBLD2Nk",
        "colab_type": "code",
        "outputId": "fd4211a2-8844-4ca0-ebef-3ffb5139303c",
        "colab": {
          "base_uri": "https://localhost:8080/",
          "height": 286
        }
      },
      "source": [
        "import matplotlib.pyplot as plt\n",
        "%matplotlib inline\n",
        "plt.imshow(xtest[0], cmap='brg')"
      ],
      "execution_count": 48,
      "outputs": [
        {
          "output_type": "execute_result",
          "data": {
            "text/plain": [
              "<matplotlib.image.AxesImage at 0x7f09f54ca7b8>"
            ]
          },
          "metadata": {
            "tags": []
          },
          "execution_count": 48
        },
        {
          "output_type": "display_data",
          "data": {
            "image/png": "[encoded data removed]",
            "text/plain": [
              "<Figure size 432x288 with 1 Axes>"
            ]
          },
          "metadata": {
            "tags": []
          }
        }
      ]
    },
    {
      "cell_type": "code",
      "metadata": {
        "id": "4fcunBsjD2Fv",
        "colab_type": "code",
        "outputId": "27a271aa-c046-449b-f5b7-fa5558415deb",
        "colab": {
          "base_uri": "https://localhost:8080/",
          "height": 121
        }
      },
      "source": [
        "print(xtrain.shape[0])\n",
        "print(xtrain.shape[1])\n",
        "print(xtrain.shape[2])\n",
        "print(xtrain.shape[3])\n",
        "print(xtrain.shape)\n",
        "print(type(xtrain[0][0][0][0]))"
      ],
      "execution_count": 49,
      "outputs": [
        {
          "output_type": "stream",
          "text": [
            "1190\n",
            "256\n",
            "256\n",
            "3\n",
            "(1190, 256, 256, 3)\n",
            "<class 'numpy.float32'>\n"
          ],
          "name": "stdout"
        }
      ]
    },
    {
      "cell_type": "code",
      "metadata": {
        "id": "1cP9X7xZ2eLs",
        "colab_type": "code",
        "colab": {}
      },
      "source": [
        "xtrain = xtrain.astype('float32')\n",
        "xtest  = xtest.astype('float32')"
      ],
      "execution_count": 0,
      "outputs": []
    },
    {
      "cell_type": "code",
      "metadata": {
        "id": "_P1taguL2c2p",
        "colab_type": "code",
        "colab": {
          "base_uri": "https://localhost:8080/",
          "height": 34
        },
        "outputId": "9a3c3583-e50c-4ac3-ef4f-dda580b1ea17"
      },
      "source": [
        "print(type(xtrain))"
      ],
      "execution_count": 13,
      "outputs": [
        {
          "output_type": "stream",
          "text": [
            "<class 'numpy.ndarray'>\n"
          ],
          "name": "stdout"
        }
      ]
    },
    {
      "cell_type": "code",
      "metadata": {
        "id": "9s6UNFM62Djm",
        "colab_type": "code",
        "outputId": "5dfe5884-3dbe-4b4d-b00a-ea803b8ae946",
        "colab": {
          "base_uri": "https://localhost:8080/",
          "height": 155
        }
      },
      "source": [
        "#keras.utils.normalize(a, axis=-1, order=2)\n",
        "print (np.max(xtrain),np.max(xtest))\n",
        "print (np.min(xtrain),np.min(xtest))\n",
        "\n",
        "print (np.max(ytrain),np.max(ytest))\n",
        "print (np.min(ytrain),np.min(ytest))\n",
        "\n",
        "mean = np.mean(xtrain)\n",
        "std  = np.std(xtrain)\n",
        "\n",
        "print(mean)\n",
        "print(std)\n",
        "\n",
        "xtrain -= mean\n",
        "xtrain /= std\n",
        "\n",
        "xtest -= mean\n",
        "xtest /= std\n",
        "\n",
        "print (np.max(xtrain),np.max(xtest))\n",
        "print (np.min(xtrain),np.min(xtest))"
      ],
      "execution_count": 52,
      "outputs": [
        {
          "output_type": "stream",
          "text": [
            "1.0 1.0\n",
            "0.0 0.0\n",
            "1 1\n",
            "0 0\n",
            "0.45870566\n",
            "0.18837602\n",
            "2.873478 2.873478\n",
            "-2.4350533 -2.4350533\n"
          ],
          "name": "stdout"
        }
      ]
    },
    {
      "cell_type": "code",
      "metadata": {
        "id": "7A91IbEa0W8s",
        "colab_type": "code",
        "colab": {}
      },
      "source": [
        "xtrain = xtrain.reshape(xtrain.shape[0],256,256,3)\n",
        "xtest =  xtest.reshape(xtest.shape[0],256,256,3)"
      ],
      "execution_count": 0,
      "outputs": []
    },
    {
      "cell_type": "code",
      "metadata": {
        "id": "Z2f6zVzZ25oF",
        "colab_type": "code",
        "colab": {
          "base_uri": "https://localhost:8080/",
          "height": 34
        },
        "outputId": "9789a232-83e7-48d4-a550-86f85888d070"
      },
      "source": [
        "print(xtrain.shape)"
      ],
      "execution_count": 19,
      "outputs": [
        {
          "output_type": "stream",
          "text": [
            "(1190, 256, 256, 3)\n"
          ],
          "name": "stdout"
        }
      ]
    },
    {
      "cell_type": "code",
      "metadata": {
        "id": "zMbLmBA_0W2F",
        "colab_type": "code",
        "outputId": "233f9787-0f0d-43c5-82d1-84c1ee266a59",
        "colab": {
          "base_uri": "https://localhost:8080/",
          "height": 34
        }
      },
      "source": [
        "from keras.utils import to_categorical\n",
        "ytrain = to_categorical(ytrain)\n",
        "ytest  =  to_categorical(ytest)\n",
        "print(ytest[0])"
      ],
      "execution_count": 54,
      "outputs": [
        {
          "output_type": "stream",
          "text": [
            "[0. 1.]\n"
          ],
          "name": "stdout"
        }
      ]
    },
    {
      "cell_type": "markdown",
      "metadata": {
        "id": "Kk6PWrfHRpSI",
        "colab_type": "text"
      },
      "source": [
        "### LeNet Model"
      ]
    },
    {
      "cell_type": "code",
      "metadata": {
        "id": "7W8d09qsELhH",
        "colab_type": "code",
        "colab": {}
      },
      "source": [
        "import keras\n",
        "from keras import models\n",
        "from keras import layers"
      ],
      "execution_count": 0,
      "outputs": []
    },
    {
      "cell_type": "code",
      "metadata": {
        "id": "M4Bna6oRELmu",
        "colab_type": "code",
        "outputId": "505132d1-1f79-4fbd-97c8-771ea17b5f02",
        "colab": {
          "base_uri": "https://localhost:8080/",
          "height": 432
        }
      },
      "source": [
        "model = models.Sequential()\n",
        "\n",
        "model.add(layers.Conv2D(6, (5,5), input_shape=(256,256,3), activation='relu', strides=(1,1), padding='valid'))\n",
        "model.add(layers.AveragePooling2D(pool_size=(2,2), strides=(2,2)))\n",
        "\n",
        "model.add(layers.Conv2D(16, (5,5),activation='relu', strides=(1,1), padding='valid'))\n",
        "model.add(layers.AveragePooling2D(pool_size=(2,2), strides=(2,2)))\n",
        "\n",
        "model.add(layers.Flatten())\n",
        "\n",
        "model.add(layers.Dense(120, activation='relu'))\n",
        "model.add(layers.Dense(84, activation='relu'))\n",
        "\n",
        "model.add(layers.Dense(2, activation='softmax'))\n",
        "\n",
        "model.summary()"
      ],
      "execution_count": 56,
      "outputs": [
        {
          "output_type": "stream",
          "text": [
            "Model: \"sequential_2\"\n",
            "_________________________________________________________________\n",
            "Layer (type)                 Output Shape              Param #   \n",
            "=================================================================\n",
            "conv2d_3 (Conv2D)            (None, 252, 252, 6)       456       \n",
            "_________________________________________________________________\n",
            "average_pooling2d_3 (Average (None, 126, 126, 6)       0         \n",
            "_________________________________________________________________\n",
            "conv2d_4 (Conv2D)            (None, 122, 122, 16)      2416      \n",
            "_________________________________________________________________\n",
            "average_pooling2d_4 (Average (None, 61, 61, 16)        0         \n",
            "_________________________________________________________________\n",
            "flatten_2 (Flatten)          (None, 59536)             0         \n",
            "_________________________________________________________________\n",
            "dense_4 (Dense)              (None, 120)               7144440   \n",
            "_________________________________________________________________\n",
            "dense_5 (Dense)              (None, 84)                10164     \n",
            "_________________________________________________________________\n",
            "dense_6 (Dense)              (None, 2)                 170       \n",
            "=================================================================\n",
            "Total params: 7,157,646\n",
            "Trainable params: 7,157,646\n",
            "Non-trainable params: 0\n",
            "_________________________________________________________________\n"
          ],
          "name": "stdout"
        }
      ]
    },
    {
      "cell_type": "code",
      "metadata": {
        "id": "o4K2xPpe3TXK",
        "colab_type": "code",
        "colab": {
          "base_uri": "https://localhost:8080/",
          "height": 34
        },
        "outputId": "53f895a0-4887-4dbe-eb53-a44fd330dbc3"
      },
      "source": [
        "weight_conv2d_1 = model.layers[0].get_weights()[0]\n",
        "print(weight_conv2d_1.shape)"
      ],
      "execution_count": 27,
      "outputs": [
        {
          "output_type": "stream",
          "text": [
            "(5, 5, 3, 6)\n"
          ],
          "name": "stdout"
        }
      ]
    },
    {
      "cell_type": "markdown",
      "metadata": {
        "id": "MD0IUy1HRwUS",
        "colab_type": "text"
      },
      "source": [
        "### Visualization of randomly initialized filters"
      ]
    },
    {
      "cell_type": "code",
      "metadata": {
        "id": "LibQa_Z0ELrx",
        "colab_type": "code",
        "outputId": "c7816a72-8709-4eb0-d8b2-153b8683984a",
        "colab": {
          "base_uri": "https://localhost:8080/",
          "height": 278
        }
      },
      "source": [
        "weight_conv2d_1 = model.layers[0].get_weights()[0][:,:,0,:]\n",
        " \n",
        "col_size = 3\n",
        "row_size = 2\n",
        "filter_index = 0\n",
        "fig, ax = plt.subplots(row_size, col_size, figsize=(5,5))\n",
        "for row in range(0,row_size): \n",
        "  for col in range(0,col_size):\n",
        "    ax[row][col].imshow(weight_conv2d_1[:,:,filter_index],cmap=\"gray\")\n",
        "    filter_index += 1"
      ],
      "execution_count": 57,
      "outputs": [
        {
          "output_type": "display_data",
          "data": {
            "image/png": "[encoded data removed]",
            "text/plain": [
              "<Figure size 360x360 with 6 Axes>"
            ]
          },
          "metadata": {
            "tags": []
          }
        }
      ]
    },
    {
      "cell_type": "code",
      "metadata": {
        "id": "ggvk1lXjEZnW",
        "colab_type": "code",
        "outputId": "df468053-4df8-41f3-e75e-ab565770f3a9",
        "colab": {
          "base_uri": "https://localhost:8080/",
          "height": 622
        }
      },
      "source": [
        "print(weight_conv2d_1[:,:,0])\n",
        "print(\"\")\n",
        "print(weight_conv2d_1[:,:,1])\n",
        "print(\"\")\n",
        "print(weight_conv2d_1[:,:,2])\n",
        "print(\"\")\n",
        "print(weight_conv2d_1[:,:,3])\n",
        "print(\"\")\n",
        "print(weight_conv2d_1[:,:,4])\n",
        "print(\"\")\n",
        "print(weight_conv2d_1[:,:,5])"
      ],
      "execution_count": 58,
      "outputs": [
        {
          "output_type": "stream",
          "text": [
            "[[-0.14172707  0.04590057 -0.15652578 -0.0026298  -0.02282292]\n",
            " [ 0.09286997 -0.02115411 -0.01471351  0.06911862  0.11380181]\n",
            " [ 0.10528505  0.15816033  0.05592729  0.03490467 -0.14261477]\n",
            " [-0.15606289  0.01262227 -0.08667381  0.023093    0.150222  ]\n",
            " [-0.03745066 -0.06216067  0.12526435  0.06444977 -0.08526854]]\n",
            "\n",
            "[[ 0.10507995 -0.00252628  0.05016924  0.0439081  -0.10652776]\n",
            " [-0.16329037 -0.13573882 -0.11785167 -0.05370196 -0.02521288]\n",
            " [ 0.1589782  -0.00642361 -0.03968217  0.1097497   0.07782283]\n",
            " [-0.06997164  0.1016781  -0.09849704 -0.02010846 -0.16307141]\n",
            " [-0.00930949  0.14037675  0.04175079  0.01135272 -0.08958094]]\n",
            "\n",
            "[[-0.14479765  0.14509696  0.05205682  0.15188575  0.1482861 ]\n",
            " [ 0.0878033   0.10680166 -0.08992745 -0.10611312 -0.00043979]\n",
            " [-0.10202929  0.06015742 -0.01591402 -0.00538464 -0.07925801]\n",
            " [ 0.02911812 -0.05981352 -0.15803106  0.1112482  -0.13174687]\n",
            " [ 0.11609146  0.0774207  -0.12761022 -0.15679526  0.07512061]]\n",
            "\n",
            "[[ 0.05514336  0.01945384 -0.07001206 -0.02494895 -0.03760074]\n",
            " [ 0.06085643  0.10756367 -0.11697847 -0.14333908  0.0770576 ]\n",
            " [-0.02352507 -0.03318524 -0.04728286 -0.08910163 -0.08563946]\n",
            " [ 0.13215703 -0.02335092  0.09275395  0.08485374 -0.11499831]\n",
            " [ 0.10273084 -0.02511314 -0.08386085 -0.00935002 -0.03776963]]\n",
            "\n",
            "[[-0.09508919  0.03838381  0.0548823   0.12356564 -0.15833844]\n",
            " [-0.03634785  0.09314001 -0.01874208  0.01719569  0.09777755]\n",
            " [ 0.1233153  -0.06725926  0.0422702   0.06831291  0.10463318]\n",
            " [-0.1287143  -0.08249713  0.14353538 -0.12464789 -0.02701509]\n",
            " [ 0.07660352  0.07251479 -0.15274929 -0.13607049  0.04172119]]\n",
            "\n",
            "[[-0.04664949  0.10205498  0.01352666  0.13969275 -0.13006215]\n",
            " [ 0.12520462 -0.15856037 -0.05001514  0.05379824  0.13312414]\n",
            " [ 0.03403683 -0.00930443  0.12766746  0.04400317 -0.10166468]\n",
            " [ 0.06079905 -0.15917435 -0.15111876  0.02075021 -0.15053958]\n",
            " [ 0.01563853 -0.04400022 -0.15919432  0.15030122  0.00321914]]\n"
          ],
          "name": "stdout"
        }
      ]
    },
    {
      "cell_type": "code",
      "metadata": {
        "id": "cRytZyDrELwu",
        "colab_type": "code",
        "outputId": "76e0b36d-921a-48e0-a423-2151577c8950",
        "colab": {
          "base_uri": "https://localhost:8080/",
          "height": 483
        }
      },
      "source": [
        "weight_conv2d_2 = model.layers[2].get_weights()[0][:,:,0,:]\n",
        "#plt.axis=(\"OFF\")\n",
        "col_size = 4\n",
        "row_size = 4\n",
        "filter_index = 0\n",
        "fig, ax = plt.subplots(row_size, col_size, figsize=(12,8))\n",
        "for row in range(0,row_size): \n",
        "  for col in range(0,col_size):\n",
        "    ax[row][col].imshow(weight_conv2d_2[:,:,filter_index],cmap=\"gray\")\n",
        "    filter_index += 1"
      ],
      "execution_count": 0,
      "outputs": [
        {
          "output_type": "display_data",
          "data": {
            "image/png": "[encoded data removed]",
            "text/plain": [
              "<Figure size 864x576 with 16 Axes>"
            ]
          },
          "metadata": {
            "tags": []
          }
        }
      ]
    },
    {
      "cell_type": "code",
      "metadata": {
        "id": "wnwxFfN-EL11",
        "colab_type": "code",
        "outputId": "d825d759-b1b5-465f-db3b-38fdf19c79e7",
        "colab": {
          "base_uri": "https://localhost:8080/",
          "height": 1000
        }
      },
      "source": [
        "print(weight_conv2d_2[:,:,0])\n",
        "print(\"\")\n",
        "print(weight_conv2d_2[:,:,1])\n",
        "print(\"\")\n",
        "print(weight_conv2d_2[:,:,2])\n",
        "print(\"\")\n",
        "print(weight_conv2d_2[:,:,3])\n",
        "print(\"\")\n",
        "print(weight_conv2d_2[:,:,4])\n",
        "print(\"\")\n",
        "print(weight_conv2d_2[:,:,5])\n",
        "print(\"\")\n",
        "print(weight_conv2d_2[:,:,6])\n",
        "print(\"\")\n",
        "print(weight_conv2d_2[:,:,7])\n",
        "print(\"\")\n",
        "print(weight_conv2d_2[:,:,8])\n",
        "print(\"\")\n",
        "print(weight_conv2d_2[:,:,9])\n",
        "print(\"\")\n",
        "print(weight_conv2d_2[:,:,10])\n",
        "print(\"\")\n",
        "print(weight_conv2d_2[:,:,11])\n",
        "print(\"\")\n",
        "print(weight_conv2d_2[:,:,12])\n",
        "print(\"\")\n",
        "print(weight_conv2d_2[:,:,13])\n",
        "print(\"\")\n",
        "print(weight_conv2d_2[:,:,14])\n",
        "print(\"\")\n",
        "print(weight_conv2d_2[:,:,15])"
      ],
      "execution_count": 0,
      "outputs": [
        {
          "output_type": "stream",
          "text": [
            "[[ 0.07095663 -0.076038   -0.05779788  0.07037282 -0.00076324]\n",
            " [-0.05162129  0.05612586 -0.06370746 -0.09985491  0.03471956]\n",
            " [ 0.05630668 -0.02196972 -0.09057463 -0.09777109 -0.06144595]\n",
            " [ 0.08286628 -0.09313184  0.06431304  0.05865286  0.06372501]\n",
            " [ 0.05752438 -0.03739079 -0.07620582  0.02445    -0.02178296]]\n",
            "\n",
            "[[-9.7110406e-02  8.2502365e-02  9.1967121e-02 -2.9515550e-02\n",
            "  -5.6922436e-05]\n",
            " [-6.7967691e-02 -9.7143158e-02  5.9075847e-02  5.5854112e-02\n",
            "   2.1050707e-02]\n",
            " [ 4.6162322e-02  8.8163391e-02  1.1813410e-02 -3.1273216e-03\n",
            "  -5.9919585e-02]\n",
            " [-3.8542978e-02 -6.5534294e-02 -1.8973961e-02 -5.3455420e-02\n",
            "   5.1555768e-02]\n",
            " [ 8.6908489e-03 -1.8554561e-02 -4.2154416e-02 -3.9854296e-02\n",
            "   3.8965359e-02]]\n",
            "\n",
            "[[ 0.00223435 -0.07766037  0.08690472  0.05941176  0.04025459]\n",
            " [-0.06460995  0.00691272 -0.03492417  0.03946188  0.07344939]\n",
            " [-0.05341871  0.10405983  0.0787304  -0.06649177  0.03128053]\n",
            " [ 0.05891643  0.01994304 -0.08535308  0.04489516 -0.03200381]\n",
            " [ 0.02438822 -0.07360939 -0.06029508  0.01127687 -0.06939194]]\n",
            "\n",
            "[[-0.09401222  0.05620931  0.08442852 -0.03893381 -0.04215021]\n",
            " [-0.08310828  0.08156615 -0.02710247 -0.10393528 -0.08001567]\n",
            " [-0.05760218  0.0989335   0.06449296 -0.04378856  0.0591772 ]\n",
            " [ 0.10097286  0.04418436 -0.00616952  0.02108379  0.00912385]\n",
            " [ 0.00759835 -0.03127074  0.04530215  0.06436531  0.03413025]]\n",
            "\n",
            "[[-0.03205486  0.00530296 -0.02023091 -0.05360421 -0.05634114]\n",
            " [ 0.06457108  0.06021659 -0.09894773  0.04252438  0.0009603 ]\n",
            " [ 0.02573593 -0.00290238  0.01285205 -0.0462627  -0.02424796]\n",
            " [-0.07101388 -0.07597841 -0.09947593 -0.03552819 -0.07338087]\n",
            " [-0.08467098 -0.03486411  0.07096761  0.02229601 -0.00802417]]\n",
            "\n",
            "[[-0.07480237  0.09667739  0.05866717  0.00306902 -0.08909814]\n",
            " [-0.0418472   0.0587083   0.04011878  0.03332138 -0.07496969]\n",
            " [ 0.01691407 -0.05992207 -0.02493027 -0.06640434 -0.01873533]\n",
            " [-0.00556201  0.09005022 -0.05169806  0.08311942 -0.02148468]\n",
            " [-0.06393257 -0.07476529 -0.00322317 -0.05414043  0.02985041]]\n",
            "\n",
            "[[ 0.06173867 -0.04970062 -0.04690702 -0.04862737 -0.08880469]\n",
            " [ 0.05744787 -0.08841983  0.09578279  0.08687167  0.03456867]\n",
            " [-0.04095877 -0.02928586  0.04876682 -0.00429437 -0.07266568]\n",
            " [-0.05815231 -0.06841724  0.10205014  0.0394832   0.07474084]\n",
            " [ 0.07036699  0.00614499  0.01558442  0.00730625  0.0843377 ]]\n",
            "\n",
            "[[ 0.10254046  0.01567069  0.0653791   0.01800714  0.06002966]\n",
            " [-0.05356086  0.03284746  0.02113219 -0.06438078 -0.08455653]\n",
            " [ 0.05688398 -0.0714923  -0.02118915  0.04621509 -0.04196972]\n",
            " [ 0.05080627 -0.00665633  0.09498517 -0.05954135 -0.06997161]\n",
            " [-0.04013235 -0.0157871   0.06393276  0.04139806 -0.00405741]]\n",
            "\n",
            "[[ 0.00298199  0.07210349 -0.03714585 -0.079377   -0.05207555]\n",
            " [ 0.03465004 -0.03258853  0.03201208  0.07917044 -0.06575729]\n",
            " [-0.03854647  0.09949099 -0.0660139  -0.04579108  0.01731474]\n",
            " [ 0.03317976 -0.05937191 -0.0269419  -0.00962014 -0.03544439]\n",
            " [ 0.0984478  -0.03244919  0.06567432  0.01408181 -0.01517643]]\n",
            "\n",
            "[[-0.03480546 -0.08185726  0.03686078  0.00103251 -0.00574221]\n",
            " [-0.06621252 -0.02169176 -0.03031097  0.07081564  0.01672212]\n",
            " [ 0.07962611 -0.03967007 -0.06849591 -0.07405327  0.0526751 ]\n",
            " [-0.06837121  0.00037883  0.02883665  0.05517292 -0.0632913 ]\n",
            " [ 0.03152305  0.03541663  0.02006263  0.07524881 -0.08755593]]\n",
            "\n",
            "[[-0.07808978  0.05860528 -0.01139307  0.10407096  0.08586185]\n",
            " [ 0.00873981  0.03758864 -0.09861663 -0.09820988  0.00551973]\n",
            " [ 0.01336204 -0.04502412 -0.00169319 -0.07458719  0.07779038]\n",
            " [-0.0447434   0.08635332 -0.06681027 -0.09571968  0.07158674]\n",
            " [-0.07693866  0.08996603  0.10420282 -0.06322314  0.06730624]]\n",
            "\n",
            "[[ 0.09121336  0.00683518  0.09374501 -0.02496618  0.03881195]\n",
            " [-0.06219919 -0.02996461 -0.05101604 -0.06460848 -0.07959063]\n",
            " [-0.00194915 -0.05926177 -0.07041362  0.01877796 -0.09599228]\n",
            " [ 0.07745057  0.03873233 -0.00191569  0.02971263 -0.06324988]\n",
            " [-0.0178781  -0.01808847  0.02704938  0.05060057 -0.05247653]]\n",
            "\n",
            "[[-0.09093048 -0.00913624 -0.02684803  0.08390032  0.02992487]\n",
            " [-0.03823387 -0.05647213  0.04472473  0.01818512  0.02348708]\n",
            " [ 0.04758124 -0.02826986 -0.09097413 -0.04478208 -0.07349083]\n",
            " [ 0.0578952  -0.07352258  0.02414469  0.02093726  0.06992649]\n",
            " [-0.03727353 -0.0205892  -0.0450614  -0.02517259 -0.08400334]]\n",
            "\n",
            "[[-0.07698127  0.07373835 -0.06378039  0.07094151  0.08900335]\n",
            " [-0.02022763  0.03980015 -0.08813752  0.01606715  0.0784073 ]\n",
            " [ 0.04427676  0.00032313  0.09495015  0.076819   -0.06931322]\n",
            " [-0.06644677 -0.08525835  0.08208847  0.05821091  0.06859677]\n",
            " [ 0.07799934  0.09469302 -0.06369632 -0.09778655 -0.0298658 ]]\n",
            "\n",
            "[[ 0.04678559 -0.0441994  -0.01664273 -0.06038428 -0.04961969]\n",
            " [-0.03354014 -0.07301918  0.08781469  0.06499317 -0.00512332]\n",
            " [-0.07814407  0.082101   -0.04594047 -0.06762673 -0.08282378]\n",
            " [-0.04745035 -0.08806388  0.04354262  0.04460485 -0.00655431]\n",
            " [ 0.05323052  0.07672207  0.05133459  0.05591238  0.01050422]]\n",
            "\n",
            "[[ 0.00307341 -0.06927362  0.04138716 -0.04166266  0.02266459]\n",
            " [ 0.00203118 -0.05120371 -0.08034491 -0.00981567 -0.02302126]\n",
            " [-0.03787185  0.08308816  0.07717727  0.01723383 -0.01084714]\n",
            " [-0.03673245  0.0659703  -0.08396334 -0.08814807  0.00177202]\n",
            " [-0.09090281  0.0212888   0.05659942  0.04147145 -0.01928155]]\n"
          ],
          "name": "stdout"
        }
      ]
    },
    {
      "cell_type": "code",
      "metadata": {
        "id": "PM_aHI4eFzDH",
        "colab_type": "code",
        "colab": {}
      },
      "source": [
        "def step_decay(epoch):\n",
        "\tinitial_lrate = 0.1\n",
        "\tdrop = 0.5\n",
        "\tepochs_drop = 10.0\n",
        "\tlrate = initial_lrate * math.pow(drop, math.floor((1+epoch)/epochs_drop))\n",
        "\treturn lrate"
      ],
      "execution_count": 0,
      "outputs": []
    },
    {
      "cell_type": "markdown",
      "metadata": {
        "id": "Mfg2xjEBR45s",
        "colab_type": "text"
      },
      "source": [
        "### Compile and Training the model"
      ]
    },
    {
      "cell_type": "code",
      "metadata": {
        "id": "rzOe9IWPEL8h",
        "colab_type": "code",
        "outputId": "454c8761-d4d1-4201-e77e-f05c34603776",
        "colab": {
          "base_uri": "https://localhost:8080/",
          "height": 34
        }
      },
      "source": [
        "os.chdir('/content/drive/My Drive/PlantVillage')\n",
        "\n",
        "print(os.getcwd())\n",
        "\n",
        "from keras.callbacks import ModelCheckpoint,ReduceLROnPlateau,CSVLogger\n",
        "\n",
        "mc = ModelCheckpoint('CNN_MNIST.h5', monitor='val_loss', mode='min', verbose=1, save_best_only=True)\n",
        "\n",
        "filepath = \"saved-model-{epoch:02d}.h5\"\n",
        "\n",
        "#mc1 = ModelCheckpoint(filepath, monitor='val_loss', mode='min', verbose=1, save_best_only=True  ,period=10)\n",
        "\n",
        "cv = keras.callbacks.CSVLogger('CNN_MNIST.csv', separator=',', append=False)\n",
        "\n",
        "#rp = ReduceLROnPlateau(monitor='val_loss', factor=0.1, patience=15, verbose=0, mode='auto', min_delta=0.00)\n",
        "\n",
        "#es = keras.callbacks.EarlyStopping(monitor='val_loss', min_delta=0, patience=0, verbose=0, mode='auto', baseline=None, restore_best_weights=False)"
      ],
      "execution_count": 60,
      "outputs": [
        {
          "output_type": "stream",
          "text": [
            "/content/drive/My Drive/PlantVillage\n"
          ],
          "name": "stdout"
        }
      ]
    },
    {
      "cell_type": "code",
      "metadata": {
        "id": "_AV_7BHI7qzP",
        "colab_type": "code",
        "outputId": "8b5c6a0a-1a4c-4c90-8a39-df18c98b9120",
        "colab": {
          "base_uri": "https://localhost:8080/",
          "height": 1000
        }
      },
      "source": [
        "model.compile(loss=\"categorical_crossentropy\", optimizer=\"sgd\", metrics=['accuracy'])\n",
        "history=model.fit(xtrain, ytrain, validation_split=(0.2), batch_size=256, callbacks= [mc,cv],epochs=50, verbose=1)"
      ],
      "execution_count": 61,
      "outputs": [
        {
          "output_type": "stream",
          "text": [
            "Train on 952 samples, validate on 238 samples\n",
            "Epoch 1/50\n",
            "952/952 [==============================] - 1s 1ms/step - loss: 0.5568 - acc: 0.7952 - val_loss: 0.3622 - val_acc: 0.8193\n",
            "\n",
            "Epoch 00001: val_loss improved from inf to 0.36225, saving model to CNN_MNIST.h5\n",
            "Epoch 2/50\n",
            "952/952 [==============================] - 1s 804us/step - loss: 0.3647 - acc: 0.7983 - val_loss: 0.4017 - val_acc: 0.9538\n",
            "\n",
            "Epoch 00002: val_loss did not improve from 0.36225\n",
            "Epoch 3/50\n",
            "952/952 [==============================] - 1s 812us/step - loss: 0.3632 - acc: 0.8897 - val_loss: 0.2732 - val_acc: 0.9622\n",
            "\n",
            "Epoch 00003: val_loss improved from 0.36225 to 0.27322, saving model to CNN_MNIST.h5\n",
            "Epoch 4/50\n",
            "952/952 [==============================] - 1s 811us/step - loss: 0.2495 - acc: 0.9181 - val_loss: 0.2006 - val_acc: 0.9454\n",
            "\n",
            "Epoch 00004: val_loss improved from 0.27322 to 0.20062, saving model to CNN_MNIST.h5\n",
            "Epoch 5/50\n",
            "952/952 [==============================] - 1s 805us/step - loss: 0.1663 - acc: 0.9538 - val_loss: 0.2722 - val_acc: 0.8866\n",
            "\n",
            "Epoch 00005: val_loss did not improve from 0.20062\n",
            "Epoch 6/50\n",
            "952/952 [==============================] - 1s 805us/step - loss: 0.4237 - acc: 0.7931 - val_loss: 0.1825 - val_acc: 0.9580\n",
            "\n",
            "Epoch 00006: val_loss improved from 0.20062 to 0.18248, saving model to CNN_MNIST.h5\n",
            "Epoch 7/50\n",
            "952/952 [==============================] - 1s 793us/step - loss: 0.1462 - acc: 0.9632 - val_loss: 0.1375 - val_acc: 0.9496\n",
            "\n",
            "Epoch 00007: val_loss improved from 0.18248 to 0.13750, saving model to CNN_MNIST.h5\n",
            "Epoch 8/50\n",
            "952/952 [==============================] - 1s 788us/step - loss: 0.1136 - acc: 0.9685 - val_loss: 0.1068 - val_acc: 0.9622\n",
            "\n",
            "Epoch 00008: val_loss improved from 0.13750 to 0.10677, saving model to CNN_MNIST.h5\n",
            "Epoch 9/50\n",
            "952/952 [==============================] - 1s 815us/step - loss: 0.1004 - acc: 0.9653 - val_loss: 0.1070 - val_acc: 0.9538\n",
            "\n",
            "Epoch 00009: val_loss did not improve from 0.10677\n",
            "Epoch 10/50\n",
            "952/952 [==============================] - 1s 813us/step - loss: 0.0902 - acc: 0.9716 - val_loss: 0.0920 - val_acc: 0.9706\n",
            "\n",
            "Epoch 00010: val_loss improved from 0.10677 to 0.09200, saving model to CNN_MNIST.h5\n",
            "Epoch 11/50\n",
            "952/952 [==============================] - 1s 804us/step - loss: 0.0836 - acc: 0.9706 - val_loss: 0.0956 - val_acc: 0.9538\n",
            "\n",
            "Epoch 00011: val_loss did not improve from 0.09200\n",
            "Epoch 12/50\n",
            "952/952 [==============================] - 1s 802us/step - loss: 0.0794 - acc: 0.9706 - val_loss: 0.0837 - val_acc: 0.9790\n",
            "\n",
            "Epoch 00012: val_loss improved from 0.09200 to 0.08366, saving model to CNN_MNIST.h5\n",
            "Epoch 13/50\n",
            "952/952 [==============================] - 1s 798us/step - loss: 0.0725 - acc: 0.9758 - val_loss: 0.0796 - val_acc: 0.9790\n",
            "\n",
            "Epoch 00013: val_loss improved from 0.08366 to 0.07961, saving model to CNN_MNIST.h5\n",
            "Epoch 14/50\n",
            "952/952 [==============================] - 1s 799us/step - loss: 0.0708 - acc: 0.9737 - val_loss: 0.0796 - val_acc: 0.9664\n",
            "\n",
            "Epoch 00014: val_loss did not improve from 0.07961\n",
            "Epoch 15/50\n",
            "952/952 [==============================] - 1s 799us/step - loss: 0.0714 - acc: 0.9758 - val_loss: 0.0693 - val_acc: 0.9748\n",
            "\n",
            "Epoch 00015: val_loss improved from 0.07961 to 0.06935, saving model to CNN_MNIST.h5\n",
            "Epoch 16/50\n",
            "952/952 [==============================] - 1s 809us/step - loss: 0.0639 - acc: 0.9758 - val_loss: 0.1380 - val_acc: 0.9370\n",
            "\n",
            "Epoch 00016: val_loss did not improve from 0.06935\n",
            "Epoch 17/50\n",
            "952/952 [==============================] - 1s 811us/step - loss: 0.0744 - acc: 0.9727 - val_loss: 0.0775 - val_acc: 0.9664\n",
            "\n",
            "Epoch 00017: val_loss did not improve from 0.06935\n",
            "Epoch 18/50\n",
            "952/952 [==============================] - 1s 792us/step - loss: 0.0545 - acc: 0.9832 - val_loss: 0.0640 - val_acc: 0.9832\n",
            "\n",
            "Epoch 00018: val_loss improved from 0.06935 to 0.06402, saving model to CNN_MNIST.h5\n",
            "Epoch 19/50\n",
            "952/952 [==============================] - 1s 793us/step - loss: 0.0545 - acc: 0.9779 - val_loss: 0.0710 - val_acc: 0.9664\n",
            "\n",
            "Epoch 00019: val_loss did not improve from 0.06402\n",
            "Epoch 20/50\n",
            "952/952 [==============================] - 1s 801us/step - loss: 0.0508 - acc: 0.9853 - val_loss: 0.0588 - val_acc: 0.9790\n",
            "\n",
            "Epoch 00020: val_loss improved from 0.06402 to 0.05878, saving model to CNN_MNIST.h5\n",
            "Epoch 21/50\n",
            "952/952 [==============================] - 1s 810us/step - loss: 0.0542 - acc: 0.9790 - val_loss: 0.0581 - val_acc: 0.9790\n",
            "\n",
            "Epoch 00021: val_loss improved from 0.05878 to 0.05808, saving model to CNN_MNIST.h5\n",
            "Epoch 22/50\n",
            "952/952 [==============================] - 1s 803us/step - loss: 0.0572 - acc: 0.9769 - val_loss: 0.0993 - val_acc: 0.9538\n",
            "\n",
            "Epoch 00022: val_loss did not improve from 0.05808\n",
            "Epoch 23/50\n",
            "952/952 [==============================] - 1s 797us/step - loss: 0.0584 - acc: 0.9769 - val_loss: 0.0495 - val_acc: 0.9874\n",
            "\n",
            "Epoch 00023: val_loss improved from 0.05808 to 0.04947, saving model to CNN_MNIST.h5\n",
            "Epoch 24/50\n",
            "952/952 [==============================] - 1s 786us/step - loss: 0.0416 - acc: 0.9863 - val_loss: 0.0574 - val_acc: 0.9748\n",
            "\n",
            "Epoch 00024: val_loss did not improve from 0.04947\n",
            "Epoch 25/50\n",
            "952/952 [==============================] - 1s 802us/step - loss: 0.0534 - acc: 0.9842 - val_loss: 0.0472 - val_acc: 0.9832\n",
            "\n",
            "Epoch 00025: val_loss improved from 0.04947 to 0.04715, saving model to CNN_MNIST.h5\n",
            "Epoch 26/50\n",
            "952/952 [==============================] - 1s 814us/step - loss: 0.0437 - acc: 0.9853 - val_loss: 0.0459 - val_acc: 0.9832\n",
            "\n",
            "Epoch 00026: val_loss improved from 0.04715 to 0.04589, saving model to CNN_MNIST.h5\n",
            "Epoch 27/50\n",
            "952/952 [==============================] - 1s 803us/step - loss: 0.0359 - acc: 0.9895 - val_loss: 0.0535 - val_acc: 0.9748\n",
            "\n",
            "Epoch 00027: val_loss did not improve from 0.04589\n",
            "Epoch 28/50\n",
            "952/952 [==============================] - 1s 802us/step - loss: 0.0364 - acc: 0.9863 - val_loss: 0.0417 - val_acc: 0.9958\n",
            "\n",
            "Epoch 00028: val_loss improved from 0.04589 to 0.04174, saving model to CNN_MNIST.h5\n",
            "Epoch 29/50\n",
            "952/952 [==============================] - 1s 785us/step - loss: 0.0326 - acc: 0.9916 - val_loss: 0.0590 - val_acc: 0.9664\n",
            "\n",
            "Epoch 00029: val_loss did not improve from 0.04174\n",
            "Epoch 30/50\n",
            "952/952 [==============================] - 1s 793us/step - loss: 0.0622 - acc: 0.9674 - val_loss: 0.0431 - val_acc: 0.9832\n",
            "\n",
            "Epoch 00030: val_loss did not improve from 0.04174\n",
            "Epoch 31/50\n",
            "952/952 [==============================] - 1s 796us/step - loss: 0.0353 - acc: 0.9895 - val_loss: 0.0397 - val_acc: 0.9916\n",
            "\n",
            "Epoch 00031: val_loss improved from 0.04174 to 0.03969, saving model to CNN_MNIST.h5\n",
            "Epoch 32/50\n",
            "952/952 [==============================] - 1s 819us/step - loss: 0.0287 - acc: 0.9926 - val_loss: 0.0390 - val_acc: 0.9958\n",
            "\n",
            "Epoch 00032: val_loss improved from 0.03969 to 0.03900, saving model to CNN_MNIST.h5\n",
            "Epoch 33/50\n",
            "952/952 [==============================] - 1s 796us/step - loss: 0.0278 - acc: 0.9926 - val_loss: 0.0389 - val_acc: 0.9916\n",
            "\n",
            "Epoch 00033: val_loss improved from 0.03900 to 0.03887, saving model to CNN_MNIST.h5\n",
            "Epoch 34/50\n",
            "952/952 [==============================] - 1s 823us/step - loss: 0.0273 - acc: 0.9937 - val_loss: 0.0381 - val_acc: 0.9916\n",
            "\n",
            "Epoch 00034: val_loss improved from 0.03887 to 0.03809, saving model to CNN_MNIST.h5\n",
            "Epoch 35/50\n",
            "952/952 [==============================] - 1s 811us/step - loss: 0.0260 - acc: 0.9937 - val_loss: 0.0419 - val_acc: 0.9832\n",
            "\n",
            "Epoch 00035: val_loss did not improve from 0.03809\n",
            "Epoch 36/50\n",
            "952/952 [==============================] - 1s 799us/step - loss: 0.0348 - acc: 0.9905 - val_loss: 0.0392 - val_acc: 0.9874\n",
            "\n",
            "Epoch 00036: val_loss did not improve from 0.03809\n",
            "Epoch 37/50\n",
            "952/952 [==============================] - 1s 796us/step - loss: 0.0248 - acc: 0.9958 - val_loss: 0.0360 - val_acc: 0.9958\n",
            "\n",
            "Epoch 00037: val_loss improved from 0.03809 to 0.03604, saving model to CNN_MNIST.h5\n",
            "Epoch 38/50\n",
            "952/952 [==============================] - 1s 792us/step - loss: 0.0224 - acc: 0.9958 - val_loss: 0.0490 - val_acc: 0.9748\n",
            "\n",
            "Epoch 00038: val_loss did not improve from 0.03604\n",
            "Epoch 39/50\n",
            "952/952 [==============================] - 1s 808us/step - loss: 0.0233 - acc: 0.9947 - val_loss: 0.0343 - val_acc: 0.9958\n",
            "\n",
            "Epoch 00039: val_loss improved from 0.03604 to 0.03434, saving model to CNN_MNIST.h5\n",
            "Epoch 40/50\n",
            "952/952 [==============================] - 1s 806us/step - loss: 0.0224 - acc: 0.9947 - val_loss: 0.0542 - val_acc: 0.9748\n",
            "\n",
            "Epoch 00040: val_loss did not improve from 0.03434\n",
            "Epoch 41/50\n",
            "952/952 [==============================] - 1s 808us/step - loss: 0.0217 - acc: 0.9958 - val_loss: 0.0754 - val_acc: 0.9706\n",
            "\n",
            "Epoch 00041: val_loss did not improve from 0.03434\n",
            "Epoch 42/50\n",
            "952/952 [==============================] - 1s 790us/step - loss: 0.0239 - acc: 0.9926 - val_loss: 0.0405 - val_acc: 0.9832\n",
            "\n",
            "Epoch 00042: val_loss did not improve from 0.03434\n",
            "Epoch 43/50\n",
            "952/952 [==============================] - 1s 798us/step - loss: 0.0187 - acc: 0.9968 - val_loss: 0.0392 - val_acc: 0.9832\n",
            "\n",
            "Epoch 00043: val_loss did not improve from 0.03434\n",
            "Epoch 44/50\n",
            "952/952 [==============================] - 1s 793us/step - loss: 0.0188 - acc: 0.9968 - val_loss: 0.0398 - val_acc: 0.9832\n",
            "\n",
            "Epoch 00044: val_loss did not improve from 0.03434\n",
            "Epoch 45/50\n",
            "952/952 [==============================] - 1s 791us/step - loss: 0.0178 - acc: 0.9968 - val_loss: 0.0365 - val_acc: 0.9874\n",
            "\n",
            "Epoch 00045: val_loss did not improve from 0.03434\n",
            "Epoch 46/50\n",
            "952/952 [==============================] - 1s 796us/step - loss: 0.0168 - acc: 0.9968 - val_loss: 0.0391 - val_acc: 0.9832\n",
            "\n",
            "Epoch 00046: val_loss did not improve from 0.03434\n",
            "Epoch 47/50\n",
            "952/952 [==============================] - 1s 794us/step - loss: 0.0159 - acc: 0.9979 - val_loss: 0.0315 - val_acc: 0.9958\n",
            "\n",
            "Epoch 00047: val_loss improved from 0.03434 to 0.03150, saving model to CNN_MNIST.h5\n",
            "Epoch 48/50\n",
            "952/952 [==============================] - 1s 801us/step - loss: 0.0169 - acc: 0.9968 - val_loss: 0.0593 - val_acc: 0.9706\n",
            "\n",
            "Epoch 00048: val_loss did not improve from 0.03150\n",
            "Epoch 49/50\n",
            "952/952 [==============================] - 1s 795us/step - loss: 0.0180 - acc: 0.9958 - val_loss: 0.0442 - val_acc: 0.9832\n",
            "\n",
            "Epoch 00049: val_loss did not improve from 0.03150\n",
            "Epoch 50/50\n",
            "952/952 [==============================] - 1s 812us/step - loss: 0.0153 - acc: 0.9979 - val_loss: 0.0308 - val_acc: 0.9958\n",
            "\n",
            "Epoch 00050: val_loss improved from 0.03150 to 0.03076, saving model to CNN_MNIST.h5\n"
          ],
          "name": "stdout"
        }
      ]
    },
    {
      "cell_type": "markdown",
      "metadata": {
        "id": "WO3Gv-ZvSBBv",
        "colab_type": "text"
      },
      "source": [
        "### Evaluate"
      ]
    },
    {
      "cell_type": "code",
      "metadata": {
        "id": "LMFb-yGhF-T6",
        "colab_type": "code",
        "outputId": "4bf2c760-75d1-4763-8edc-ea5ee5c16319",
        "colab": {
          "base_uri": "https://localhost:8080/",
          "height": 52
        }
      },
      "source": [
        "model.evaluate(xtest,ytest)"
      ],
      "execution_count": 62,
      "outputs": [
        {
          "output_type": "stream",
          "text": [
            "587/587 [==============================] - 0s 633us/step\n"
          ],
          "name": "stdout"
        },
        {
          "output_type": "execute_result",
          "data": {
            "text/plain": [
              "[0.05281656983687687, 0.9778534923339012]"
            ]
          },
          "metadata": {
            "tags": []
          },
          "execution_count": 62
        }
      ]
    },
    {
      "cell_type": "markdown",
      "metadata": {
        "id": "ad6-UlSISEwQ",
        "colab_type": "text"
      },
      "source": [
        "### Prediction"
      ]
    },
    {
      "cell_type": "code",
      "metadata": {
        "id": "CFrhtFNvSFbh",
        "colab_type": "code",
        "outputId": "65080712-5daa-4821-f744-18bc51b33903",
        "colab": {
          "base_uri": "https://localhost:8080/",
          "height": 52
        }
      },
      "source": [
        "pred=model.predict(xtest[0].reshape(1,256,256,3))\n",
        "print(pred)\n",
        "print(pred.argmax())"
      ],
      "execution_count": 63,
      "outputs": [
        {
          "output_type": "stream",
          "text": [
            "[[0.00481106 0.99518895]]\n",
            "1\n"
          ],
          "name": "stdout"
        }
      ]
    },
    {
      "cell_type": "code",
      "metadata": {
        "id": "NXrljEXjGGcs",
        "colab_type": "code",
        "outputId": "45f8b753-2ecb-4e71-ec50-a4657f4e613f",
        "colab": {
          "base_uri": "https://localhost:8080/",
          "height": 69
        }
      },
      "source": [
        "test_loss,test_acc=model.evaluate(xtest,ytest)\n",
        "print(test_loss)\n",
        "print(test_acc)"
      ],
      "execution_count": 64,
      "outputs": [
        {
          "output_type": "stream",
          "text": [
            "587/587 [==============================] - 0s 590us/step\n",
            "0.05281656983687687\n",
            "0.9778534923339012\n"
          ],
          "name": "stdout"
        }
      ]
    },
    {
      "cell_type": "markdown",
      "metadata": {
        "id": "3XAdho_fSLlk",
        "colab_type": "text"
      },
      "source": [
        "### Loss and Accuracy Curves"
      ]
    },
    {
      "cell_type": "code",
      "metadata": {
        "id": "ANMlS2hSGGpb",
        "colab_type": "code",
        "colab": {}
      },
      "source": [
        "train_loss = history.history['loss']\n",
        "train_acc = history.history['acc']\n",
        "val_loss = history.history['val_loss']\n",
        "val_acc = history.history['val_acc']\n",
        "xc=range(len(train_loss))"
      ],
      "execution_count": 0,
      "outputs": []
    },
    {
      "cell_type": "code",
      "metadata": {
        "id": "8NqqIltwGGvM",
        "colab_type": "code",
        "outputId": "0c9ed7fa-dec2-4e37-fdbc-653194bc6466",
        "colab": {
          "base_uri": "https://localhost:8080/",
          "height": 296
        }
      },
      "source": [
        "import matplotlib.pyplot as plt\n",
        "%matplotlib inline\n",
        "plt.plot(xc, train_loss)\n",
        "plt.plot(xc, val_loss)\n",
        "plt.xlabel(\"Epoch\")\n",
        "plt.ylabel(\"Loss\")\n",
        "plt.legend(['train','val'])"
      ],
      "execution_count": 66,
      "outputs": [
        {
          "output_type": "execute_result",
          "data": {
            "text/plain": [
              "<matplotlib.legend.Legend at 0x7f0a560c4438>"
            ]
          },
          "metadata": {
            "tags": []
          },
          "execution_count": 66
        },
        {
          "output_type": "display_data",
          "data": {
            "image/png": "[encoded data removed]",
            "text/plain": [
              "<Figure size 432x288 with 1 Axes>"
            ]
          },
          "metadata": {
            "tags": []
          }
        }
      ]
    },
    {
      "cell_type": "code",
      "metadata": {
        "id": "LAAataRe6UIr",
        "colab_type": "code",
        "outputId": "f0590cde-e1f9-4d2f-ec09-d55122053a26",
        "colab": {
          "base_uri": "https://localhost:8080/",
          "height": 296
        }
      },
      "source": [
        "import matplotlib.pyplot as plt\n",
        "%matplotlib inline\n",
        "plt.plot(xc, train_acc)\n",
        "plt.plot(xc, val_acc)\n",
        "plt.xlabel(\"Epoch\")\n",
        "plt.ylabel(\"Acc\")\n",
        "plt.legend(['train','val'])"
      ],
      "execution_count": 67,
      "outputs": [
        {
          "output_type": "execute_result",
          "data": {
            "text/plain": [
              "<matplotlib.legend.Legend at 0x7f0a5010ea20>"
            ]
          },
          "metadata": {
            "tags": []
          },
          "execution_count": 67
        },
        {
          "output_type": "display_data",
          "data": {
            "image/png": "[encoded data removed]",
            "text/plain": [
              "<Figure size 432x288 with 1 Axes>"
            ]
          },
          "metadata": {
            "tags": []
          }
        }
      ]
    },
    {
      "cell_type": "code",
      "metadata": {
        "id": "DXL5_36FGG89",
        "colab_type": "code",
        "outputId": "96832c36-4642-4ed5-97ce-15e4903e7303",
        "colab": {
          "base_uri": "https://localhost:8080/",
          "height": 190
        }
      },
      "source": [
        "%matplotlib inline\n",
        "for i in range(10):\n",
        "    pred = model.predict(xtest[i].reshape(1, 256, 256, 3))\n",
        "    print(\"\"+str(i+1)+\" Actual is \"+ \" \" + str(ytest[i])+\" Predicted is \"+str(pred.argmax()))"
      ],
      "execution_count": 68,
      "outputs": [
        {
          "output_type": "stream",
          "text": [
            "1 Actual is  [0. 1.] Predicted is 1\n",
            "2 Actual is  [1. 0.] Predicted is 0\n",
            "3 Actual is  [1. 0.] Predicted is 0\n",
            "4 Actual is  [1. 0.] Predicted is 0\n",
            "5 Actual is  [1. 0.] Predicted is 0\n",
            "6 Actual is  [1. 0.] Predicted is 0\n",
            "7 Actual is  [0. 1.] Predicted is 1\n",
            "8 Actual is  [1. 0.] Predicted is 0\n",
            "9 Actual is  [1. 0.] Predicted is 0\n",
            "10 Actual is  [1. 0.] Predicted is 0\n"
          ],
          "name": "stdout"
        }
      ]
    },
    {
      "cell_type": "code",
      "metadata": {
        "id": "pFmcXsM6GG0L",
        "colab_type": "code",
        "outputId": "fa93a154-cdf5-4bfb-b68b-c4b1e7f9c41b",
        "colab": {
          "base_uri": "https://localhost:8080/",
          "height": 173
        }
      },
      "source": [
        "import numpy as np\n",
        "from sklearn.metrics import classification_report,confusion_matrix\n",
        "import itertools\n",
        "\n",
        "Y_pred = model.predict(xtest)\n",
        "y_pred = np.argmax(Y_pred, axis=1)\n",
        "target_names = ['class 0', 'class 1']\n",
        "print(classification_report(np.argmax(ytest,axis=1), y_pred,target_names=target_names))"
      ],
      "execution_count": 69,
      "outputs": [
        {
          "output_type": "stream",
          "text": [
            "              precision    recall  f1-score   support\n",
            "\n",
            "     class 0       0.98      0.99      0.99       449\n",
            "     class 1       0.96      0.94      0.95       138\n",
            "\n",
            "    accuracy                           0.98       587\n",
            "   macro avg       0.97      0.97      0.97       587\n",
            "weighted avg       0.98      0.98      0.98       587\n",
            "\n"
          ],
          "name": "stdout"
        }
      ]
    },
    {
      "cell_type": "code",
      "metadata": {
        "id": "DqX1NSY0Qr03",
        "colab_type": "code",
        "colab": {}
      },
      "source": [
        "def plot_confusion_matrix(cm, classes,\n",
        "                          normalize=False,\n",
        "                          title='Confusion matrix',\n",
        "                          cmap=plt.cm.Blues):\n",
        "    \"\"\"\n",
        "    This function prints and plots the confusion matrix.\n",
        "    Normalization can be applied by setting `normalize=True`.\n",
        "    \"\"\"\n",
        "    plt.imshow(cm, interpolation='nearest', cmap=cmap)\n",
        "    plt.title(title)\n",
        "    plt.colorbar()\n",
        "    tick_marks = np.arange(len(classes))\n",
        "    plt.xticks(tick_marks, classes, rotation=45)\n",
        "    plt.yticks(tick_marks, classes)\n",
        "\n",
        "    if normalize:\n",
        "        cm = cm.astype('float') / cm.sum(axis=1)[:, np.newaxis]\n",
        "        print(\"Normalized confusion matrix\")\n",
        "    else:\n",
        "        print('Confusion matrix, without normalization')\n",
        "\n",
        "    print(cm)\n",
        "\n",
        "    thresh = cm.max() / 2.\n",
        "    for i, j in itertools.product(range(cm.shape[0]), range(cm.shape[1])):\n",
        "        plt.text(j, i, cm[i, j],\n",
        "                 horizontalalignment=\"center\",\n",
        "                 color=\"white\" if cm[i, j] > thresh else \"black\")\n",
        "        \n",
        "\n",
        "    plt.tight_layout()\n",
        "    plt.ylabel('True label')\n",
        "    plt.xlabel('Predicted label')"
      ],
      "execution_count": 0,
      "outputs": []
    },
    {
      "cell_type": "code",
      "metadata": {
        "id": "r_Zc96z4Qr6E",
        "colab_type": "code",
        "outputId": "b8fd783b-b9ac-4a32-cb07-fbc89a8a32cf",
        "colab": {
          "base_uri": "https://localhost:8080/",
          "height": 781
        }
      },
      "source": [
        "cnf_matrix = (confusion_matrix(np.argmax(ytest,axis=1), y_pred))\n",
        "np.set_printoptions(precision=2)\n",
        "plt.figure(figsize=(10,10))\n",
        "plot_confusion_matrix(cnf_matrix, classes=target_names,\n",
        "                      title='Confusion matrix')\n",
        "#plt.show()"
      ],
      "execution_count": 72,
      "outputs": [
        {
          "output_type": "stream",
          "text": [
            "Confusion matrix, without normalization\n",
            "[[444   5]\n",
            " [  8 130]]\n"
          ],
          "name": "stdout"
        },
        {
          "output_type": "display_data",
          "data": {
            "image/png": "[encoded data removed]",
            "text/plain": [
              "<Figure size 720x720 with 2 Axes>"
            ]
          },
          "metadata": {
            "tags": []
          }
        }
      ]
    },
    {
      "cell_type": "markdown",
      "metadata": {
        "id": "T_J6Gfk_78Ne",
        "colab_type": "text"
      },
      "source": [
        "## Visualization"
      ]
    },
    {
      "cell_type": "code",
      "metadata": {
        "id": "hWnpRcb2Qrw3",
        "colab_type": "code",
        "colab": {}
      },
      "source": [
        "for layer in model.layers:\n",
        "  print(layer)"
      ],
      "execution_count": 0,
      "outputs": []
    },
    {
      "cell_type": "code",
      "metadata": {
        "id": "n_EIFWhwQy41",
        "colab_type": "code",
        "colab": {}
      },
      "source": [
        "from keras.models import Model\n",
        "layer_outputs = [layer.output for layer in model.layers]\n",
        "activation_model = Model(inputs=model.input, outputs=layer_outputs)\n",
        "activations = activation_model.predict(xtrain[10].reshape(1,28,28,1))"
      ],
      "execution_count": 0,
      "outputs": []
    },
    {
      "cell_type": "code",
      "metadata": {
        "id": "x-wyS71SQzHw",
        "colab_type": "code",
        "colab": {}
      },
      "source": [
        "def display_activation(activations, col_size, row_size, act_index):\n",
        "    activation = activations[act_index]\n",
        "    activation_index=0\n",
        "    fig, ax = plt.subplots(row_size, col_size, figsize=(row_size*3.5,col_size*2.5))\n",
        "    for row in range(0,row_size):\n",
        "        for col in range(0,col_size):\n",
        "            ax[row][col].imshow(activation[0, :, :, activation_index], cmap='gray')\n",
        "            activation_index += 1"
      ],
      "execution_count": 0,
      "outputs": []
    },
    {
      "cell_type": "code",
      "metadata": {
        "id": "YBcuEmlsQzEp",
        "colab_type": "code",
        "colab": {}
      },
      "source": [
        "len(activations)\n",
        "#activations\n",
        "print(activations[0].shape)\n",
        "print(activations[1].shape)\n",
        "print(activations[2].shape)\n",
        "print(activations[3].shape)\n",
        "print(activations[4].shape)\n",
        "print(activations[5].shape)\n",
        "print(activations[6].shape)\n",
        "print(activations[7].shape)"
      ],
      "execution_count": 0,
      "outputs": []
    },
    {
      "cell_type": "code",
      "metadata": {
        "id": "038zY9fNQzAo",
        "colab_type": "code",
        "colab": {}
      },
      "source": [
        "print(activations[0].shape)\n",
        "display_activation(activations,3,2,0)"
      ],
      "execution_count": 0,
      "outputs": []
    },
    {
      "cell_type": "code",
      "metadata": {
        "id": "OTr0PchVQy-m",
        "colab_type": "code",
        "colab": {}
      },
      "source": [
        "print(activations[1].shape)\n",
        "display_activation(activations,3,2,1)"
      ],
      "execution_count": 0,
      "outputs": []
    },
    {
      "cell_type": "code",
      "metadata": {
        "id": "TXsC2ucYRGLy",
        "colab_type": "code",
        "colab": {}
      },
      "source": [
        "print(activations[2].shape)\n",
        "display_activation(activations,4,4,2)"
      ],
      "execution_count": 0,
      "outputs": []
    },
    {
      "cell_type": "code",
      "metadata": {
        "id": "c7NMAeS6RGYe",
        "colab_type": "code",
        "colab": {}
      },
      "source": [
        "print(activations[3].shape)\n",
        "display_activation(activations,4,4,3)"
      ],
      "execution_count": 0,
      "outputs": []
    },
    {
      "cell_type": "code",
      "metadata": {
        "id": "E3-8tQTTRGVx",
        "colab_type": "code",
        "colab": {}
      },
      "source": [
        "act_dense_3  = activations[7]\n",
        " \n",
        "y = act_dense_3[0]\n",
        "x = range(len(y))\n",
        "plt.xticks(x)\n",
        "plt.bar(x, y)\n",
        "plt.show()"
      ],
      "execution_count": 0,
      "outputs": []
    },
    {
      "cell_type": "code",
      "metadata": {
        "id": "ugZBEKYpRGSr",
        "colab_type": "code",
        "colab": {}
      },
      "source": [
        "weight_conv2d_1 = model.layers[0].get_weights()[0][:,:,0,:]\n",
        " \n",
        "col_size = 3\n",
        "row_size = 2\n",
        "filter_index = 0\n",
        "fig, ax = plt.subplots(row_size, col_size, figsize=(5,5))\n",
        "for row in range(0,row_size): \n",
        "  for col in range(0,col_size):\n",
        "    ax[row][col].imshow(weight_conv2d_1[:,:,filter_index],cmap=\"gray\")\n",
        "    filter_index += 1"
      ],
      "execution_count": 0,
      "outputs": []
    },
    {
      "cell_type": "code",
      "metadata": {
        "id": "xnjcRxdeRRgi",
        "colab_type": "code",
        "colab": {}
      },
      "source": [
        "print(weight_conv2d_1[:,:,0])\n",
        "print(\"\")\n",
        "print(weight_conv2d_1[:,:,1])\n",
        "print(\"\")\n",
        "print(weight_conv2d_1[:,:,2])\n",
        "print(\"\")\n",
        "print(weight_conv2d_1[:,:,3])\n",
        "print(\"\")\n",
        "print(weight_conv2d_1[:,:,4])\n",
        "print(\"\")\n",
        "print(weight_conv2d_1[:,:,5])"
      ],
      "execution_count": 0,
      "outputs": []
    },
    {
      "cell_type": "code",
      "metadata": {
        "id": "rDGYpywRRRdn",
        "colab_type": "code",
        "colab": {}
      },
      "source": [
        "weight_conv2d_2 = model.layers[2].get_weights()[0][:,:,0,:]\n",
        "col_size = 4\n",
        "row_size = 4\n",
        "filter_index = 0\n",
        "fig, ax = plt.subplots(row_size, col_size, figsize=(12,8))\n",
        "for row in range(0,row_size): \n",
        "  for col in range(0,col_size):\n",
        "    ax[row][col].imshow(weight_conv2d_2[:,:,filter_index],cmap=\"gray\")\n",
        "    filter_index += 1"
      ],
      "execution_count": 0,
      "outputs": []
    },
    {
      "cell_type": "code",
      "metadata": {
        "id": "fAJ_JDw9RRax",
        "colab_type": "code",
        "colab": {}
      },
      "source": [
        "print(weight_conv2d_2[:,:,0])\n",
        "print(\"\")\n",
        "print(weight_conv2d_2[:,:,1])\n",
        "print(\"\")\n",
        "print(weight_conv2d_2[:,:,2])\n",
        "print(\"\")\n",
        "print(weight_conv2d_2[:,:,3])\n",
        "print(\"\")\n",
        "print(weight_conv2d_2[:,:,4])\n",
        "print(\"\")\n",
        "print(weight_conv2d_2[:,:,5])\n",
        "print(\"\")\n",
        "print(weight_conv2d_2[:,:,6])\n",
        "print(\"\")\n",
        "print(weight_conv2d_2[:,:,7])\n",
        "print(\"\")\n",
        "print(weight_conv2d_2[:,:,8])\n",
        "print(\"\")\n",
        "print(weight_conv2d_2[:,:,9])\n",
        "print(\"\")\n",
        "print(weight_conv2d_2[:,:,10])\n",
        "print(\"\")\n",
        "print(weight_conv2d_2[:,:,11])\n",
        "print(\"\")\n",
        "print(weight_conv2d_2[:,:,12])\n",
        "print(\"\")\n",
        "print(weight_conv2d_2[:,:,13])\n",
        "print(\"\")\n",
        "print(weight_conv2d_2[:,:,14])\n",
        "print(\"\")\n",
        "print(weight_conv2d_2[:,:,15])"
      ],
      "execution_count": 0,
      "outputs": []
    }
  ]
}