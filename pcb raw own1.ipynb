{
  "nbformat": 4,
  "nbformat_minor": 0,
  "metadata": {
    "colab": {
      "name": "pcb.ipynb",
      "provenance": [],
      "collapsed_sections": [],
      "machine_shape": "hm",
      "authorship_tag": "ABX9TyNE4VTZW+xiT0VisV4FrHra",
      "include_colab_link": true
    },
    "kernelspec": {
      "name": "python3",
      "display_name": "Python 3"
    }
  },
  "cells": [
    {
      "cell_type": "markdown",
      "metadata": {
        "id": "view-in-github",
        "colab_type": "text"
      },
      "source": [
        "<a href=\"https://colab.research.google.com/github/gundasai/deeplearning/blob/master/pcb%20raw%20own1.ipynb\" target=\"_parent\"><img src=\"https://colab.research.google.com/assets/colab-badge.svg\" alt=\"Open In Colab\"/></a>"
      ]
    },
    {
      "cell_type": "code",
      "metadata": {
        "id": "HHUGSQlsWSh_",
        "colab_type": "code",
        "colab": {}
      },
      "source": [
        "from google.colab import drive\n",
        "drive.mount('/content/drive/')"
      ],
      "execution_count": 0,
      "outputs": []
    },
    {
      "cell_type": "code",
      "metadata": {
        "id": "GKvlAsT-WUQ5",
        "colab_type": "code",
        "colab": {}
      },
      "source": [
        "import os\n",
        "os.chdir('/content/drive/My Drive/Raw_PCB')\n",
        "os.getcwd()"
      ],
      "execution_count": 0,
      "outputs": []
    },
    {
      "cell_type": "code",
      "metadata": {
        "id": "37UzVvAdXn01",
        "colab_type": "code",
        "colab": {}
      },
      "source": [
        "import numpy as np\n",
        "a=np.load(\"s_x_train.npy\")\n",
        "b=np.load(\"s_y_train.npy\")\n",
        "print(a.shape)\n",
        "print(b.shape)"
      ],
      "execution_count": 0,
      "outputs": []
    },
    {
      "cell_type": "code",
      "metadata": {
        "id": "lQ17yhZHk6QJ",
        "colab_type": "code",
        "colab": {}
      },
      "source": [
        "from sklearn.utils import shuffle\n",
        "(a,b)=shuffle(a,b)"
      ],
      "execution_count": 0,
      "outputs": []
    },
    {
      "cell_type": "code",
      "metadata": {
        "id": "YdnJAsohlOIw",
        "colab_type": "code",
        "colab": {}
      },
      "source": [
        "from sklearn.model_selection import train_test_split\n",
        "xtrain, xtest, ytrain, ytest = train_test_split(a, b, test_size=0.33, random_state=42)"
      ],
      "execution_count": 0,
      "outputs": []
    },
    {
      "cell_type": "code",
      "metadata": {
        "id": "Mp0nhPonla5W",
        "colab_type": "code",
        "colab": {}
      },
      "source": [
        "print(xtrain.shape)\n",
        "print(ytrain.shape)\n",
        "\n",
        "print(xtest.shape)\n",
        "print(ytest.shape)\n",
        "\n",
        "print(xtrain.ndim)\n",
        "print(xtrain.dtype)\n",
        "\n",
        "print(xtrain.ndim)\n",
        "print(xtrain.dtype)\n",
        "\n",
        "print(xtest.ndim)\n",
        "print(xtest.dtype)"
      ],
      "execution_count": 0,
      "outputs": []
    },
    {
      "cell_type": "code",
      "metadata": {
        "id": "MfvN3JB5li5N",
        "colab_type": "code",
        "colab": {}
      },
      "source": [
        "import matplotlib.pyplot as plt\n",
        "%matplotlib inline\n",
        "plt.imshow(xtest[0], cmap='brg')"
      ],
      "execution_count": 0,
      "outputs": []
    },
    {
      "cell_type": "code",
      "metadata": {
        "id": "cywzizBjYCtv",
        "colab_type": "code",
        "colab": {}
      },
      "source": [
        "xtrain = xtrain.astype('float32')\n",
        "xtest  = xtest.astype('float32')"
      ],
      "execution_count": 0,
      "outputs": []
    },
    {
      "cell_type": "code",
      "metadata": {
        "id": "utnO5aUQlhfX",
        "colab_type": "code",
        "colab": {}
      },
      "source": [
        "print(xtrain.shape)\n",
        "print(ytrain.shape)"
      ],
      "execution_count": 0,
      "outputs": []
    },
    {
      "cell_type": "code",
      "metadata": {
        "id": "jesVesSFkuRn",
        "colab_type": "code",
        "colab": {}
      },
      "source": [
        "#keras.utils.normalize(a, axis=-1, order=2)\n",
        "print (np.max(xtrain),np.max(xtest))\n",
        "print (np.min(xtrain),np.min(xtest))\n",
        "\n",
        "print (np.max(ytrain),np.max(ytest))\n",
        "print (np.min(ytrain),np.min(ytest))\n",
        "\n",
        "mean = np.mean(xtrain)\n",
        "std  = np.std(xtrain)\n",
        "\n",
        "print(mean)\n",
        "print(std)\n",
        "\n",
        "xtrain -= mean\n",
        "xtrain /= std\n",
        "\n",
        "xtest -= mean\n",
        "xtest /= std\n",
        "\n",
        "print (np.max(xtrain),np.max(xtest))\n",
        "print (np.min(xtrain),np.min(xtest))"
      ],
      "execution_count": 0,
      "outputs": []
    },
    {
      "cell_type": "code",
      "metadata": {
        "id": "5zruw2E0nKJZ",
        "colab_type": "code",
        "colab": {}
      },
      "source": [
        "from keras.utils import to_categorical\n",
        "ytrain = to_categorical(ytrain)\n",
        "ytest  =  to_categorical(ytest)\n",
        "print(ytest[0])"
      ],
      "execution_count": 0,
      "outputs": []
    },
    {
      "cell_type": "code",
      "metadata": {
        "id": "o8wKBCzLoxBa",
        "colab_type": "code",
        "colab": {}
      },
      "source": [
        "print(xtrain.shape)\n",
        "print(ytrain.shape)"
      ],
      "execution_count": 0,
      "outputs": []
    },
    {
      "cell_type": "code",
      "metadata": {
        "id": "PweZ1h6qnOQt",
        "colab_type": "code",
        "colab": {}
      },
      "source": [
        "from keras.models import Model\n",
        "from keras.layers import Input\n",
        "from keras.layers import Activation\n",
        "from keras.layers import Conv2D\n",
        "from keras.layers import MaxPooling2D\n",
        "from keras.layers import add\n",
        "from keras.utils import plot_model\n",
        "import keras\n",
        "\n",
        "input1 = keras.layers.Input(shape=(300,300,3))\n",
        "x0=keras.layers.ZeroPadding2D(padding=(3, 3))(input1)\n",
        "\n",
        "x1 = Conv2D(300,(7,7),strides=(2,2) ,activation='relu')(x0)\n",
        "x2=keras.layers.BatchNormalization(axis = 3)(x1)\n",
        "x3= Activation('relu')(x2)\n",
        "x4= MaxPooling2D((3, 3), strides=(2, 2))(x3)\n",
        "\n",
        "x5= Conv2D(200,(2,2),strides=(2,2) ,activation='relu')(x4)\n",
        "x6=keras.layers.BatchNormalization(axis = 3)(x5)\n",
        "x7= Activation('relu')(x6)\n",
        "x8= MaxPooling2D((3, 3), strides=(2, 2))(x7)\n",
        "\n",
        "\n",
        "x9= Conv2D(200,(2,2),strides=(2,2) ,activation='relu')(x8)\n",
        "x10=keras.layers.BatchNormalization(axis = 3)(x9)\n",
        "x11= Activation('relu')(x10)\n",
        "x12= MaxPooling2D((3, 3), strides=(2, 2))(x11)\n",
        "\n",
        "\n",
        "\n",
        "\n",
        "\n",
        "\n",
        "o=keras.layers.Flatten()(x15)\n",
        "\n",
        "\n",
        "\n",
        "\n",
        "\n",
        "\n",
        "\n",
        "\n",
        "out = keras.layers.Dense(1024,activation=\"relu\")(o)\n",
        "out = keras.layers.Dense(100,activation=\"relu\")(out)\n",
        "out = keras.layers.Dense(100,activation=\"relu\")(out)\n",
        "out1=keras.layers.Dense(2,activation=\"softmax\")(out)\n",
        "\n",
        "model = keras.models.Model(inputs=input1, outputs=out1)\n",
        "\n",
        "model.summary()"
      ],
      "execution_count": 0,
      "outputs": []
    },
    {
      "cell_type": "code",
      "metadata": {
        "id": "AJGXK1g4nz3v",
        "colab_type": "code",
        "colab": {}
      },
      "source": [
        "def step_decay(epoch):\n",
        "\tinitial_lrate = 0.1\n",
        "\tdrop = 0.5\n",
        "\tepochs_drop = 10.0\n",
        "\tlrate = initial_lrate * math.pow(drop, math.floor((1+epoch)/epochs_drop))\n",
        "\treturn lrate"
      ],
      "execution_count": 0,
      "outputs": []
    },
    {
      "cell_type": "code",
      "metadata": {
        "id": "AdfQlFvsoSlP",
        "colab_type": "code",
        "colab": {}
      },
      "source": [
        "print(xtrain.shape)\n",
        "print(ytrain.shape)"
      ],
      "execution_count": 0,
      "outputs": []
    },
    {
      "cell_type": "code",
      "metadata": {
        "id": "1ew3LlF4n1AN",
        "colab_type": "code",
        "colab": {}
      },
      "source": [
        "model.compile(loss=\"categorical_crossentropy\", optimizer=\"sgd\", metrics=['accuracy'])\n",
        "#model.compile(optimizer='rmsprop', loss='categorical_crossentropy' ,metrics=['accuracy'])\n",
        "history=model.fit(xtrain, ytrain, validation_split=(0.33), batch_size=20,epochs=8, verbose=1)"
      ],
      "execution_count": 0,
      "outputs": []
    },
    {
      "cell_type": "code",
      "metadata": {
        "id": "A3aUJH_rS6v0",
        "colab_type": "code",
        "colab": {}
      },
      "source": [
        "model.evaluate(xtest,ytest)"
      ],
      "execution_count": 0,
      "outputs": []
    },
    {
      "cell_type": "code",
      "metadata": {
        "id": "8YDuuB16S7Hi",
        "colab_type": "code",
        "colab": {}
      },
      "source": [
        "import numpy as np\n",
        "from sklearn.metrics import classification_report,confusion_matrix\n",
        "import itertools\n",
        "\n",
        "Y_pred = model.predict(xtest)\n",
        "y_pred = np.argmax(Y_pred, axis=1)\n",
        "target_names = ['class 0', 'class 1']\n",
        "print(classification_report(np.argmax(ytest,axis=1), y_pred,target_names=target_names))"
      ],
      "execution_count": 0,
      "outputs": []
    },
    {
      "cell_type": "code",
      "metadata": {
        "id": "oo5hhhTMv79q",
        "colab_type": "code",
        "colab": {}
      },
      "source": [
        "model.evaluate(xtrain,ytrain)"
      ],
      "execution_count": 0,
      "outputs": []
    },
    {
      "cell_type": "code",
      "metadata": {
        "id": "X9oonnfwv8LD",
        "colab_type": "code",
        "colab": {}
      },
      "source": [
        "import numpy as np\n",
        "from sklearn.metrics import classification_report,confusion_matrix\n",
        "import itertools\n",
        "\n",
        "Y_pred = model.predict(xtrain)\n",
        "y_pred = np.argmax(Y_pred, axis=1)\n",
        "target_names = ['class 0', 'class 1']\n",
        "print(classification_report(np.argmax(ytrain,axis=1), y_pred,target_names=target_names))"
      ],
      "execution_count": 0,
      "outputs": []
    }
  ]
}