{
  "nbformat": 4,
  "nbformat_minor": 0,
  "metadata": {
    "colab": {
      "name": "pcb.ipynb",
      "provenance": [],
      "collapsed_sections": [],
      "machine_shape": "hm",
      "authorship_tag": "ABX9TyNzUPcFp/cLoe+ChxaRPDwo",
      "include_colab_link": true
    },
    "kernelspec": {
      "name": "python3",
      "display_name": "Python 3"
    }
  },
  "cells": [
    {
      "cell_type": "markdown",
      "metadata": {
        "id": "view-in-github",
        "colab_type": "text"
      },
      "source": [
        "<a href=\"https://colab.research.google.com/github/gundasai/deeplearning/blob/master/pcb%20aug%20own.ipynb\" target=\"_parent\"><img src=\"https://colab.research.google.com/assets/colab-badge.svg\" alt=\"Open In Colab\"/></a>"
      ]
    },
    {
      "cell_type": "code",
      "metadata": {
        "id": "HHUGSQlsWSh_",
        "colab_type": "code",
        "outputId": "89e1074b-6e56-4d20-9136-d847d1bbce17",
        "colab": {
          "base_uri": "https://localhost:8080/",
          "height": 124
        }
      },
      "source": [
        "from google.colab import drive\n",
        "drive.mount('/content/drive/')"
      ],
      "execution_count": 1,
      "outputs": [
        {
          "output_type": "stream",
          "text": [
            "Go to this URL in a browser: https://accounts.google.com/o/oauth2/auth?client_id=947318989803-6bn6qk8qdgf4n4g3pfee6491hc0brc4i.apps.googleusercontent.com&redirect_uri=urn%3aietf%3awg%3aoauth%3a2.0%3aoob&response_type=code&scope=email%20https%3a%2f%2fwww.googleapis.com%2fauth%2fdocs.test%20https%3a%2f%2fwww.googleapis.com%2fauth%2fdrive%20https%3a%2f%2fwww.googleapis.com%2fauth%2fdrive.photos.readonly%20https%3a%2f%2fwww.googleapis.com%2fauth%2fpeopleapi.readonly\n",
            "\n",
            "Enter your authorization code:\n",
            "··········\n",
            "Mounted at /content/drive/\n"
          ],
          "name": "stdout"
        }
      ]
    },
    {
      "cell_type": "code",
      "metadata": {
        "id": "GKvlAsT-WUQ5",
        "colab_type": "code",
        "outputId": "7bcf3036-ff23-4ef6-e456-1cdf71ba5d30",
        "colab": {
          "base_uri": "https://localhost:8080/",
          "height": 34
        }
      },
      "source": [
        "import os\n",
        "os.chdir('/content/drive/My Drive/Aug_PCB')\n",
        "os.getcwd()"
      ],
      "execution_count": 2,
      "outputs": [
        {
          "output_type": "execute_result",
          "data": {
            "text/plain": [
              "'/content/drive/My Drive/Aug_PCB'"
            ]
          },
          "metadata": {
            "tags": []
          },
          "execution_count": 2
        }
      ]
    },
    {
      "cell_type": "code",
      "metadata": {
        "id": "37UzVvAdXn01",
        "colab_type": "code",
        "outputId": "f36a8e9e-d5a7-40c2-9170-cd561b282fba",
        "colab": {
          "base_uri": "https://localhost:8080/",
          "height": 52
        }
      },
      "source": [
        "import numpy as np\n",
        "a=np.load(\"s_x_train.npy\")\n",
        "b=np.load(\"s_y_train.npy\")\n",
        "print(a.shape)\n",
        "print(b.shape)"
      ],
      "execution_count": 3,
      "outputs": [
        {
          "output_type": "stream",
          "text": [
            "(5040, 300, 300, 3)\n",
            "(5040,)\n"
          ],
          "name": "stdout"
        }
      ]
    },
    {
      "cell_type": "code",
      "metadata": {
        "id": "lQ17yhZHk6QJ",
        "colab_type": "code",
        "colab": {}
      },
      "source": [
        "from sklearn.utils import shuffle\n",
        "(a,b)=shuffle(a,b)"
      ],
      "execution_count": 0,
      "outputs": []
    },
    {
      "cell_type": "code",
      "metadata": {
        "id": "YdnJAsohlOIw",
        "colab_type": "code",
        "colab": {}
      },
      "source": [
        "from sklearn.model_selection import train_test_split\n",
        "xtrain, xtest, ytrain, ytest = train_test_split(a, b, test_size=0.33, random_state=42)"
      ],
      "execution_count": 0,
      "outputs": []
    },
    {
      "cell_type": "code",
      "metadata": {
        "id": "Mp0nhPonla5W",
        "colab_type": "code",
        "outputId": "54cc7bbc-2e84-47b4-ab25-214ec0e222c2",
        "colab": {
          "base_uri": "https://localhost:8080/",
          "height": 190
        }
      },
      "source": [
        "print(xtrain.shape)\n",
        "print(ytrain.shape)\n",
        "\n",
        "print(xtest.shape)\n",
        "print(ytest.shape)\n",
        "\n",
        "print(xtrain.ndim)\n",
        "print(xtrain.dtype)\n",
        "\n",
        "print(xtrain.ndim)\n",
        "print(xtrain.dtype)\n",
        "\n",
        "print(xtest.ndim)\n",
        "print(xtest.dtype)"
      ],
      "execution_count": 6,
      "outputs": [
        {
          "output_type": "stream",
          "text": [
            "(3376, 300, 300, 3)\n",
            "(3376,)\n",
            "(1664, 300, 300, 3)\n",
            "(1664,)\n",
            "4\n",
            "float32\n",
            "4\n",
            "float32\n",
            "4\n",
            "float32\n"
          ],
          "name": "stdout"
        }
      ]
    },
    {
      "cell_type": "code",
      "metadata": {
        "id": "MfvN3JB5li5N",
        "colab_type": "code",
        "outputId": "7e51631d-db4c-4e68-aecc-b965123a4b03",
        "colab": {
          "base_uri": "https://localhost:8080/",
          "height": 286
        }
      },
      "source": [
        "import matplotlib.pyplot as plt\n",
        "%matplotlib inline\n",
        "plt.imshow(xtest[0], cmap='brg')"
      ],
      "execution_count": 7,
      "outputs": [
        {
          "output_type": "execute_result",
          "data": {
            "text/plain": [
              "<matplotlib.image.AxesImage at 0x7f2c08d32780>"
            ]
          },
          "metadata": {
            "tags": []
          },
          "execution_count": 7
        },
        {
          "output_type": "display_data",
          "data": {
            "image/png": "[encoded data removed]",
            "text/plain": [
              "<Figure size 432x288 with 1 Axes>"
            ]
          },
          "metadata": {
            "tags": [],
            "needs_background": "light"
          }
        }
      ]
    },
    {
      "cell_type": "code",
      "metadata": {
        "id": "cywzizBjYCtv",
        "colab_type": "code",
        "colab": {}
      },
      "source": [
        "xtrain = xtrain.astype('float32')\n",
        "xtest  = xtest.astype('float32')"
      ],
      "execution_count": 0,
      "outputs": []
    },
    {
      "cell_type": "code",
      "metadata": {
        "id": "utnO5aUQlhfX",
        "colab_type": "code",
        "outputId": "1840a57e-8f28-4380-e44c-37cd1f6e53a3",
        "colab": {
          "base_uri": "https://localhost:8080/",
          "height": 52
        }
      },
      "source": [
        "print(xtrain.shape)\n",
        "print(ytrain.shape)"
      ],
      "execution_count": 9,
      "outputs": [
        {
          "output_type": "stream",
          "text": [
            "(3376, 300, 300, 3)\n",
            "(3376,)\n"
          ],
          "name": "stdout"
        }
      ]
    },
    {
      "cell_type": "code",
      "metadata": {
        "id": "jesVesSFkuRn",
        "colab_type": "code",
        "outputId": "811873f6-a3fd-434f-b200-fd043b4d586a",
        "colab": {
          "base_uri": "https://localhost:8080/",
          "height": 155
        }
      },
      "source": [
        "#keras.utils.normalize(a, axis=-1, order=2)\n",
        "print (np.max(xtrain),np.max(xtest))\n",
        "print (np.min(xtrain),np.min(xtest))\n",
        "\n",
        "print (np.max(ytrain),np.max(ytest))\n",
        "print (np.min(ytrain),np.min(ytest))\n",
        "\n",
        "mean = np.mean(xtrain)\n",
        "std  = np.std(xtrain)\n",
        "\n",
        "print(mean)\n",
        "print(std)\n",
        "\n",
        "xtrain -= mean\n",
        "xtrain /= std\n",
        "\n",
        "xtest -= mean\n",
        "xtest /= std\n",
        "\n",
        "print (np.max(xtrain),np.max(xtest))\n",
        "print (np.min(xtrain),np.min(xtest))"
      ],
      "execution_count": 10,
      "outputs": [
        {
          "output_type": "stream",
          "text": [
            "1.0 1.0\n",
            "0.0 0.0\n",
            "1.0 1.0\n",
            "0.0 0.0\n",
            "0.20908627\n",
            "0.20863052\n",
            "3.790978 3.790978\n",
            "-1.0021845 -1.0021845\n"
          ],
          "name": "stdout"
        }
      ]
    },
    {
      "cell_type": "code",
      "metadata": {
        "id": "5zruw2E0nKJZ",
        "colab_type": "code",
        "outputId": "8ddc6978-a110-4f60-8c32-dc009ba791ec",
        "colab": {
          "base_uri": "https://localhost:8080/",
          "height": 52
        }
      },
      "source": [
        "from keras.utils import to_categorical\n",
        "ytrain = to_categorical(ytrain)\n",
        "ytest  =  to_categorical(ytest)\n",
        "print(ytest[0])"
      ],
      "execution_count": 11,
      "outputs": [
        {
          "output_type": "stream",
          "text": [
            "Using TensorFlow backend.\n"
          ],
          "name": "stderr"
        },
        {
          "output_type": "stream",
          "text": [
            "[1. 0.]\n"
          ],
          "name": "stdout"
        }
      ]
    },
    {
      "cell_type": "code",
      "metadata": {
        "id": "o8wKBCzLoxBa",
        "colab_type": "code",
        "outputId": "be0a7a88-108f-43d4-9149-56f1cab40c50",
        "colab": {
          "base_uri": "https://localhost:8080/",
          "height": 52
        }
      },
      "source": [
        "print(xtrain.shape)\n",
        "print(ytrain.shape)"
      ],
      "execution_count": 12,
      "outputs": [
        {
          "output_type": "stream",
          "text": [
            "(3376, 300, 300, 3)\n",
            "(3376, 2)\n"
          ],
          "name": "stdout"
        }
      ]
    },
    {
      "cell_type": "code",
      "metadata": {
        "id": "PweZ1h6qnOQt",
        "colab_type": "code",
        "outputId": "29486e49-2e5d-4bb4-9460-5c8dee4fd96d",
        "colab": {
          "base_uri": "https://localhost:8080/",
          "height": 777
        }
      },
      "source": [
        "from keras.models import Model\n",
        "from keras.layers import Input\n",
        "from keras.layers import Activation\n",
        "from keras.layers import Conv2D\n",
        "from keras.layers import MaxPooling2D\n",
        "from keras.layers import AveragePooling2D\n",
        "from keras.layers import add\n",
        "from keras.utils import plot_model\n",
        "import keras\n",
        "\n",
        "input1 = keras.layers.Input(shape=(300,300,3))\n",
        "\n",
        "x1 = Conv2D(300,(3,3),strides=(2,2) ,activation='relu')(input1)\n",
        "x2=keras.layers.BatchNormalization(axis = 3)(x1)\n",
        "x3= Activation('relu')(x2)\n",
        "x4= MaxPooling2D((3, 3), strides=(2, 2))(x3)\n",
        "\n",
        "x5= Conv2D(400,(2,2),strides=(2,2) ,activation='relu')(x4)\n",
        "x6=keras.layers.BatchNormalization(axis = 3)(x5)\n",
        "x7= Activation('relu')(x6)\n",
        "x8= MaxPooling2D((3, 3), strides=(2, 2))(x7)\n",
        "\n",
        "x9= Conv2D(400,(2,2),strides=(1,1) ,activation='relu')(x8)\n",
        "x10=keras.layers.BatchNormalization(axis = 3)(x9)\n",
        "x11= Activation('relu')(x10)\n",
        "x12= AveragePooling2D((7, 7), strides=(1, 1))(x11)\n",
        "\n",
        "\n",
        "o=keras.layers.Flatten()(x12)\n",
        "\n",
        "\n",
        "\n",
        "\n",
        "\n",
        "\n",
        "\n",
        "\n",
        "out = keras.layers.Dense(2000,activation=\"relu\")(o)\n",
        "out = keras.layers.Dense(1024,activation=\"relu\")(out)\n",
        "out = keras.layers.Dense(100,activation=\"relu\")(out)\n",
        "out1=keras.layers.Dense(2,activation=\"softmax\")(out)\n",
        "\n",
        "model = keras.models.Model(inputs=input1, outputs=out1)\n",
        "\n",
        "model.summary()"
      ],
      "execution_count": 13,
      "outputs": [
        {
          "output_type": "stream",
          "text": [
            "Model: \"model_1\"\n",
            "_________________________________________________________________\n",
            "Layer (type)                 Output Shape              Param #   \n",
            "=================================================================\n",
            "input_1 (InputLayer)         (None, 300, 300, 3)       0         \n",
            "_________________________________________________________________\n",
            "conv2d_1 (Conv2D)            (None, 149, 149, 300)     8400      \n",
            "_________________________________________________________________\n",
            "batch_normalization_1 (Batch (None, 149, 149, 300)     1200      \n",
            "_________________________________________________________________\n",
            "activation_1 (Activation)    (None, 149, 149, 300)     0         \n",
            "_________________________________________________________________\n",
            "max_pooling2d_1 (MaxPooling2 (None, 74, 74, 300)       0         \n",
            "_________________________________________________________________\n",
            "conv2d_2 (Conv2D)            (None, 37, 37, 400)       480400    \n",
            "_________________________________________________________________\n",
            "batch_normalization_2 (Batch (None, 37, 37, 400)       1600      \n",
            "_________________________________________________________________\n",
            "activation_2 (Activation)    (None, 37, 37, 400)       0         \n",
            "_________________________________________________________________\n",
            "max_pooling2d_2 (MaxPooling2 (None, 18, 18, 400)       0         \n",
            "_________________________________________________________________\n",
            "conv2d_3 (Conv2D)            (None, 17, 17, 400)       640400    \n",
            "_________________________________________________________________\n",
            "batch_normalization_3 (Batch (None, 17, 17, 400)       1600      \n",
            "_________________________________________________________________\n",
            "activation_3 (Activation)    (None, 17, 17, 400)       0         \n",
            "_________________________________________________________________\n",
            "average_pooling2d_1 (Average (None, 11, 11, 400)       0         \n",
            "_________________________________________________________________\n",
            "flatten_1 (Flatten)          (None, 48400)             0         \n",
            "_________________________________________________________________\n",
            "dense_1 (Dense)              (None, 2000)              96802000  \n",
            "_________________________________________________________________\n",
            "dense_2 (Dense)              (None, 1024)              2049024   \n",
            "_________________________________________________________________\n",
            "dense_3 (Dense)              (None, 100)               102500    \n",
            "_________________________________________________________________\n",
            "dense_4 (Dense)              (None, 2)                 202       \n",
            "=================================================================\n",
            "Total params: 100,087,326\n",
            "Trainable params: 100,085,126\n",
            "Non-trainable params: 2,200\n",
            "_________________________________________________________________\n"
          ],
          "name": "stdout"
        }
      ]
    },
    {
      "cell_type": "code",
      "metadata": {
        "id": "AJGXK1g4nz3v",
        "colab_type": "code",
        "colab": {}
      },
      "source": [
        "def step_decay(epoch):\n",
        "\tinitial_lrate = 0.1\n",
        "\tdrop = 0.5\n",
        "\tepochs_drop = 10.0\n",
        "\tlrate = initial_lrate * math.pow(drop, math.floor((1+epoch)/epochs_drop))\n",
        "\treturn lrate"
      ],
      "execution_count": 0,
      "outputs": []
    },
    {
      "cell_type": "code",
      "metadata": {
        "id": "AdfQlFvsoSlP",
        "colab_type": "code",
        "outputId": "a43af0a7-6f0f-4376-f3c8-edf27af496cb",
        "colab": {
          "base_uri": "https://localhost:8080/",
          "height": 52
        }
      },
      "source": [
        "print(xtrain.shape)\n",
        "print(ytrain.shape)"
      ],
      "execution_count": 15,
      "outputs": [
        {
          "output_type": "stream",
          "text": [
            "(3376, 300, 300, 3)\n",
            "(3376, 2)\n"
          ],
          "name": "stdout"
        }
      ]
    },
    {
      "cell_type": "code",
      "metadata": {
        "id": "1ew3LlF4n1AN",
        "colab_type": "code",
        "outputId": "f9386dfc-f63d-47a4-ffe5-fd9c02ea8a1a",
        "colab": {
          "base_uri": "https://localhost:8080/",
          "height": 294
        }
      },
      "source": [
        "model.compile(loss=\"categorical_crossentropy\", optimizer=\"sgd\", metrics=['accuracy'])\n",
        "#model.compile(optimizer='rmsprop', loss='categorical_crossentropy' ,metrics=['accuracy'])\n",
        "history=model.fit(xtrain, ytrain, batch_size=20,epochs=8, verbose=1)"
      ],
      "execution_count": 26,
      "outputs": [
        {
          "output_type": "stream",
          "text": [
            "Epoch 1/8\n",
            "3376/3376 [==============================] - 564s 167ms/step - loss: 0.0063 - accuracy: 0.9991\n",
            "Epoch 2/8\n",
            "3376/3376 [==============================] - 563s 167ms/step - loss: 0.0040 - accuracy: 0.9985\n",
            "Epoch 3/8\n",
            "3376/3376 [==============================] - 562s 167ms/step - loss: 0.0022 - accuracy: 1.0000\n",
            "Epoch 4/8\n",
            "3376/3376 [==============================] - 562s 167ms/step - loss: 0.0030 - accuracy: 0.9991\n",
            "Epoch 5/8\n",
            "3376/3376 [==============================] - 566s 168ms/step - loss: 0.0022 - accuracy: 0.9997\n",
            "Epoch 6/8\n",
            "3376/3376 [==============================] - 565s 167ms/step - loss: 0.0089 - accuracy: 0.9976\n",
            "Epoch 7/8\n",
            "3376/3376 [==============================] - 562s 167ms/step - loss: 0.0094 - accuracy: 0.9970\n",
            "Epoch 8/8\n",
            "3376/3376 [==============================] - 562s 166ms/step - loss: 0.0026 - accuracy: 0.9997\n"
          ],
          "name": "stdout"
        }
      ]
    },
    {
      "cell_type": "code",
      "metadata": {
        "id": "A3aUJH_rS6v0",
        "colab_type": "code",
        "outputId": "16823dc1-84bc-4345-e9d8-6565adef5518",
        "colab": {
          "base_uri": "https://localhost:8080/",
          "height": 52
        }
      },
      "source": [
        "model.evaluate(xtest,ytest)"
      ],
      "execution_count": 27,
      "outputs": [
        {
          "output_type": "stream",
          "text": [
            "1664/1664 [==============================] - 79s 47ms/step\n"
          ],
          "name": "stdout"
        },
        {
          "output_type": "execute_result",
          "data": {
            "text/plain": [
              "[0.058956347103678405, 0.9849759340286255]"
            ]
          },
          "metadata": {
            "tags": []
          },
          "execution_count": 27
        }
      ]
    },
    {
      "cell_type": "code",
      "metadata": {
        "id": "8YDuuB16S7Hi",
        "colab_type": "code",
        "outputId": "8342cc12-c02c-4b2a-db63-da8f6ab7bd50",
        "colab": {
          "base_uri": "https://localhost:8080/",
          "height": 173
        }
      },
      "source": [
        "import numpy as np\n",
        "from sklearn.metrics import classification_report,confusion_matrix\n",
        "import itertools\n",
        "\n",
        "Y_pred = model.predict(xtest)\n",
        "y_pred = np.argmax(Y_pred, axis=1)\n",
        "target_names = ['class 0', 'class 1']\n",
        "print(classification_report(np.argmax(ytest,axis=1), y_pred,target_names=target_names))"
      ],
      "execution_count": 28,
      "outputs": [
        {
          "output_type": "stream",
          "text": [
            "              precision    recall  f1-score   support\n",
            "\n",
            "     class 0       0.97      1.00      0.98       822\n",
            "     class 1       1.00      0.97      0.98       842\n",
            "\n",
            "    accuracy                           0.98      1664\n",
            "   macro avg       0.99      0.99      0.98      1664\n",
            "weighted avg       0.99      0.98      0.98      1664\n",
            "\n"
          ],
          "name": "stdout"
        }
      ]
    },
    {
      "cell_type": "code",
      "metadata": {
        "id": "oo5hhhTMv79q",
        "colab_type": "code",
        "outputId": "6f20bb31-e78b-4f31-e69f-eee3cfa68da8",
        "colab": {
          "base_uri": "https://localhost:8080/",
          "height": 52
        }
      },
      "source": [
        "model.evaluate(xtrain,ytrain)"
      ],
      "execution_count": 29,
      "outputs": [
        {
          "output_type": "stream",
          "text": [
            "3376/3376 [==============================] - 159s 47ms/step\n"
          ],
          "name": "stdout"
        },
        {
          "output_type": "execute_result",
          "data": {
            "text/plain": [
              "[0.0010025543270393174, 0.9997037649154663]"
            ]
          },
          "metadata": {
            "tags": []
          },
          "execution_count": 29
        }
      ]
    },
    {
      "cell_type": "code",
      "metadata": {
        "id": "X9oonnfwv8LD",
        "colab_type": "code",
        "colab": {
          "base_uri": "https://localhost:8080/",
          "height": 173
        },
        "outputId": "1474722b-56fa-4089-a23c-0de8a2b62540"
      },
      "source": [
        "import numpy as np\n",
        "from sklearn.metrics import classification_report,confusion_matrix\n",
        "import itertools\n",
        "\n",
        "Y_pred = model.predict(xtrain)\n",
        "y_pred = np.argmax(Y_pred, axis=1)\n",
        "target_names = ['class 0', 'class 1']\n",
        "print(classification_report(np.argmax(ytrain,axis=1), y_pred,target_names=target_names))"
      ],
      "execution_count": 30,
      "outputs": [
        {
          "output_type": "stream",
          "text": [
            "              precision    recall  f1-score   support\n",
            "\n",
            "     class 0       1.00      1.00      1.00      1698\n",
            "     class 1       1.00      1.00      1.00      1678\n",
            "\n",
            "    accuracy                           1.00      3376\n",
            "   macro avg       1.00      1.00      1.00      3376\n",
            "weighted avg       1.00      1.00      1.00      3376\n",
            "\n"
          ],
          "name": "stdout"
        }
      ]
    }
  ]
}