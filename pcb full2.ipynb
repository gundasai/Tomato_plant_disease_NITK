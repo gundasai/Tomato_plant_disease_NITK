{
  "nbformat": 4,
  "nbformat_minor": 0,
  "metadata": {
    "colab": {
      "name": "pcb.ipynb",
      "provenance": [],
      "collapsed_sections": [],
      "machine_shape": "hm",
      "authorship_tag": "ABX9TyP5ZxQNNn+4PqwPXj9M8E2m",
      "include_colab_link": true
    },
    "kernelspec": {
      "name": "python3",
      "display_name": "Python 3"
    }
  },
  "cells": [
    {
      "cell_type": "markdown",
      "metadata": {
        "id": "view-in-github",
        "colab_type": "text"
      },
      "source": [
        "<a href=\"https://colab.research.google.com/github/gundasai/deeplearning/blob/master/pcb%20full2.ipynb\" target=\"_parent\"><img src=\"https://colab.research.google.com/assets/colab-badge.svg\" alt=\"Open In Colab\"/></a>"
      ]
    },
    {
      "cell_type": "code",
      "metadata": {
        "id": "HHUGSQlsWSh_",
        "colab_type": "code",
        "outputId": "72e67296-ffe1-4e89-895c-92f1d4c3a7d1",
        "colab": {
          "base_uri": "https://localhost:8080/",
          "height": 34
        }
      },
      "source": [
        "from google.colab import drive\n",
        "drive.mount('/content/drive/')"
      ],
      "execution_count": 24,
      "outputs": [
        {
          "output_type": "stream",
          "text": [
            "Drive already mounted at /content/drive/; to attempt to forcibly remount, call drive.mount(\"/content/drive/\", force_remount=True).\n"
          ],
          "name": "stdout"
        }
      ]
    },
    {
      "cell_type": "code",
      "metadata": {
        "id": "GKvlAsT-WUQ5",
        "colab_type": "code",
        "outputId": "013ca021-7178-46e4-9d0c-d8e20d622968",
        "colab": {
          "base_uri": "https://localhost:8080/",
          "height": 34
        }
      },
      "source": [
        "import os\n",
        "os.chdir('/content/drive/My Drive/Raw_PCB')\n",
        "os.getcwd()"
      ],
      "execution_count": 25,
      "outputs": [
        {
          "output_type": "execute_result",
          "data": {
            "text/plain": [
              "'/content/drive/My Drive/Raw_PCB'"
            ]
          },
          "metadata": {
            "tags": []
          },
          "execution_count": 25
        }
      ]
    },
    {
      "cell_type": "code",
      "metadata": {
        "id": "37UzVvAdXn01",
        "colab_type": "code",
        "outputId": "773b2042-8376-438d-ed03-3c6439cbf287",
        "colab": {
          "base_uri": "https://localhost:8080/",
          "height": 51
        }
      },
      "source": [
        "import numpy as np\n",
        "a=np.load(\"s_x_train.npy\")\n",
        "b=np.load(\"s_y_train.npy\")\n",
        "print(a.shape)\n",
        "print(b.shape)"
      ],
      "execution_count": 26,
      "outputs": [
        {
          "output_type": "stream",
          "text": [
            "(2669, 300, 300, 3)\n",
            "(2669,)\n"
          ],
          "name": "stdout"
        }
      ]
    },
    {
      "cell_type": "code",
      "metadata": {
        "id": "lQ17yhZHk6QJ",
        "colab_type": "code",
        "colab": {}
      },
      "source": [
        "from sklearn.utils import shuffle\n",
        "(a,b)=shuffle(a,b)"
      ],
      "execution_count": 0,
      "outputs": []
    },
    {
      "cell_type": "code",
      "metadata": {
        "id": "YdnJAsohlOIw",
        "colab_type": "code",
        "colab": {}
      },
      "source": [
        "from sklearn.model_selection import train_test_split\n",
        "xtrain, xtest, ytrain, ytest = train_test_split(a, b, test_size=0.33, random_state=42)"
      ],
      "execution_count": 0,
      "outputs": []
    },
    {
      "cell_type": "code",
      "metadata": {
        "id": "Mp0nhPonla5W",
        "colab_type": "code",
        "outputId": "d5c576a5-7155-44fa-ddac-0d7f6dc45e76",
        "colab": {
          "base_uri": "https://localhost:8080/",
          "height": 187
        }
      },
      "source": [
        "print(xtrain.shape)\n",
        "print(ytrain.shape)\n",
        "\n",
        "print(xtest.shape)\n",
        "print(ytest.shape)\n",
        "\n",
        "print(xtrain.ndim)\n",
        "print(xtrain.dtype)\n",
        "\n",
        "print(xtrain.ndim)\n",
        "print(xtrain.dtype)\n",
        "\n",
        "print(xtest.ndim)\n",
        "print(xtest.dtype)"
      ],
      "execution_count": 29,
      "outputs": [
        {
          "output_type": "stream",
          "text": [
            "(1788, 300, 300, 3)\n",
            "(1788,)\n",
            "(881, 300, 300, 3)\n",
            "(881,)\n",
            "4\n",
            "uint8\n",
            "4\n",
            "uint8\n",
            "4\n",
            "uint8\n"
          ],
          "name": "stdout"
        }
      ]
    },
    {
      "cell_type": "code",
      "metadata": {
        "id": "MfvN3JB5li5N",
        "colab_type": "code",
        "outputId": "01e70c64-3a42-417a-c611-32b6b3e7f459",
        "colab": {
          "base_uri": "https://localhost:8080/",
          "height": 286
        }
      },
      "source": [
        "import matplotlib.pyplot as plt\n",
        "%matplotlib inline\n",
        "plt.imshow(xtest[0], cmap='brg')"
      ],
      "execution_count": 30,
      "outputs": [
        {
          "output_type": "execute_result",
          "data": {
            "text/plain": [
              "<matplotlib.image.AxesImage at 0x7f123602b160>"
            ]
          },
          "metadata": {
            "tags": []
          },
          "execution_count": 30
        },
        {
          "output_type": "display_data",
          "data": {
            "image/png": "[encoded data removed]",
            "text/plain": [
              "<Figure size 432x288 with 1 Axes>"
            ]
          },
          "metadata": {
            "tags": []
          }
        }
      ]
    },
    {
      "cell_type": "code",
      "metadata": {
        "id": "cywzizBjYCtv",
        "colab_type": "code",
        "colab": {}
      },
      "source": [
        "xtrain = xtrain.astype('float32')\n",
        "xtest  = xtest.astype('float32')"
      ],
      "execution_count": 0,
      "outputs": []
    },
    {
      "cell_type": "code",
      "metadata": {
        "id": "utnO5aUQlhfX",
        "colab_type": "code",
        "outputId": "e18c1b4f-81fe-4244-d367-350c08822929",
        "colab": {
          "base_uri": "https://localhost:8080/",
          "height": 51
        }
      },
      "source": [
        "print(xtrain.shape)\n",
        "print(ytrain.shape)"
      ],
      "execution_count": 32,
      "outputs": [
        {
          "output_type": "stream",
          "text": [
            "(1788, 300, 300, 3)\n",
            "(1788,)\n"
          ],
          "name": "stdout"
        }
      ]
    },
    {
      "cell_type": "code",
      "metadata": {
        "id": "jesVesSFkuRn",
        "colab_type": "code",
        "outputId": "6a0b35ff-eb07-4282-d2b7-87aa851078e5",
        "colab": {
          "base_uri": "https://localhost:8080/",
          "height": 153
        }
      },
      "source": [
        "#keras.utils.normalize(a, axis=-1, order=2)\n",
        "print (np.max(xtrain),np.max(xtest))\n",
        "print (np.min(xtrain),np.min(xtest))\n",
        "\n",
        "print (np.max(ytrain),np.max(ytest))\n",
        "print (np.min(ytrain),np.min(ytest))\n",
        "\n",
        "mean = np.mean(xtrain)\n",
        "std  = np.std(xtrain)\n",
        "\n",
        "print(mean)\n",
        "print(std)\n",
        "\n",
        "xtrain -= mean\n",
        "xtrain /= std\n",
        "\n",
        "xtest -= mean\n",
        "xtest /= std\n",
        "\n",
        "print (np.max(xtrain),np.max(xtest))\n",
        "print (np.min(xtrain),np.min(xtest))"
      ],
      "execution_count": 33,
      "outputs": [
        {
          "output_type": "stream",
          "text": [
            "255.0 255.0\n",
            "0.0 0.0\n",
            "1.0 1.0\n",
            "0.0 0.0\n",
            "50.8361\n",
            "53.464817\n",
            "3.8186588 3.8186588\n",
            "-0.9508328 -0.9508328\n"
          ],
          "name": "stdout"
        }
      ]
    },
    {
      "cell_type": "code",
      "metadata": {
        "id": "5zruw2E0nKJZ",
        "colab_type": "code",
        "outputId": "8d434b65-ae3a-494c-a4ac-312079e43a0c",
        "colab": {
          "base_uri": "https://localhost:8080/",
          "height": 34
        }
      },
      "source": [
        "from keras.utils import to_categorical\n",
        "ytrain = to_categorical(ytrain)\n",
        "ytest  =  to_categorical(ytest)\n",
        "print(ytest[0])"
      ],
      "execution_count": 34,
      "outputs": [
        {
          "output_type": "stream",
          "text": [
            "[1. 0.]\n"
          ],
          "name": "stdout"
        }
      ]
    },
    {
      "cell_type": "code",
      "metadata": {
        "id": "o8wKBCzLoxBa",
        "colab_type": "code",
        "outputId": "0f5f341e-d8f2-4627-a1a3-2c758e944ab8",
        "colab": {
          "base_uri": "https://localhost:8080/",
          "height": 51
        }
      },
      "source": [
        "print(xtrain.shape)\n",
        "print(ytrain.shape)"
      ],
      "execution_count": 35,
      "outputs": [
        {
          "output_type": "stream",
          "text": [
            "(1788, 300, 300, 3)\n",
            "(1788, 2)\n"
          ],
          "name": "stdout"
        }
      ]
    },
    {
      "cell_type": "code",
      "metadata": {
        "id": "PweZ1h6qnOQt",
        "colab_type": "code",
        "outputId": "8203d2d0-00c3-4af7-d308-12db4db036b5",
        "colab": {
          "base_uri": "https://localhost:8080/",
          "height": 870
        }
      },
      "source": [
        "from keras.models import Model\n",
        "from keras.layers import Input\n",
        "from keras.layers import Activation\n",
        "from keras.layers import Conv2D\n",
        "from keras.layers import MaxPooling2D\n",
        "from keras.layers import add\n",
        "from keras.utils import plot_model\n",
        "import keras\n",
        "\n",
        "input1 = keras.layers.Input(shape=(300,300,3))\n",
        "x0=keras.layers.ZeroPadding2D(padding=(3, 3))(input1)\n",
        "\n",
        "x1 = Conv2D(300,(7,7),strides=(2,2) ,activation='relu')(x0)\n",
        "x2=keras.layers.BatchNormalization(axis = 3)(x1)\n",
        "x3= Activation('relu')(x2)\n",
        "x4= MaxPooling2D((3, 3), strides=(2, 2))(x3)\n",
        "\n",
        "x5= Conv2D(200,(2,2),strides=(2,2) ,activation='relu')(x4)\n",
        "x6=keras.layers.BatchNormalization(axis = 3)(x5)\n",
        "x7= Activation('relu')(x6)\n",
        "x8= MaxPooling2D((3, 3), strides=(2, 2))(x7)\n",
        "\n",
        "\n",
        "x9= Conv2D(200,(2,2),strides=(2,2) ,activation='relu')(x8)\n",
        "x10=keras.layers.BatchNormalization(axis = 3)(x9)\n",
        "x11= Activation('relu')(x10)\n",
        "x12= MaxPooling2D((3, 3), strides=(2, 2))(x11)\n",
        "\n",
        "\n",
        "\n",
        "\n",
        "\n",
        "\n",
        "o=keras.layers.Flatten()(x11)\n",
        "\n",
        "\n",
        "\n",
        "\n",
        "\n",
        "\n",
        "\n",
        "\n",
        "out = keras.layers.Dense(100,activation=\"relu\")(o)\n",
        "out=keras.layers.Dropout(0.4)(out)\n",
        "out = keras.layers.Dense(100,activation=\"relu\")(out)\n",
        "out=keras.layers.Dropout(0.2)(out)\n",
        "out1=keras.layers.Dense(2,activation=\"softmax\")(out)\n",
        "\n",
        "model = keras.models.Model(inputs=input1, outputs=out1)\n",
        "\n",
        "model.summary()"
      ],
      "execution_count": 36,
      "outputs": [
        {
          "output_type": "stream",
          "text": [
            "WARNING:tensorflow:From /usr/local/lib/python3.6/dist-packages/keras/backend/tensorflow_backend.py:3733: calling dropout (from tensorflow.python.ops.nn_ops) with keep_prob is deprecated and will be removed in a future version.\n",
            "Instructions for updating:\n",
            "Please use `rate` instead of `keep_prob`. Rate should be set to `rate = 1 - keep_prob`.\n",
            "Model: \"model_2\"\n",
            "_________________________________________________________________\n",
            "Layer (type)                 Output Shape              Param #   \n",
            "=================================================================\n",
            "input_2 (InputLayer)         (None, 300, 300, 3)       0         \n",
            "_________________________________________________________________\n",
            "zero_padding2d_2 (ZeroPaddin (None, 306, 306, 3)       0         \n",
            "_________________________________________________________________\n",
            "conv2d_4 (Conv2D)            (None, 150, 150, 300)     44400     \n",
            "_________________________________________________________________\n",
            "batch_normalization_4 (Batch (None, 150, 150, 300)     1200      \n",
            "_________________________________________________________________\n",
            "activation_4 (Activation)    (None, 150, 150, 300)     0         \n",
            "_________________________________________________________________\n",
            "max_pooling2d_4 (MaxPooling2 (None, 74, 74, 300)       0         \n",
            "_________________________________________________________________\n",
            "conv2d_5 (Conv2D)            (None, 37, 37, 200)       240200    \n",
            "_________________________________________________________________\n",
            "batch_normalization_5 (Batch (None, 37, 37, 200)       800       \n",
            "_________________________________________________________________\n",
            "activation_5 (Activation)    (None, 37, 37, 200)       0         \n",
            "_________________________________________________________________\n",
            "max_pooling2d_5 (MaxPooling2 (None, 18, 18, 200)       0         \n",
            "_________________________________________________________________\n",
            "conv2d_6 (Conv2D)            (None, 9, 9, 200)         160200    \n",
            "_________________________________________________________________\n",
            "batch_normalization_6 (Batch (None, 9, 9, 200)         800       \n",
            "_________________________________________________________________\n",
            "activation_6 (Activation)    (None, 9, 9, 200)         0         \n",
            "_________________________________________________________________\n",
            "flatten_2 (Flatten)          (None, 16200)             0         \n",
            "_________________________________________________________________\n",
            "dense_4 (Dense)              (None, 100)               1620100   \n",
            "_________________________________________________________________\n",
            "dropout_1 (Dropout)          (None, 100)               0         \n",
            "_________________________________________________________________\n",
            "dense_5 (Dense)              (None, 100)               10100     \n",
            "_________________________________________________________________\n",
            "dropout_2 (Dropout)          (None, 100)               0         \n",
            "_________________________________________________________________\n",
            "dense_6 (Dense)              (None, 2)                 202       \n",
            "=================================================================\n",
            "Total params: 2,078,002\n",
            "Trainable params: 2,076,602\n",
            "Non-trainable params: 1,400\n",
            "_________________________________________________________________\n"
          ],
          "name": "stdout"
        }
      ]
    },
    {
      "cell_type": "code",
      "metadata": {
        "id": "AJGXK1g4nz3v",
        "colab_type": "code",
        "colab": {}
      },
      "source": [
        "def step_decay(epoch):\n",
        "\tinitial_lrate = 0.1\n",
        "\tdrop = 0.5\n",
        "\tepochs_drop = 10.0\n",
        "\tlrate = initial_lrate * math.pow(drop, math.floor((1+epoch)/epochs_drop))\n",
        "\treturn lrate"
      ],
      "execution_count": 0,
      "outputs": []
    },
    {
      "cell_type": "code",
      "metadata": {
        "id": "AdfQlFvsoSlP",
        "colab_type": "code",
        "outputId": "fd07002b-65a4-40c9-a79c-f4a77f00ae4a",
        "colab": {
          "base_uri": "https://localhost:8080/",
          "height": 51
        }
      },
      "source": [
        "print(xtrain.shape)\n",
        "print(ytrain.shape)"
      ],
      "execution_count": 38,
      "outputs": [
        {
          "output_type": "stream",
          "text": [
            "(1788, 300, 300, 3)\n",
            "(1788, 2)\n"
          ],
          "name": "stdout"
        }
      ]
    },
    {
      "cell_type": "code",
      "metadata": {
        "id": "1ew3LlF4n1AN",
        "colab_type": "code",
        "outputId": "e7c685af-ae2d-4f02-9026-3c167d45b286",
        "colab": {
          "base_uri": "https://localhost:8080/",
          "height": 1000
        }
      },
      "source": [
        "model.compile(loss=\"categorical_crossentropy\", optimizer=\"sgd\", metrics=['accuracy'])\n",
        "#model.compile(optimizer='rmsprop', loss='categorical_crossentropy' ,metrics=['accuracy'])\n",
        "history=model.fit(xtrain, ytrain, batch_size=60,epochs=40, verbose=1)"
      ],
      "execution_count": 40,
      "outputs": [
        {
          "output_type": "stream",
          "text": [
            "Epoch 1/40\n",
            "1788/1788 [==============================] - 475s 266ms/step - loss: 0.2116 - acc: 0.9424\n",
            "Epoch 2/40\n",
            "1788/1788 [==============================] - 472s 264ms/step - loss: 0.1725 - acc: 0.9457\n",
            "Epoch 3/40\n",
            "1788/1788 [==============================] - 474s 265ms/step - loss: 0.1286 - acc: 0.9502\n",
            "Epoch 4/40\n",
            "1788/1788 [==============================] - 472s 264ms/step - loss: 0.1222 - acc: 0.9519\n",
            "Epoch 5/40\n",
            "1788/1788 [==============================] - 472s 264ms/step - loss: 0.0936 - acc: 0.9631\n",
            "Epoch 6/40\n",
            "1788/1788 [==============================] - 471s 263ms/step - loss: 0.0820 - acc: 0.9648\n",
            "Epoch 7/40\n",
            "1788/1788 [==============================] - 471s 263ms/step - loss: 0.0762 - acc: 0.9715\n",
            "Epoch 8/40\n",
            "1788/1788 [==============================] - 468s 262ms/step - loss: 0.0678 - acc: 0.9687\n",
            "Epoch 9/40\n",
            "1788/1788 [==============================] - 471s 263ms/step - loss: 0.0573 - acc: 0.9787\n",
            "Epoch 10/40\n",
            "1788/1788 [==============================] - 470s 263ms/step - loss: 0.0539 - acc: 0.9765\n",
            "Epoch 11/40\n",
            "1788/1788 [==============================] - 469s 262ms/step - loss: 0.0501 - acc: 0.9793\n",
            "Epoch 12/40\n",
            "1788/1788 [==============================] - 468s 262ms/step - loss: 0.0408 - acc: 0.9883\n",
            "Epoch 13/40\n",
            "1788/1788 [==============================] - 468s 261ms/step - loss: 0.0369 - acc: 0.9888\n",
            "Epoch 14/40\n",
            "1788/1788 [==============================] - 466s 260ms/step - loss: 0.0322 - acc: 0.9911\n",
            "Epoch 15/40\n",
            "1788/1788 [==============================] - 466s 261ms/step - loss: 0.0348 - acc: 0.9883\n",
            "Epoch 16/40\n",
            "1788/1788 [==============================] - 466s 261ms/step - loss: 0.0291 - acc: 0.9883\n",
            "Epoch 17/40\n",
            "1788/1788 [==============================] - 467s 261ms/step - loss: 0.0268 - acc: 0.9916\n",
            "Epoch 18/40\n",
            "1788/1788 [==============================] - 467s 261ms/step - loss: 0.0236 - acc: 0.9922\n",
            "Epoch 19/40\n",
            "1788/1788 [==============================] - 468s 262ms/step - loss: 0.0202 - acc: 0.9944\n",
            "Epoch 20/40\n",
            "1788/1788 [==============================] - 467s 261ms/step - loss: 0.0227 - acc: 0.9933\n",
            "Epoch 21/40\n",
            "1788/1788 [==============================] - 469s 262ms/step - loss: 0.0170 - acc: 0.9950\n",
            "Epoch 22/40\n",
            "1788/1788 [==============================] - 467s 261ms/step - loss: 0.0154 - acc: 0.9938\n",
            "Epoch 23/40\n",
            "1788/1788 [==============================] - 466s 261ms/step - loss: 0.0190 - acc: 0.9955\n",
            "Epoch 24/40\n",
            "1788/1788 [==============================] - 468s 262ms/step - loss: 0.0152 - acc: 0.9961\n",
            "Epoch 25/40\n",
            "1788/1788 [==============================] - 466s 261ms/step - loss: 0.0161 - acc: 0.9961\n",
            "Epoch 26/40\n",
            "1788/1788 [==============================] - 466s 261ms/step - loss: 0.0136 - acc: 0.9972\n",
            "Epoch 27/40\n",
            "1788/1788 [==============================] - 464s 260ms/step - loss: 0.0125 - acc: 0.9978\n",
            "Epoch 28/40\n",
            "1788/1788 [==============================] - 465s 260ms/step - loss: 0.0123 - acc: 0.9966\n",
            "Epoch 29/40\n",
            "1788/1788 [==============================] - 464s 260ms/step - loss: 0.0182 - acc: 0.9950\n",
            "Epoch 30/40\n",
            "1788/1788 [==============================] - 464s 260ms/step - loss: 0.0098 - acc: 0.9989\n",
            "Epoch 31/40\n",
            "1788/1788 [==============================] - 464s 259ms/step - loss: 0.0096 - acc: 0.9972\n",
            "Epoch 32/40\n",
            "1788/1788 [==============================] - 463s 259ms/step - loss: 0.0106 - acc: 0.9972\n",
            "Epoch 33/40\n",
            "1788/1788 [==============================] - 464s 259ms/step - loss: 0.0100 - acc: 0.9983\n",
            "Epoch 34/40\n",
            "1788/1788 [==============================] - 465s 260ms/step - loss: 0.0069 - acc: 0.9994\n",
            "Epoch 35/40\n",
            "1788/1788 [==============================] - 463s 259ms/step - loss: 0.0098 - acc: 0.9972\n",
            "Epoch 36/40\n",
            "1788/1788 [==============================] - 465s 260ms/step - loss: 0.0049 - acc: 1.0000\n",
            "Epoch 37/40\n",
            "1788/1788 [==============================] - 465s 260ms/step - loss: 0.0089 - acc: 0.9983\n",
            "Epoch 38/40\n",
            "1788/1788 [==============================] - 464s 259ms/step - loss: 0.0060 - acc: 0.9994\n",
            "Epoch 39/40\n",
            "1788/1788 [==============================] - 462s 259ms/step - loss: 0.0042 - acc: 0.9989\n",
            "Epoch 40/40\n",
            "1788/1788 [==============================] - 464s 259ms/step - loss: 0.0055 - acc: 0.9978\n"
          ],
          "name": "stdout"
        }
      ]
    },
    {
      "cell_type": "code",
      "metadata": {
        "id": "A3aUJH_rS6v0",
        "colab_type": "code",
        "outputId": "b71bdcfd-3a76-42d4-9812-0abe2994f3e5",
        "colab": {
          "base_uri": "https://localhost:8080/",
          "height": 51
        }
      },
      "source": [
        "model.evaluate(xtest,ytest)"
      ],
      "execution_count": 41,
      "outputs": [
        {
          "output_type": "stream",
          "text": [
            "881/881 [==============================] - 79s 89ms/step\n"
          ],
          "name": "stdout"
        },
        {
          "output_type": "execute_result",
          "data": {
            "text/plain": [
              "[0.2847021574440711, 0.9545970490111395]"
            ]
          },
          "metadata": {
            "tags": []
          },
          "execution_count": 41
        }
      ]
    },
    {
      "cell_type": "code",
      "metadata": {
        "id": "8YDuuB16S7Hi",
        "colab_type": "code",
        "outputId": "dad1f71a-7b37-41ef-b152-bd8e1bd53c7c",
        "colab": {
          "base_uri": "https://localhost:8080/",
          "height": 170
        }
      },
      "source": [
        "import numpy as np\n",
        "from sklearn.metrics import classification_report,confusion_matrix\n",
        "import itertools\n",
        "\n",
        "Y_pred = model.predict(xtest)\n",
        "y_pred = np.argmax(Y_pred, axis=1)\n",
        "target_names = ['class 0', 'class 1']\n",
        "print(classification_report(np.argmax(ytest,axis=1), y_pred,target_names=target_names))"
      ],
      "execution_count": 42,
      "outputs": [
        {
          "output_type": "stream",
          "text": [
            "              precision    recall  f1-score   support\n",
            "\n",
            "     class 0       0.88      0.27      0.41        52\n",
            "     class 1       0.96      1.00      0.98       829\n",
            "\n",
            "    accuracy                           0.95       881\n",
            "   macro avg       0.92      0.63      0.69       881\n",
            "weighted avg       0.95      0.95      0.94       881\n",
            "\n"
          ],
          "name": "stdout"
        }
      ]
    },
    {
      "cell_type": "code",
      "metadata": {
        "id": "oo5hhhTMv79q",
        "colab_type": "code",
        "outputId": "b1279bce-e29a-4ef4-e00a-596280b3cc12",
        "colab": {
          "base_uri": "https://localhost:8080/",
          "height": 51
        }
      },
      "source": [
        "model.evaluate(xtrain,ytrain)"
      ],
      "execution_count": 43,
      "outputs": [
        {
          "output_type": "stream",
          "text": [
            "1788/1788 [==============================] - 158s 88ms/step\n"
          ],
          "name": "stdout"
        },
        {
          "output_type": "execute_result",
          "data": {
            "text/plain": [
              "[0.0011087695990622817, 1.0]"
            ]
          },
          "metadata": {
            "tags": []
          },
          "execution_count": 43
        }
      ]
    },
    {
      "cell_type": "code",
      "metadata": {
        "id": "X9oonnfwv8LD",
        "colab_type": "code",
        "outputId": "74c19a04-eb28-4a31-abf9-61bff5c98598",
        "colab": {
          "base_uri": "https://localhost:8080/",
          "height": 170
        }
      },
      "source": [
        "import numpy as np\n",
        "from sklearn.metrics import classification_report,confusion_matrix\n",
        "import itertools\n",
        "\n",
        "Y_pred = model.predict(xtrain)\n",
        "y_pred = np.argmax(Y_pred, axis=1)\n",
        "target_names = ['class 0', 'class 1']\n",
        "print(classification_report(np.argmax(ytrain,axis=1), y_pred,target_names=target_names))"
      ],
      "execution_count": 44,
      "outputs": [
        {
          "output_type": "stream",
          "text": [
            "              precision    recall  f1-score   support\n",
            "\n",
            "     class 0       1.00      1.00      1.00        97\n",
            "     class 1       1.00      1.00      1.00      1691\n",
            "\n",
            "    accuracy                           1.00      1788\n",
            "   macro avg       1.00      1.00      1.00      1788\n",
            "weighted avg       1.00      1.00      1.00      1788\n",
            "\n"
          ],
          "name": "stdout"
        }
      ]
    },
    {
      "cell_type": "code",
      "metadata": {
        "id": "bO3xhAVgi0fI",
        "colab_type": "code",
        "colab": {
          "base_uri": "https://localhost:8080/",
          "height": 34
        },
        "outputId": "ebe88255-6088-4ccf-cda3-9e0a07934984"
      },
      "source": [
        "import os\n",
        "os.chdir('/content/drive/My Drive/Aug_PCB')\n",
        "os.getcwd()"
      ],
      "execution_count": 45,
      "outputs": [
        {
          "output_type": "execute_result",
          "data": {
            "text/plain": [
              "'/content/drive/My Drive/Aug_PCB'"
            ]
          },
          "metadata": {
            "tags": []
          },
          "execution_count": 45
        }
      ]
    },
    {
      "cell_type": "code",
      "metadata": {
        "id": "jfsw0lkQi7Gc",
        "colab_type": "code",
        "colab": {
          "base_uri": "https://localhost:8080/",
          "height": 221
        },
        "outputId": "5ddcb095-fe23-4579-c3f0-6f78f6a17f6d"
      },
      "source": [
        "import numpy as np\n",
        "xtest=np.load(\"s_x_train.npy\")\n",
        "ytest=np.load(\"s_y_train.npy\")\n",
        "xtest  = xtest.astype('float32')\n",
        "\n",
        "\n",
        "mean = np.mean(xtest)\n",
        "std  = np.std(xtest)\n",
        "\n",
        "print(mean)\n",
        "print(std)\n",
        "\n",
        "\n",
        "xtest -= mean\n",
        "xtest /= std\n",
        "ytest  =  to_categorical(ytest)\n",
        "print(ytest[0])\n",
        "import numpy as np\n",
        "from sklearn.metrics import classification_report,confusion_matrix\n",
        "import itertools\n",
        "\n",
        "Y_pred = model.predict(xtest)\n",
        "y_pred = np.argmax(Y_pred, axis=1)\n",
        "target_names = ['class 0', 'class 1']\n",
        "print(classification_report(np.argmax(ytest,axis=1), y_pred,target_names=target_names))"
      ],
      "execution_count": 46,
      "outputs": [
        {
          "output_type": "stream",
          "text": [
            "0.20878915\n",
            "0.20782994\n",
            "[1. 0.]\n",
            "              precision    recall  f1-score   support\n",
            "\n",
            "     class 0       1.00      0.26      0.41      2520\n",
            "     class 1       0.57      1.00      0.73      2520\n",
            "\n",
            "    accuracy                           0.63      5040\n",
            "   macro avg       0.78      0.63      0.57      5040\n",
            "weighted avg       0.78      0.63      0.57      5040\n",
            "\n"
          ],
          "name": "stdout"
        }
      ]
    }
  ]
}