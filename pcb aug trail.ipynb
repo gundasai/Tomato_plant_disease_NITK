{
  "nbformat": 4,
  "nbformat_minor": 0,
  "metadata": {
    "colab": {
      "name": "pcb.ipynb",
      "provenance": [],
      "collapsed_sections": [],
      "machine_shape": "hm",
      "authorship_tag": "ABX9TyPghVFhY6nfh0Nc7yiMy0LR",
      "include_colab_link": true
    },
    "kernelspec": {
      "name": "python3",
      "display_name": "Python 3"
    }
  },
  "cells": [
    {
      "cell_type": "markdown",
      "metadata": {
        "id": "view-in-github",
        "colab_type": "text"
      },
      "source": [
        "<a href=\"https://colab.research.google.com/github/gundasai/deeplearning/blob/master/pcb%20aug%20trail.ipynb\" target=\"_parent\"><img src=\"https://colab.research.google.com/assets/colab-badge.svg\" alt=\"Open In Colab\"/></a>"
      ]
    },
    {
      "cell_type": "code",
      "metadata": {
        "id": "HHUGSQlsWSh_",
        "colab_type": "code",
        "outputId": "e79ca91d-0c4b-45eb-ec21-655755a1c658",
        "colab": {
          "base_uri": "https://localhost:8080/",
          "height": 122
        }
      },
      "source": [
        "from google.colab import drive\n",
        "drive.mount('/content/drive/')"
      ],
      "execution_count": 1,
      "outputs": [
        {
          "output_type": "stream",
          "text": [
            "Go to this URL in a browser: https://accounts.google.com/o/oauth2/auth?client_id=947318989803-6bn6qk8qdgf4n4g3pfee6491hc0brc4i.apps.googleusercontent.com&redirect_uri=urn%3aietf%3awg%3aoauth%3a2.0%3aoob&response_type=code&scope=email%20https%3a%2f%2fwww.googleapis.com%2fauth%2fdocs.test%20https%3a%2f%2fwww.googleapis.com%2fauth%2fdrive%20https%3a%2f%2fwww.googleapis.com%2fauth%2fdrive.photos.readonly%20https%3a%2f%2fwww.googleapis.com%2fauth%2fpeopleapi.readonly\n",
            "\n",
            "Enter your authorization code:\n",
            "··········\n",
            "Mounted at /content/drive/\n"
          ],
          "name": "stdout"
        }
      ]
    },
    {
      "cell_type": "code",
      "metadata": {
        "id": "GKvlAsT-WUQ5",
        "colab_type": "code",
        "outputId": "24e1a9e9-6003-4318-fd2e-67309a7656ae",
        "colab": {
          "base_uri": "https://localhost:8080/",
          "height": 34
        }
      },
      "source": [
        "import os\n",
        "os.chdir('/content/drive/My Drive/Aug_PCB')\n",
        "os.getcwd()"
      ],
      "execution_count": 2,
      "outputs": [
        {
          "output_type": "execute_result",
          "data": {
            "text/plain": [
              "'/content/drive/My Drive/Aug_PCB'"
            ]
          },
          "metadata": {
            "tags": []
          },
          "execution_count": 2
        }
      ]
    },
    {
      "cell_type": "code",
      "metadata": {
        "id": "37UzVvAdXn01",
        "colab_type": "code",
        "outputId": "5da23042-5b40-4d3b-d2b3-72e506bcf13b",
        "colab": {
          "base_uri": "https://localhost:8080/",
          "height": 51
        }
      },
      "source": [
        "import numpy as np\n",
        "a=np.load(\"s_x_train.npy\")\n",
        "b=np.load(\"s_y_train.npy\")\n",
        "print(a.shape)\n",
        "print(b.shape)"
      ],
      "execution_count": 3,
      "outputs": [
        {
          "output_type": "stream",
          "text": [
            "(5040, 300, 300, 3)\n",
            "(5040,)\n"
          ],
          "name": "stdout"
        }
      ]
    },
    {
      "cell_type": "code",
      "metadata": {
        "id": "lQ17yhZHk6QJ",
        "colab_type": "code",
        "colab": {}
      },
      "source": [
        "from sklearn.utils import shuffle\n",
        "(a,b)=shuffle(a,b)"
      ],
      "execution_count": 0,
      "outputs": []
    },
    {
      "cell_type": "code",
      "metadata": {
        "id": "YdnJAsohlOIw",
        "colab_type": "code",
        "colab": {}
      },
      "source": [
        "from sklearn.model_selection import train_test_split\n",
        "xtrain, xtest, ytrain, ytest = train_test_split(a, b, test_size=0.33, random_state=42)"
      ],
      "execution_count": 0,
      "outputs": []
    },
    {
      "cell_type": "code",
      "metadata": {
        "id": "Mp0nhPonla5W",
        "colab_type": "code",
        "outputId": "65c9287d-1b30-4c15-8458-c6095f1d3392",
        "colab": {
          "base_uri": "https://localhost:8080/",
          "height": 187
        }
      },
      "source": [
        "print(xtrain.shape)\n",
        "print(ytrain.shape)\n",
        "\n",
        "print(xtest.shape)\n",
        "print(ytest.shape)\n",
        "\n",
        "print(xtrain.ndim)\n",
        "print(xtrain.dtype)\n",
        "\n",
        "print(xtrain.ndim)\n",
        "print(xtrain.dtype)\n",
        "\n",
        "print(xtest.ndim)\n",
        "print(xtest.dtype)"
      ],
      "execution_count": 6,
      "outputs": [
        {
          "output_type": "stream",
          "text": [
            "(3376, 300, 300, 3)\n",
            "(3376,)\n",
            "(1664, 300, 300, 3)\n",
            "(1664,)\n",
            "4\n",
            "float32\n",
            "4\n",
            "float32\n",
            "4\n",
            "float32\n"
          ],
          "name": "stdout"
        }
      ]
    },
    {
      "cell_type": "code",
      "metadata": {
        "id": "MfvN3JB5li5N",
        "colab_type": "code",
        "outputId": "dacd1026-fc63-4779-afae-bbcb259a7f31",
        "colab": {
          "base_uri": "https://localhost:8080/",
          "height": 286
        }
      },
      "source": [
        "import matplotlib.pyplot as plt\n",
        "%matplotlib inline\n",
        "plt.imshow(xtest[0], cmap='brg')"
      ],
      "execution_count": 7,
      "outputs": [
        {
          "output_type": "execute_result",
          "data": {
            "text/plain": [
              "<matplotlib.image.AxesImage at 0x7f93eeee9be0>"
            ]
          },
          "metadata": {
            "tags": []
          },
          "execution_count": 7
        },
        {
          "output_type": "display_data",
          "data": {
            "image/png": "[encoded data removed]",
            "text/plain": [
              "<Figure size 432x288 with 1 Axes>"
            ]
          },
          "metadata": {
            "tags": []
          }
        }
      ]
    },
    {
      "cell_type": "code",
      "metadata": {
        "id": "cywzizBjYCtv",
        "colab_type": "code",
        "colab": {}
      },
      "source": [
        "xtrain = xtrain.astype('float32')\n",
        "xtest  = xtest.astype('float32')"
      ],
      "execution_count": 0,
      "outputs": []
    },
    {
      "cell_type": "code",
      "metadata": {
        "id": "utnO5aUQlhfX",
        "colab_type": "code",
        "outputId": "b731b1ce-2f88-4822-c1bc-95f80546cfc5",
        "colab": {
          "base_uri": "https://localhost:8080/",
          "height": 51
        }
      },
      "source": [
        "print(xtrain.shape)\n",
        "print(ytrain.shape)"
      ],
      "execution_count": 9,
      "outputs": [
        {
          "output_type": "stream",
          "text": [
            "(3376, 300, 300, 3)\n",
            "(3376,)\n"
          ],
          "name": "stdout"
        }
      ]
    },
    {
      "cell_type": "code",
      "metadata": {
        "id": "jesVesSFkuRn",
        "colab_type": "code",
        "outputId": "77a4345d-9562-4f22-c459-f27363e3cbe3",
        "colab": {
          "base_uri": "https://localhost:8080/",
          "height": 153
        }
      },
      "source": [
        "#keras.utils.normalize(a, axis=-1, order=2)\n",
        "print (np.max(xtrain),np.max(xtest))\n",
        "print (np.min(xtrain),np.min(xtest))\n",
        "\n",
        "print (np.max(ytrain),np.max(ytest))\n",
        "print (np.min(ytrain),np.min(ytest))\n",
        "\n",
        "mean = np.mean(xtrain)\n",
        "std  = np.std(xtrain)\n",
        "\n",
        "print(mean)\n",
        "print(std)\n",
        "\n",
        "xtrain -= mean\n",
        "xtrain /= std\n",
        "\n",
        "xtest -= mean\n",
        "xtest /= std\n",
        "\n",
        "print (np.max(xtrain),np.max(xtest))\n",
        "print (np.min(xtrain),np.min(xtest))"
      ],
      "execution_count": 10,
      "outputs": [
        {
          "output_type": "stream",
          "text": [
            "1.0 1.0\n",
            "0.0 0.0\n",
            "1.0 1.0\n",
            "0.0 0.0\n",
            "0.20945065\n",
            "0.20864616\n",
            "3.7889473 3.7889473\n",
            "-1.0038557 -1.0038557\n"
          ],
          "name": "stdout"
        }
      ]
    },
    {
      "cell_type": "code",
      "metadata": {
        "id": "5zruw2E0nKJZ",
        "colab_type": "code",
        "outputId": "09a4b075-049f-41b1-ddaf-d3bb44ee6d31",
        "colab": {
          "base_uri": "https://localhost:8080/",
          "height": 97
        }
      },
      "source": [
        "from keras.utils import to_categorical\n",
        "ytrain = to_categorical(ytrain)\n",
        "ytest  =  to_categorical(ytest)\n",
        "print(ytest[0])"
      ],
      "execution_count": 11,
      "outputs": [
        {
          "output_type": "stream",
          "text": [
            "Using TensorFlow backend.\n"
          ],
          "name": "stderr"
        },
        {
          "output_type": "display_data",
          "data": {
            "text/html": [
              "<p style=\"color: red;\">\n",
              "The default version of TensorFlow in Colab will soon switch to TensorFlow 2.x.<br>\n",
              "We recommend you <a href=\"https://www.tensorflow.org/guide/migrate\" target=\"_blank\">upgrade</a> now \n",
              "or ensure your notebook will continue to use TensorFlow 1.x via the <code>%tensorflow_version 1.x</code> magic:\n",
              "<a href=\"https://colab.research.google.com/notebooks/tensorflow_version.ipynb\" target=\"_blank\">more info</a>.</p>\n"
            ],
            "text/plain": [
              "<IPython.core.display.HTML object>"
            ]
          },
          "metadata": {
            "tags": []
          }
        },
        {
          "output_type": "stream",
          "text": [
            "[0. 1.]\n"
          ],
          "name": "stdout"
        }
      ]
    },
    {
      "cell_type": "code",
      "metadata": {
        "id": "o8wKBCzLoxBa",
        "colab_type": "code",
        "outputId": "ff2a527a-b15e-4eb0-c008-0c4b84f7f6ab",
        "colab": {
          "base_uri": "https://localhost:8080/",
          "height": 51
        }
      },
      "source": [
        "print(xtrain.shape)\n",
        "print(ytrain.shape)"
      ],
      "execution_count": 12,
      "outputs": [
        {
          "output_type": "stream",
          "text": [
            "(3376, 300, 300, 3)\n",
            "(3376, 2)\n"
          ],
          "name": "stdout"
        }
      ]
    },
    {
      "cell_type": "code",
      "metadata": {
        "id": "PweZ1h6qnOQt",
        "colab_type": "code",
        "outputId": "fd1af10b-5c92-470f-e60e-3da768771fa1",
        "colab": {
          "base_uri": "https://localhost:8080/",
          "height": 1000
        }
      },
      "source": [
        "from keras.models import Model\n",
        "from keras.layers import Input\n",
        "from keras.layers import Activation\n",
        "from keras.layers import Conv2D\n",
        "from keras.layers import MaxPooling2D\n",
        "from keras.layers import add\n",
        "from keras.utils import plot_model\n",
        "import keras\n",
        "\n",
        "input1 = keras.layers.Input(shape=(300,300,3))\n",
        "x0=keras.layers.ZeroPadding2D(padding=(3, 3))(input1)\n",
        "\n",
        "x1 = Conv2D(300,(7,7),strides=(2,2) ,activation='relu')(x0)\n",
        "x2=keras.layers.BatchNormalization(axis = 3)(x1)\n",
        "x3= Activation('relu')(x2)\n",
        "x4= MaxPooling2D((3, 3), strides=(2, 2))(x3)\n",
        "\n",
        "x5= Conv2D(200,(2,2),strides=(2,2) ,activation='relu')(x4)\n",
        "x6=keras.layers.BatchNormalization(axis = 3)(x5)\n",
        "x7= Activation('relu')(x6)\n",
        "x8= MaxPooling2D((3, 3), strides=(2, 2))(x7)\n",
        "\n",
        "x9= Conv2D(100,(2,2),strides=(2,2) ,activation='relu')(x8)\n",
        "x10=keras.layers.BatchNormalization(axis = 3)(x9)\n",
        "x11= Activation('relu')(x10)\n",
        "x12= MaxPooling2D((3, 3), strides=(2, 2))(x11)\n",
        "\n",
        "x13= Conv2D(50,(3,3),strides=(1,1) ,activation='relu')(x12)\n",
        "x14= Conv2D(40,(2,2),strides=(1,1) ,activation='relu')(x13)\n",
        "x15= Conv2D(30,(1,1),strides=(1,1) ,activation='relu')(x14)\n",
        "\n",
        "x15=keras.layers.ZeroPadding2D(padding=(2, 2))(x15)\n",
        "x16=keras.layers.BatchNormalization(axis = 3)(x15)\n",
        "x17= Activation('relu')(x16)\n",
        "x18= MaxPooling2D((2, 2), strides=(1, 1))(x17)\n",
        "\n",
        "x18=keras.layers.ZeroPadding2D(padding=(3, 3))(x18)\n",
        "x19= Conv2D(10,(2,2),strides=(2,2) ,activation='relu')(x18)\n",
        "x20=keras.layers.BatchNormalization(axis = 3)(x19)\n",
        "x21= Activation('relu')(x20)\n",
        "x22= MaxPooling2D((3, 3), strides=(2, 2))(x21)\n",
        "\n",
        "\n",
        "x23=keras.layers.ZeroPadding2D(padding=(1, 1))(x22)\n",
        "x24= Conv2D(10,(2,2),strides=(2,2) ,activation='relu')(x23)\n",
        "x25=keras.layers.BatchNormalization(axis = 3)(x24)\n",
        "x26= Activation('relu')(x25)\n",
        "x27= MaxPooling2D((2, 2), strides=(1, 1))(x26)\n",
        "\n",
        "\n",
        "\n",
        "\n",
        "\n",
        "o=keras.layers.Flatten()(x27)\n",
        "\n",
        "\n",
        "\n",
        "\n",
        "\n",
        "\n",
        "\n",
        "\n",
        "out = keras.layers.Dense(100,activation=\"relu\")(o)\n",
        "out = keras.layers.Dense(50,activation=\"relu\")(out)\n",
        "out = keras.layers.Dense(10,activation=\"relu\")(out)\n",
        "out1=keras.layers.Dense(2,activation=\"softmax\")(out)\n",
        "\n",
        "model = keras.models.Model(inputs=input1, outputs=out1)\n",
        "\n",
        "model.summary()"
      ],
      "execution_count": 13,
      "outputs": [
        {
          "output_type": "stream",
          "text": [
            "WARNING:tensorflow:From /usr/local/lib/python3.6/dist-packages/keras/backend/tensorflow_backend.py:66: The name tf.get_default_graph is deprecated. Please use tf.compat.v1.get_default_graph instead.\n",
            "\n",
            "WARNING:tensorflow:From /usr/local/lib/python3.6/dist-packages/keras/backend/tensorflow_backend.py:541: The name tf.placeholder is deprecated. Please use tf.compat.v1.placeholder instead.\n",
            "\n",
            "WARNING:tensorflow:From /usr/local/lib/python3.6/dist-packages/keras/backend/tensorflow_backend.py:4432: The name tf.random_uniform is deprecated. Please use tf.random.uniform instead.\n",
            "\n",
            "WARNING:tensorflow:From /usr/local/lib/python3.6/dist-packages/keras/backend/tensorflow_backend.py:190: The name tf.get_default_session is deprecated. Please use tf.compat.v1.get_default_session instead.\n",
            "\n",
            "WARNING:tensorflow:From /usr/local/lib/python3.6/dist-packages/keras/backend/tensorflow_backend.py:197: The name tf.ConfigProto is deprecated. Please use tf.compat.v1.ConfigProto instead.\n",
            "\n",
            "WARNING:tensorflow:From /usr/local/lib/python3.6/dist-packages/keras/backend/tensorflow_backend.py:203: The name tf.Session is deprecated. Please use tf.compat.v1.Session instead.\n",
            "\n",
            "WARNING:tensorflow:From /usr/local/lib/python3.6/dist-packages/keras/backend/tensorflow_backend.py:207: The name tf.global_variables is deprecated. Please use tf.compat.v1.global_variables instead.\n",
            "\n",
            "WARNING:tensorflow:From /usr/local/lib/python3.6/dist-packages/keras/backend/tensorflow_backend.py:216: The name tf.is_variable_initialized is deprecated. Please use tf.compat.v1.is_variable_initialized instead.\n",
            "\n",
            "WARNING:tensorflow:From /usr/local/lib/python3.6/dist-packages/keras/backend/tensorflow_backend.py:223: The name tf.variables_initializer is deprecated. Please use tf.compat.v1.variables_initializer instead.\n",
            "\n",
            "WARNING:tensorflow:From /usr/local/lib/python3.6/dist-packages/keras/backend/tensorflow_backend.py:2041: The name tf.nn.fused_batch_norm is deprecated. Please use tf.compat.v1.nn.fused_batch_norm instead.\n",
            "\n",
            "WARNING:tensorflow:From /usr/local/lib/python3.6/dist-packages/keras/backend/tensorflow_backend.py:148: The name tf.placeholder_with_default is deprecated. Please use tf.compat.v1.placeholder_with_default instead.\n",
            "\n",
            "WARNING:tensorflow:From /usr/local/lib/python3.6/dist-packages/keras/backend/tensorflow_backend.py:4267: The name tf.nn.max_pool is deprecated. Please use tf.nn.max_pool2d instead.\n",
            "\n",
            "Model: \"model_1\"\n",
            "_________________________________________________________________\n",
            "Layer (type)                 Output Shape              Param #   \n",
            "=================================================================\n",
            "input_1 (InputLayer)         (None, 300, 300, 3)       0         \n",
            "_________________________________________________________________\n",
            "zero_padding2d_1 (ZeroPaddin (None, 306, 306, 3)       0         \n",
            "_________________________________________________________________\n",
            "conv2d_1 (Conv2D)            (None, 150, 150, 300)     44400     \n",
            "_________________________________________________________________\n",
            "batch_normalization_1 (Batch (None, 150, 150, 300)     1200      \n",
            "_________________________________________________________________\n",
            "activation_1 (Activation)    (None, 150, 150, 300)     0         \n",
            "_________________________________________________________________\n",
            "max_pooling2d_1 (MaxPooling2 (None, 74, 74, 300)       0         \n",
            "_________________________________________________________________\n",
            "conv2d_2 (Conv2D)            (None, 37, 37, 200)       240200    \n",
            "_________________________________________________________________\n",
            "batch_normalization_2 (Batch (None, 37, 37, 200)       800       \n",
            "_________________________________________________________________\n",
            "activation_2 (Activation)    (None, 37, 37, 200)       0         \n",
            "_________________________________________________________________\n",
            "max_pooling2d_2 (MaxPooling2 (None, 18, 18, 200)       0         \n",
            "_________________________________________________________________\n",
            "conv2d_3 (Conv2D)            (None, 9, 9, 100)         80100     \n",
            "_________________________________________________________________\n",
            "batch_normalization_3 (Batch (None, 9, 9, 100)         400       \n",
            "_________________________________________________________________\n",
            "activation_3 (Activation)    (None, 9, 9, 100)         0         \n",
            "_________________________________________________________________\n",
            "max_pooling2d_3 (MaxPooling2 (None, 4, 4, 100)         0         \n",
            "_________________________________________________________________\n",
            "conv2d_4 (Conv2D)            (None, 2, 2, 50)          45050     \n",
            "_________________________________________________________________\n",
            "conv2d_5 (Conv2D)            (None, 1, 1, 40)          8040      \n",
            "_________________________________________________________________\n",
            "conv2d_6 (Conv2D)            (None, 1, 1, 30)          1230      \n",
            "_________________________________________________________________\n",
            "zero_padding2d_2 (ZeroPaddin (None, 5, 5, 30)          0         \n",
            "_________________________________________________________________\n",
            "batch_normalization_4 (Batch (None, 5, 5, 30)          120       \n",
            "_________________________________________________________________\n",
            "activation_4 (Activation)    (None, 5, 5, 30)          0         \n",
            "_________________________________________________________________\n",
            "max_pooling2d_4 (MaxPooling2 (None, 4, 4, 30)          0         \n",
            "_________________________________________________________________\n",
            "zero_padding2d_3 (ZeroPaddin (None, 10, 10, 30)        0         \n",
            "_________________________________________________________________\n",
            "conv2d_7 (Conv2D)            (None, 5, 5, 10)          1210      \n",
            "_________________________________________________________________\n",
            "batch_normalization_5 (Batch (None, 5, 5, 10)          40        \n",
            "_________________________________________________________________\n",
            "activation_5 (Activation)    (None, 5, 5, 10)          0         \n",
            "_________________________________________________________________\n",
            "max_pooling2d_5 (MaxPooling2 (None, 2, 2, 10)          0         \n",
            "_________________________________________________________________\n",
            "zero_padding2d_4 (ZeroPaddin (None, 4, 4, 10)          0         \n",
            "_________________________________________________________________\n",
            "conv2d_8 (Conv2D)            (None, 2, 2, 10)          410       \n",
            "_________________________________________________________________\n",
            "batch_normalization_6 (Batch (None, 2, 2, 10)          40        \n",
            "_________________________________________________________________\n",
            "activation_6 (Activation)    (None, 2, 2, 10)          0         \n",
            "_________________________________________________________________\n",
            "max_pooling2d_6 (MaxPooling2 (None, 1, 1, 10)          0         \n",
            "_________________________________________________________________\n",
            "flatten_1 (Flatten)          (None, 10)                0         \n",
            "_________________________________________________________________\n",
            "dense_1 (Dense)              (None, 100)               1100      \n",
            "_________________________________________________________________\n",
            "dense_2 (Dense)              (None, 50)                5050      \n",
            "_________________________________________________________________\n",
            "dense_3 (Dense)              (None, 10)                510       \n",
            "_________________________________________________________________\n",
            "dense_4 (Dense)              (None, 2)                 22        \n",
            "=================================================================\n",
            "Total params: 429,922\n",
            "Trainable params: 428,622\n",
            "Non-trainable params: 1,300\n",
            "_________________________________________________________________\n"
          ],
          "name": "stdout"
        }
      ]
    },
    {
      "cell_type": "code",
      "metadata": {
        "id": "AJGXK1g4nz3v",
        "colab_type": "code",
        "colab": {}
      },
      "source": [
        "def step_decay(epoch):\n",
        "\tinitial_lrate = 0.1\n",
        "\tdrop = 0.5\n",
        "\tepochs_drop = 10.0\n",
        "\tlrate = initial_lrate * math.pow(drop, math.floor((1+epoch)/epochs_drop))\n",
        "\treturn lrate"
      ],
      "execution_count": 0,
      "outputs": []
    },
    {
      "cell_type": "code",
      "metadata": {
        "id": "AdfQlFvsoSlP",
        "colab_type": "code",
        "outputId": "6452b7af-550b-47bb-b81d-896ebdc9a63e",
        "colab": {
          "base_uri": "https://localhost:8080/",
          "height": 51
        }
      },
      "source": [
        "print(xtrain.shape)\n",
        "print(ytrain.shape)"
      ],
      "execution_count": 15,
      "outputs": [
        {
          "output_type": "stream",
          "text": [
            "(3376, 300, 300, 3)\n",
            "(3376, 2)\n"
          ],
          "name": "stdout"
        }
      ]
    },
    {
      "cell_type": "code",
      "metadata": {
        "id": "1ew3LlF4n1AN",
        "colab_type": "code",
        "outputId": "3365ff16-6d17-4cb6-825c-813dbdf63f17",
        "colab": {
          "base_uri": "https://localhost:8080/",
          "height": 493
        }
      },
      "source": [
        "model.compile(loss=\"categorical_crossentropy\", optimizer=\"sgd\", metrics=['accuracy'])\n",
        "#model.compile(optimizer='rmsprop', loss='categorical_crossentropy' ,metrics=['accuracy'])\n",
        "history=model.fit(xtrain, ytrain, validation_split=(0.33), batch_size=20,epochs=8, verbose=1)"
      ],
      "execution_count": 16,
      "outputs": [
        {
          "output_type": "stream",
          "text": [
            "WARNING:tensorflow:From /usr/local/lib/python3.6/dist-packages/keras/optimizers.py:793: The name tf.train.Optimizer is deprecated. Please use tf.compat.v1.train.Optimizer instead.\n",
            "\n",
            "WARNING:tensorflow:From /usr/local/lib/python3.6/dist-packages/keras/backend/tensorflow_backend.py:3576: The name tf.log is deprecated. Please use tf.math.log instead.\n",
            "\n",
            "WARNING:tensorflow:From /tensorflow-1.15.0/python3.6/tensorflow_core/python/ops/math_grad.py:1424: where (from tensorflow.python.ops.array_ops) is deprecated and will be removed in a future version.\n",
            "Instructions for updating:\n",
            "Use tf.where in 2.0, which has the same broadcast rule as np.where\n",
            "WARNING:tensorflow:From /usr/local/lib/python3.6/dist-packages/keras/backend/tensorflow_backend.py:1033: The name tf.assign_add is deprecated. Please use tf.compat.v1.assign_add instead.\n",
            "\n",
            "WARNING:tensorflow:From /usr/local/lib/python3.6/dist-packages/keras/backend/tensorflow_backend.py:1020: The name tf.assign is deprecated. Please use tf.compat.v1.assign instead.\n",
            "\n",
            "Train on 2261 samples, validate on 1115 samples\n",
            "Epoch 1/8\n",
            "2261/2261 [==============================] - 517s 229ms/step - loss: 0.6667 - acc: 0.6126 - val_loss: 0.6490 - val_acc: 0.6529\n",
            "Epoch 2/8\n",
            "2261/2261 [==============================] - 516s 228ms/step - loss: 0.5658 - acc: 0.7881 - val_loss: 0.5975 - val_acc: 0.7731\n",
            "Epoch 3/8\n",
            "2261/2261 [==============================] - 515s 228ms/step - loss: 0.5290 - acc: 0.7886 - val_loss: 0.5282 - val_acc: 0.7812\n",
            "Epoch 4/8\n",
            "2261/2261 [==============================] - 517s 229ms/step - loss: 0.4178 - acc: 0.8651 - val_loss: 0.5589 - val_acc: 0.7148\n",
            "Epoch 5/8\n",
            "2261/2261 [==============================] - 514s 227ms/step - loss: 0.3782 - acc: 0.8775 - val_loss: 0.4596 - val_acc: 0.7991\n",
            "Epoch 6/8\n",
            "2261/2261 [==============================] - 517s 228ms/step - loss: 0.3179 - acc: 0.9071 - val_loss: 0.3356 - val_acc: 0.9022\n",
            "Epoch 7/8\n",
            "2261/2261 [==============================] - 514s 227ms/step - loss: 0.2756 - acc: 0.9284 - val_loss: 8.0807 - val_acc: 0.4987\n",
            "Epoch 8/8\n",
            "2261/2261 [==============================] - 514s 227ms/step - loss: 0.7023 - acc: 0.5409 - val_loss: 0.7832 - val_acc: 0.5013\n"
          ],
          "name": "stdout"
        }
      ]
    },
    {
      "cell_type": "code",
      "metadata": {
        "id": "A3aUJH_rS6v0",
        "colab_type": "code",
        "colab": {
          "base_uri": "https://localhost:8080/",
          "height": 51
        },
        "outputId": "2ddfda65-b7d2-44dd-9527-30d05f9acccb"
      },
      "source": [
        "model.evaluate(xtest,ytest)"
      ],
      "execution_count": 17,
      "outputs": [
        {
          "output_type": "stream",
          "text": [
            "1664/1664 [==============================] - 134s 80ms/step\n"
          ],
          "name": "stdout"
        },
        {
          "output_type": "execute_result",
          "data": {
            "text/plain": [
              "[0.7878809938063989, 0.5048076923076923]"
            ]
          },
          "metadata": {
            "tags": []
          },
          "execution_count": 17
        }
      ]
    },
    {
      "cell_type": "code",
      "metadata": {
        "id": "8YDuuB16S7Hi",
        "colab_type": "code",
        "colab": {
          "base_uri": "https://localhost:8080/",
          "height": 224
        },
        "outputId": "a7497572-76aa-4489-e2ef-6c1b26ffd27a"
      },
      "source": [
        "import numpy as np\n",
        "from sklearn.metrics import classification_report,confusion_matrix\n",
        "import itertools\n",
        "\n",
        "Y_pred = model.predict(xtest)\n",
        "y_pred = np.argmax(Y_pred, axis=1)\n",
        "target_names = ['class 0', 'class 1']\n",
        "print(classification_report(np.argmax(ytest,axis=1), y_pred,target_names=target_names))"
      ],
      "execution_count": 18,
      "outputs": [
        {
          "output_type": "stream",
          "text": [
            "              precision    recall  f1-score   support\n",
            "\n",
            "     class 0       0.00      0.00      0.00       824\n",
            "     class 1       0.50      1.00      0.67       840\n",
            "\n",
            "    accuracy                           0.50      1664\n",
            "   macro avg       0.25      0.50      0.34      1664\n",
            "weighted avg       0.25      0.50      0.34      1664\n",
            "\n"
          ],
          "name": "stdout"
        },
        {
          "output_type": "stream",
          "text": [
            "/usr/local/lib/python3.6/dist-packages/sklearn/metrics/_classification.py:1272: UndefinedMetricWarning: Precision and F-score are ill-defined and being set to 0.0 in labels with no predicted samples. Use `zero_division` parameter to control this behavior.\n",
            "  _warn_prf(average, modifier, msg_start, len(result))\n"
          ],
          "name": "stderr"
        }
      ]
    },
    {
      "cell_type": "code",
      "metadata": {
        "id": "oo5hhhTMv79q",
        "colab_type": "code",
        "colab": {
          "base_uri": "https://localhost:8080/",
          "height": 51
        },
        "outputId": "2799a5c5-b69a-4039-97bb-c3df49548199"
      },
      "source": [
        "model.evaluate(xtrain,ytrain)"
      ],
      "execution_count": 19,
      "outputs": [
        {
          "output_type": "stream",
          "text": [
            "3376/3376 [==============================] - 276s 82ms/step\n"
          ],
          "name": "stdout"
        },
        {
          "output_type": "execute_result",
          "data": {
            "text/plain": [
              "[0.7898353739372362, 0.4976303317535545]"
            ]
          },
          "metadata": {
            "tags": []
          },
          "execution_count": 19
        }
      ]
    },
    {
      "cell_type": "code",
      "metadata": {
        "id": "X9oonnfwv8LD",
        "colab_type": "code",
        "colab": {
          "base_uri": "https://localhost:8080/",
          "height": 224
        },
        "outputId": "fdaeb50d-a333-44fb-a861-37ec4a232412"
      },
      "source": [
        "import numpy as np\n",
        "from sklearn.metrics import classification_report,confusion_matrix\n",
        "import itertools\n",
        "\n",
        "Y_pred = model.predict(xtrain)\n",
        "y_pred = np.argmax(Y_pred, axis=1)\n",
        "target_names = ['class 0', 'class 1']\n",
        "print(classification_report(np.argmax(ytrain,axis=1), y_pred,target_names=target_names))"
      ],
      "execution_count": 20,
      "outputs": [
        {
          "output_type": "stream",
          "text": [
            "              precision    recall  f1-score   support\n",
            "\n",
            "     class 0       0.00      0.00      0.00      1696\n",
            "     class 1       0.50      1.00      0.66      1680\n",
            "\n",
            "    accuracy                           0.50      3376\n",
            "   macro avg       0.25      0.50      0.33      3376\n",
            "weighted avg       0.25      0.50      0.33      3376\n",
            "\n"
          ],
          "name": "stdout"
        },
        {
          "output_type": "stream",
          "text": [
            "/usr/local/lib/python3.6/dist-packages/sklearn/metrics/_classification.py:1272: UndefinedMetricWarning: Precision and F-score are ill-defined and being set to 0.0 in labels with no predicted samples. Use `zero_division` parameter to control this behavior.\n",
            "  _warn_prf(average, modifier, msg_start, len(result))\n"
          ],
          "name": "stderr"
        }
      ]
    }
  ]
}